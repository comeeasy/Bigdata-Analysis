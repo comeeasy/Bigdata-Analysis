{
 "cells": [
  {
   "cell_type": "markdown",
   "id": "5170852f",
   "metadata": {},
   "source": [
    "# 문제 6: 지하철역 승하차 인원 수집, 저장"
   ]
  },
  {
   "cell_type": "code",
   "execution_count": 1,
   "id": "2a7f671f",
   "metadata": {},
   "outputs": [],
   "source": [
    "import os\n",
    "import requests\n",
    "import json\n",
    "from pymongo import MongoClient\n",
    "import src.myOauth as OAuth"
   ]
  },
  {
   "cell_type": "code",
   "execution_count": 4,
   "id": "441aadbc",
   "metadata": {},
   "outputs": [],
   "source": [
    "_client = MongoClient(\"localhost:27017\")\n",
    "_db = _client['ds_open_subwayPassengersDB']\n",
    "_table = _db[\"db_open_subwayTable\"]\n",
    "\n",
    "def saveJson(fname, data):\n",
    "    import io\n",
    "    with io.open(fname, 'a', encoding='utf8') as json_file:\n",
    "        j = json.dump(data, json_file, ensure_ascii=False)\n",
    "        json_file.write(str(j)+\"\\n\")\n",
    "\n",
    "def readJson(fname):\n",
    "    for line in open(fname, 'r').readlines():\n",
    "        j = json.loads(line)\n",
    "        print(j[\"id\"])\n",
    "\n",
    "def saveDB(data):\n",
    "    _table.insert_one(data)\n",
    "\n",
    "def readDB():\n",
    "    for tweet in _table.find():\n",
    "        print(tweet[\"id\"], tweet[\"text\"])\n",
    "\n",
    "def saveFile(fname, data):\n",
    "    with open(fname, 'a') as f:\n",
    "        f.write(data+'\\n')        "
   ]
  },
  {
   "cell_type": "code",
   "execution_count": 6,
   "id": "5451b655",
   "metadata": {},
   "outputs": [
    {
     "name": "stdout",
     "output_type": "stream",
     "text": [
      "57497959747a7a313132306b6e47494f\n"
     ]
    }
   ],
   "source": [
    "public_keys = OAuth.getKey('data/key.properties')\n",
    "key = public_keys['dataseoul']\n",
    "print(key)"
   ]
  },
  {
   "cell_type": "code",
   "execution_count": 7,
   "id": "ef08738f",
   "metadata": {},
   "outputs": [
    {
     "name": "stdout",
     "output_type": "stream",
     "text": [
      "http://openAPI.seoul.go.kr:8088/57497959747a7a313132306b6e47494f/json/CardSubwayTime/1/5/202106\n"
     ]
    }
   ],
   "source": [
    "base_url = \"http://openAPI.seoul.go.kr:8088\"\n",
    "data_type = \"json\"\n",
    "service = \"CardSubwayTime\"\n",
    "start_idx = 1\n",
    "end_idx = 5\n",
    "use_mon = \"202106\"\n",
    "params = \"/\".join([key, data_type, service, str(start_idx), str(end_idx), use_mon])\n",
    "\n",
    "url = base_url + \"/\" + params\n",
    "print(url)"
   ]
  },
  {
   "cell_type": "code",
   "execution_count": null,
   "id": "502c5e65",
   "metadata": {},
   "outputs": [],
   "source": []
  }
 ],
 "metadata": {
  "kernelspec": {
   "display_name": "bigdata_analysis",
   "language": "python",
   "name": "bigdata_analysis"
  },
  "language_info": {
   "codemirror_mode": {
    "name": "ipython",
    "version": 3
   },
   "file_extension": ".py",
   "mimetype": "text/x-python",
   "name": "python",
   "nbconvert_exporter": "python",
   "pygments_lexer": "ipython3",
   "version": "3.8.11"
  }
 },
 "nbformat": 4,
 "nbformat_minor": 5
}
