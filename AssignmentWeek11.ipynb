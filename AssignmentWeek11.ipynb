{
 "cells": [
  {
   "cell_type": "code",
   "execution_count": 1,
   "id": "1a9a5d00",
   "metadata": {},
   "outputs": [],
   "source": [
    "from sklearn.datasets import make_blobs\n",
    "\n",
    "import numpy as np\n",
    "\n",
    "X, y = make_blobs(n_samples=100, centers=4, cluster_std=0.60, random_state=0)\n",
    "\n",
    "uX0, uX1 = np.mean(X, axis=0)\n",
    "sX0, sX1 = np.std(X, axis=0)"
   ]
  },
  {
   "cell_type": "code",
   "execution_count": 17,
   "id": "d7cd469e",
   "metadata": {},
   "outputs": [],
   "source": [
    "def k_meansClustering(x, k, centroids):\n",
    "    nRow, nCol = x.shape\n",
    "    \n",
    "    clusterAssigned = np.zeros(shape=(nRow, 2), dtype=float)\n",
    "    iter = 1\n",
    "    clusterUpdated = True\n",
    "    while clusterUpdated:\n",
    "        print (\"\\n\\n====== Iteration {} ======\".format(iter))\n",
    "        for i in range(nRow):\n",
    "            minDist = np.inf\n",
    "            minIndex = -1\n",
    "            for j in range(k):\n",
    "                distJ1 = normDist(centroids[j], x[i])\n",
    "                if distJ1 < minDist:\n",
    "                    minDist = distJ1\n",
    "                    minIndex = j\n",
    "            clusterAssigned[i] = [minIndex, minDist]\n",
    "        \n",
    "        _centroids=np.zeros(shape = (k, x.shape[1]), dtype=float)\n",
    "        for cent in range(k):\n",
    "            _centroids[cent] = np.mean(x[clusterAssigned[:, 0] == cent], axis=0)\n",
    "            \n",
    "        comparison = np.equal(centroids, _centroids)\n",
    "        if comparison.all() == True:\n",
    "            print (\"\\n.....NOT Updating Centroids\\n {} => \\n{}\".format(centroids, _centroids))\n",
    "            clusterUpdated = False\n",
    "            return centroids, clusterAssigned\n",
    "        else:\n",
    "            print (\"\\n.....Updating Centroids\\n {} => \\n{}\".format(centroids, _centroids))\n",
    "            centroids[:, :] = _centroids[:, :]\n",
    "            iter += 1"
   ]
  },
  {
   "cell_type": "code",
   "execution_count": 18,
   "id": "c92d1914",
   "metadata": {},
   "outputs": [],
   "source": [
    "def draw(x, centroids):\n",
    "    import matplotlib.pyplot as plt\n",
    "    plt.scatter(x[:,0], x[:,1], color='blue')\n",
    "    plt.scatter(centroids[:,0], centroids[:,1], color='red')"
   ]
  },
  {
   "cell_type": "code",
   "execution_count": 19,
   "id": "493af4d0",
   "metadata": {},
   "outputs": [],
   "source": [
    "def normDist(x1, x2):\n",
    "    return np.linalg.norm(x1 - x2)"
   ]
  },
  {
   "cell_type": "markdown",
   "id": "e14dca7a",
   "metadata": {},
   "source": [
    "### 문제 1: 클러스터의 중심점을 몇 회만에 찾는지, 매 반복 중심값만을 출력한다.\n",
    "\n",
    "- 위 cell에서 매 수행마다 바뀌는 centroids의 점을 출력하였다.\n",
    "\n",
    "- 4번만에 찾아내었다."
   ]
  },
  {
   "cell_type": "code",
   "execution_count": 21,
   "id": "cd58eb86",
   "metadata": {},
   "outputs": [
    {
     "name": "stdout",
     "output_type": "stream",
     "text": [
      "\n",
      "\n",
      "====== Iteration 1 ======\n",
      "\n",
      ".....Updating Centroids\n",
      " [[-1.53677297  1.53383102]\n",
      " [ 1.61324282  1.53383102]\n",
      " [-1.53677297  6.5734818 ]\n",
      " [ 1.61324282  6.5734818 ]] => \n",
      "[[-1.44593934  3.11923901]\n",
      " [ 1.76899692  1.55513831]\n",
      " [-1.23180895  7.26818137]\n",
      " [ 1.02554911  4.82690004]]\n",
      "\n",
      "\n",
      "====== Iteration 2 ======\n",
      "\n",
      ".....Updating Centroids\n",
      " [[-1.44593934  3.11923901]\n",
      " [ 1.76899692  1.55513831]\n",
      " [-1.23180895  7.26818137]\n",
      " [ 1.02554911  4.82690004]] => \n",
      "[[-1.46984735  3.1570263 ]\n",
      " [ 1.97918933  0.97920012]\n",
      " [-1.27208964  7.74944718]\n",
      " [ 0.91568734  4.32895204]]\n",
      "\n",
      "\n",
      "====== Iteration 3 ======\n",
      "\n",
      ".....Updating Centroids\n",
      " [[-1.46984735  3.1570263 ]\n",
      " [ 1.97918933  0.97920012]\n",
      " [-1.27208964  7.74944718]\n",
      " [ 0.91568734  4.32895204]] => \n",
      "[[-1.52704861  3.14337865]\n",
      " [ 1.97918933  0.97920012]\n",
      " [-1.27208964  7.74944718]\n",
      " [ 0.87673717  4.2964758 ]]\n",
      "\n",
      "\n",
      "====== Iteration 4 ======\n",
      "\n",
      ".....NOT Updating Centroids\n",
      " [[-1.52704861  3.14337865]\n",
      " [ 1.97918933  0.97920012]\n",
      " [-1.27208964  7.74944718]\n",
      " [ 0.87673717  4.2964758 ]] => \n",
      "[[-1.52704861  3.14337865]\n",
      " [ 1.97918933  0.97920012]\n",
      " [-1.27208964  7.74944718]\n",
      " [ 0.87673717  4.2964758 ]]\n"
     ]
    },
    {
     "data": {
      "image/png": "[encoded data removed]",
      "text/plain": [
       "<Figure size 432x288 with 1 Axes>"
      ]
     },
     "metadata": {
      "needs_background": "light"
     },
     "output_type": "display_data"
    }
   ],
   "source": [
    "centroids = np.array(\n",
    "    [[uX0 - sX0, uX1 - sX1], \n",
    "     [uX0 + sX0, uX1 - sX1],\n",
    "     [uX0 - sX0, uX1 + sX1],\n",
    "     [uX0 + sX0, uX1 + sX1]], dtype=float)\n",
    "k = 4\n",
    "\n",
    "k_meansClustering(X, k, centroids)\n",
    "draw(X, centroids)"
   ]
  },
  {
   "cell_type": "markdown",
   "id": "d3b0383f",
   "metadata": {},
   "source": [
    "### 문제 2 : 클러스터가 맞는지 비교하여 동일한지 확인하세요.\n",
    "\n",
    "- 기존의 label과 일치하는지 확인하면 된다."
   ]
  },
  {
   "cell_type": "code",
   "execution_count": 50,
   "id": "541a9bcb",
   "metadata": {},
   "outputs": [
    {
     "data": {
      "text/plain": [
       "<matplotlib.collections.PathCollection at 0x7f9db1e83ee0>"
      ]
     },
     "execution_count": 50,
     "metadata": {},
     "output_type": "execute_result"
    },
    {
     "data": {
      "image/png": "[encoded data removed]",
      "text/plain": [
       "<Figure size 432x288 with 1 Axes>"
      ]
     },
     "metadata": {
      "needs_background": "light"
     },
     "output_type": "display_data"
    }
   ],
   "source": [
    "%matplotlib inline\n",
    "import matplotlib.pyplot as plt\n",
    "\n",
    "colors = [\"blue\", \"green\", \"yellow\", \"gray\"]\n",
    "nLabel = 4\n",
    "\n",
    "for label in range(nLabel):\n",
    "    plt.scatter(X[y == label][:, 0], X[y == label][:, 1], color=colors[label])\n",
    "plt.scatter(centroids[:, 0], centroids[:, 1], color=\"red\")\n"
   ]
  },
  {
   "cell_type": "markdown",
   "id": "594bc456",
   "metadata": {},
   "source": [
    "- label 별로 색깔을 칠했더니 잘 분류한 것을 확인할 수 있다."
   ]
  }
 ],
 "metadata": {
  "kernelspec": {
   "display_name": "bigdata_analysis",
   "language": "python",
   "name": "bigdata_analysis"
  },
  "language_info": {
   "codemirror_mode": {
    "name": "ipython",
    "version": 3
   },
   "file_extension": ".py",
   "mimetype": "text/x-python",
   "name": "python",
   "nbconvert_exporter": "python",
   "pygments_lexer": "ipython3",
   "version": "3.8.11"
  }
 },
 "nbformat": 4,
 "nbformat_minor": 5
}
