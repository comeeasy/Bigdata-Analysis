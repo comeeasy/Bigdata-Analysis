{
 "cells": [
  {
   "cell_type": "markdown",
   "id": "39e9df82",
   "metadata": {},
   "source": [
    "# Create text file"
   ]
  },
  {
   "cell_type": "code",
   "execution_count": 1,
   "id": "5c03528f",
   "metadata": {},
   "outputs": [
    {
     "name": "stdout",
     "output_type": "stream",
     "text": [
      "Overwriting data/ds_spark_wiki.txt\n"
     ]
    }
   ],
   "source": [
    "%%writefile data/ds_spark_wiki.txt\n",
    "Wikipedia\n",
    "Apache Spark is an open source cluster computing framework.\n",
    "아파치 스파크는 오픈 소스 클러스터 컴퓨팅 프레임워크이다.\n",
    "Apache Spark Apache Spark Apache Spark Apache Spark\n",
    "아파치 스파크 아파치 스파크 아파치 스파크 아파치 스파크\n",
    "Originally developed at the University of California, Berkeley's AMPLab,\n",
    "the Spark codebase was later donated to the Apache Software Foundation,\n",
    "which has maintained it since.\n",
    "Spark provides an interface for programming entire clusters with\n",
    "implicit data parallelism and fault-tolerance."
   ]
  },
  {
   "cell_type": "markdown",
   "id": "c9be09f2",
   "metadata": {},
   "source": [
    "# To create RDD, using SparkContext"
   ]
  },
  {
   "cell_type": "code",
   "execution_count": 2,
   "id": "728c1df6",
   "metadata": {},
   "outputs": [
    {
     "name": "stderr",
     "output_type": "stream",
     "text": [
      "21/09/25 14:43:08 WARN NativeCodeLoader: Unable to load native-hadoop library for your platform... using builtin-java classes where applicable\n",
      "Using Spark's default log4j profile: org/apache/spark/log4j-defaults.properties\n",
      "Setting default log level to \"WARN\".\n",
      "To adjust logging level use sc.setLogLevel(newLevel). For SparkR, use setLogLevel(newLevel).\n"
     ]
    }
   ],
   "source": [
    "import pyspark\n",
    "\n",
    "myConf = pyspark.SparkConf()\n",
    "spark = pyspark.sql.SparkSession\\\n",
    "        .builder\\\n",
    "        .master(\"local\")\\\n",
    "        .appName(\"Week4\")\\\n",
    "        .config(conf=myConf)\\\n",
    "        .getOrCreate()"
   ]
  },
  {
   "cell_type": "code",
   "execution_count": 3,
   "id": "c37c7cd8",
   "metadata": {},
   "outputs": [
    {
     "data": {
      "text/plain": [
       "[('spark.master', 'local'),\n",
       " ('spark.app.name', 'Week4'),\n",
       " ('spark.rdd.compress', 'True'),\n",
       " ('spark.serializer.objectStreamReset', '100'),\n",
       " ('spark.driver.port', '51768'),\n",
       " ('spark.submit.pyFiles', ''),\n",
       " ('spark.executor.id', 'driver'),\n",
       " ('spark.submit.deployMode', 'client'),\n",
       " ('spark.driver.host', 'localhost'),\n",
       " ('spark.app.id', 'local-1632548589969'),\n",
       " ('spark.sql.warehouse.dir',\n",
       "  'file:/Users/joono/Desktop/joono/Bigdata-Analysis/spark-warehouse'),\n",
       " ('spark.app.startTime', '1632548589081'),\n",
       " ('spark.ui.showConsoleProgress', 'true')]"
      ]
     },
     "execution_count": 3,
     "metadata": {},
     "output_type": "execute_result"
    }
   ],
   "source": [
    "spark.sparkContext.getConf().getAll()"
   ]
  },
  {
   "cell_type": "code",
   "execution_count": 4,
   "id": "ebf44cdc",
   "metadata": {},
   "outputs": [
    {
     "name": "stderr",
     "output_type": "stream",
     "text": [
      "                                                                                \r"
     ]
    },
    {
     "data": {
      "text/plain": [
       "'Wikipedia'"
      ]
     },
     "execution_count": 4,
     "metadata": {},
     "output_type": "execute_result"
    }
   ],
   "source": [
    "myRdd = spark.sparkContext.textFile(\"data/ds_spark_wiki.txt\")\n",
    "myRdd.first()"
   ]
  },
  {
   "cell_type": "code",
   "execution_count": 7,
   "id": "ce437e89",
   "metadata": {},
   "outputs": [
    {
     "name": "stderr",
     "output_type": "stream",
     "text": [
      "                                                                                \r"
     ]
    },
    {
     "data": {
      "text/plain": [
       "[Row(value='Wikipedia'),\n",
       " Row(value='Apache Spark is an open source cluster computing framework.'),\n",
       " Row(value='아파치 스파크는 오픈 소스 클러스터 컴퓨팅 프레임워크이다.'),\n",
       " Row(value='Apache Spark Apache Spark Apache Spark Apache Spark'),\n",
       " Row(value='아파치 스파크 아파치 스파크 아파치 스파크 아파치 스파크')]"
      ]
     },
     "execution_count": 7,
     "metadata": {},
     "output_type": "execute_result"
    }
   ],
   "source": [
    "myDf = spark.read.text(\"data/ds_spark_wiki.txt\")\n",
    "myDf.take(5)"
   ]
  },
  {
   "cell_type": "code",
   "execution_count": 8,
   "id": "e5700df6",
   "metadata": {},
   "outputs": [
    {
     "name": "stdout",
     "output_type": "stream",
     "text": [
      "Writing ./data/ds_spark_2cols.csv\n"
     ]
    }
   ],
   "source": [
    "%%writefile ./data/ds_spark_2cols.csv\n",
    "35, 2\n",
    "40, 27\n",
    "12, 38\n",
    "15, 31\n",
    "21, 1\n",
    "14, 19\n",
    "46, 1\n",
    "10, 34\n",
    "28, 3\n",
    "48, 1\n",
    "16, 2\n",
    "30, 3\n",
    "32, 2\n",
    "48, 1\n",
    "31, 2\n",
    "22, 1\n",
    "12, 3\n",
    "39, 29\n",
    "19, 37\n",
    "25, 2"
   ]
  },
  {
   "cell_type": "code",
   "execution_count": 9,
   "id": "0182498e",
   "metadata": {},
   "outputs": [
    {
     "data": {
      "text/plain": [
       "['35, 2', '40, 27', '12, 38', '15, 31', '21, 1']"
      ]
     },
     "execution_count": 9,
     "metadata": {},
     "output_type": "execute_result"
    }
   ],
   "source": [
    "csvRdd = spark.sparkContext.textFile(\"data/ds_spark_2cols.csv\")\n",
    "csvRdd.take(5)"
   ]
  },
  {
   "cell_type": "code",
   "execution_count": 11,
   "id": "dca60142",
   "metadata": {},
   "outputs": [
    {
     "name": "stdout",
     "output_type": "stream",
     "text": [
      "WiredTiger\r\n",
      "WiredTiger.lock\r\n",
      "WiredTiger.turtle\r\n",
      "WiredTiger.wt\r\n",
      "WiredTigerHS.wt\r\n",
      "_mdb_catalog.wt\r\n",
      "assignmentWeek3.json\r\n",
      "assignment_result.xml\r\n",
      "collection-0--7581590572343549954.wt\r\n",
      "collection-2--7581590572343549954.wt\r\n",
      "collection-4--7581590572343549954.wt\r\n",
      "\u001b[1m\u001b[36mdiagnostic.data\u001b[m\u001b[m\r\n",
      "ds_open_hello.xml\r\n",
      "ds_open_subwayTime.json\r\n",
      "ds_spark_2cols.csv\r\n",
      "ds_spark_wiki.txt\r\n",
      "images.jpeg\r\n",
      "index-1--7581590572343549954.wt\r\n",
      "index-3--7581590572343549954.wt\r\n",
      "index-5--7581590572343549954.wt\r\n",
      "index-6--7581590572343549954.wt\r\n",
      "\u001b[1m\u001b[36mjournal\u001b[m\u001b[m\r\n",
      "key.properties\r\n",
      "mongod.lock\r\n",
      "sizeStorer.wt\r\n",
      "storage.bson\r\n",
      "경기도 의정부시_인구현황_20210910.csv\r\n",
      "제주특별자치도 서귀포시_고령화비율및노령화지수현황_20210831.csv\r\n"
     ]
    }
   ],
   "source": [
    "!ls data"
   ]
  },
  {
   "cell_type": "code",
   "execution_count": 15,
   "id": "dfc11c71",
   "metadata": {},
   "outputs": [
    {
     "data": {
      "text/plain": [
       "['행정기관,인구수(계),인구수(남),인구수(여),구성비(계),구성비(남),구성비(여),성비,세대수,세대당인구,관리기관명,관리부서명,부서전화번호,데이터기준일자\\r\\n의정부1동,32292,16538,15754,6.97,3.57,3.4,104.98,19998,1.61,의정부시,민원여권과,031-828-2466,2021-09-10\\r\\n의정부2동,31380,15608,15772,6.77,3.37,3.4,98.96,16410,1.91,의정부시,민원여권과,031-828-2466,2021-09-10\\r\\n호원1동,36124,17595,18529,7.8,3.8,4,94.96,15653,2.31,의정부시,민원여권과,031-828-2466,2021-09-10\\r\\n호원2동,34957,16923,18034,7.54,3.65,3.89,93.84,13683,2.55,의정부시,민원여권과,031-828-2466,2021-09-10\\r\\n장암동,20314,9714,10600,4.38,2.1,2.29,91.64,8604,2.36,의정부시,민원여권과,031-828-2466,2021-09-10\\r\\n신곡1동,43159,21205,21954,9.31,4.58,4.74,96.59,17990,2.4,의정부시,민원여권과,031-828-2466,2021-09-10\\r\\n신곡2동,47852,23232,24620,10.33,5.01,5.31,94.36,19218,2.49,의정부시,민원여권과,031-828-2466,2021-09-10\\r\\n송산1동,42817,21276,21541,9.24,4.59,4.65,98.77,18811,2.28,의정부시,민원여권과,031-828-2466,2021-09-10\\r\\n송산2동,33565,16601,16964,7.24,3.58,3.66,97.86,13216,2.54,의정부시,민원여권과,031-828-2466,2021-09-10\\r\\n송산3동,46892,22772,24120,10.12,4.91,5.21,94.41,17926,2.62,의정부시,민원여권과,031-828-2466,2021-09-10\\r\\n자금동,27087,13270,13817,5.85,2.86,2.98,96.04,11868,2.28,의정부시,민원여권과,031-828-2466,2021-09-10\\r\\n가능동,25990,12974,13016,5.61,2.8,2.81,99.68,12492,2.08,의정부시,민원여권과,031-828-2466,2021-09-10\\r\\n흥선동,19176,9769,9407,4.14,2.11,2.03,103.85,9380,2.04,의정부시,민원여권과,031-828-2466,2021-09-10\\r\\n녹양동,21768,10872,10896,4.7,2.35,2.35,99.78,9556,2.28,의정부시,민원여권과,031-828-2466,2021-09-10\\r\\n']"
      ]
     },
     "execution_count": 15,
     "metadata": {},
     "output_type": "execute_result"
    }
   ],
   "source": [
    "myRdd = spark.sparkContext.binaryFiles(\"data/경기도 의정부시_인구현황_20210910.csv\")\\\n",
    "                .map(lambda x: x[1].decode(\"euc-kr\"))\n",
    "myRdd.take(5)"
   ]
  },
  {
   "cell_type": "code",
   "execution_count": 16,
   "id": "4554d150",
   "metadata": {},
   "outputs": [],
   "source": [
    "myRdd = myRdd.map(lambda x: x.split(\",\"))"
   ]
  },
  {
   "cell_type": "code",
   "execution_count": 20,
   "id": "7a597240",
   "metadata": {},
   "outputs": [
    {
     "name": "stdout",
     "output_type": "stream",
     "text": [
      "['행정기관', '인구수(계)', '인구수(남)', '인구수(여)', '구성비(계)', '구성비(남)', '구성비(여)', '성비', '세대수', '세대당인구', '관리기관명', '관리부서명', '부서전화번호', '데이터기준일자\\r\\n의정부1동', '32292', '16538', '15754', '6.97', '3.57', '3.4', '104.98', '19998', '1.61', '의정부시', '민원여권과', '031-828-2466', '2021-09-10\\r\\n의정부2동', '31380', '15608', '15772', '6.77', '3.37', '3.4', '98.96', '16410', '1.91', '의정부시', '민원여권과', '031-828-2466', '2021-09-10\\r\\n호원1동', '36124', '17595', '18529', '7.8', '3.8', '4', '94.96', '15653', '2.31', '의정부시', '민원여권과', '031-828-2466', '2021-09-10\\r\\n호원2동', '34957', '16923', '18034', '7.54', '3.65', '3.89', '93.84', '13683', '2.55', '의정부시', '민원여권과', '031-828-2466', '2021-09-10\\r\\n장암동', '20314', '9714', '10600', '4.38', '2.1', '2.29', '91.64', '8604', '2.36', '의정부시', '민원여권과', '031-828-2466', '2021-09-10\\r\\n신곡1동', '43159', '21205', '21954', '9.31', '4.58', '4.74', '96.59', '17990', '2.4', '의정부시', '민원여권과', '031-828-2466', '2021-09-10\\r\\n신곡2동', '47852', '23232', '24620', '10.33', '5.01', '5.31', '94.36', '19218', '2.49', '의정부시', '민원여권과', '031-828-2466', '2021-09-10\\r\\n송산1동', '42817', '21276', '21541', '9.24', '4.59', '4.65', '98.77', '18811', '2.28', '의정부시', '민원여권과', '031-828-2466', '2021-09-10\\r\\n송산2동', '33565', '16601', '16964', '7.24', '3.58', '3.66', '97.86', '13216', '2.54', '의정부시', '민원여권과', '031-828-2466', '2021-09-10\\r\\n송산3동', '46892', '22772', '24120', '10.12', '4.91', '5.21', '94.41', '17926', '2.62', '의정부시', '민원여권과', '031-828-2466', '2021-09-10\\r\\n자금동', '27087', '13270', '13817', '5.85', '2.86', '2.98', '96.04', '11868', '2.28', '의정부시', '민원여권과', '031-828-2466', '2021-09-10\\r\\n가능동', '25990', '12974', '13016', '5.61', '2.8', '2.81', '99.68', '12492', '2.08', '의정부시', '민원여권과', '031-828-2466', '2021-09-10\\r\\n흥선동', '19176', '9769', '9407', '4.14', '2.11', '2.03', '103.85', '9380', '2.04', '의정부시', '민원여권과', '031-828-2466', '2021-09-10\\r\\n녹양동', '21768', '10872', '10896', '4.7', '2.35', '2.35', '99.78', '9556', '2.28', '의정부시', '민원여권과', '031-828-2466', '2021-09-10\\r\\n']\n"
     ]
    }
   ],
   "source": [
    "for elem in myRdd.take(10):\n",
    "    print(elem)\n"
   ]
  },
  {
   "cell_type": "code",
   "execution_count": 22,
   "id": "4f238231",
   "metadata": {},
   "outputs": [],
   "source": [
    "popDf = spark\\\n",
    "            .read.option(\"charset\", \"euc-kr\")\\\n",
    "            .option(\"header\", \"true\")\\\n",
    "            .csv(\"data/경기도 의정부시_인구현황_20210910.csv\")"
   ]
  },
  {
   "cell_type": "code",
   "execution_count": 24,
   "id": "17726418",
   "metadata": {},
   "outputs": [
    {
     "name": "stdout",
     "output_type": "stream",
     "text": [
      "+---------+----------+----------+----------+----------+----------+----------+------+------+----------+----------+----------+------------+--------------+\n",
      "| 행정기관|인구수(계)|인구수(남)|인구수(여)|구성비(계)|구성비(남)|구성비(여)|  성비|세대수|세대당인구|관리기관명|관리부서명|부서전화번호|데이터기준일자|\n",
      "+---------+----------+----------+----------+----------+----------+----------+------+------+----------+----------+----------+------------+--------------+\n",
      "|의정부1동|     32292|     16538|     15754|      6.97|      3.57|       3.4|104.98| 19998|      1.61|  의정부시|민원여권과|031-828-2466|    2021-09-10|\n",
      "|의정부2동|     31380|     15608|     15772|      6.77|      3.37|       3.4| 98.96| 16410|      1.91|  의정부시|민원여권과|031-828-2466|    2021-09-10|\n",
      "|  호원1동|     36124|     17595|     18529|       7.8|       3.8|         4| 94.96| 15653|      2.31|  의정부시|민원여권과|031-828-2466|    2021-09-10|\n",
      "|  호원2동|     34957|     16923|     18034|      7.54|      3.65|      3.89| 93.84| 13683|      2.55|  의정부시|민원여권과|031-828-2466|    2021-09-10|\n",
      "|   장암동|     20314|      9714|     10600|      4.38|       2.1|      2.29| 91.64|  8604|      2.36|  의정부시|민원여권과|031-828-2466|    2021-09-10|\n",
      "+---------+----------+----------+----------+----------+----------+----------+------+------+----------+----------+----------+------------+--------------+\n",
      "only showing top 5 rows\n",
      "\n"
     ]
    }
   ],
   "source": [
    "popDf.show(5)"
   ]
  },
  {
   "cell_type": "code",
   "execution_count": 27,
   "id": "e3cc5290",
   "metadata": {},
   "outputs": [
    {
     "name": "stdout",
     "output_type": "stream",
     "text": [
      "+------+---------------+----------------+---------------+----------+----------+--------------+\n",
      "|연도별|서귀포시 인구수|65세이상 인구수 |14세이하 인구수|고령화비율|노령화지수|데이터기준일자|\n",
      "+------+---------------+----------------+---------------+----------+----------+--------------+\n",
      "|  2012|         154057|           25826|          22861|     16.76|    112.97|    2021-08-31|\n",
      "|  2013|         155641|           26936|          22393|     17.31|    120.29|    2021-08-31|\n",
      "|  2014|         158512|           27877|          22058|     17.59|    126.38|    2021-08-31|\n",
      "|  2015|         164519|           28979|          22362|     17.61|    129.59|    2021-08-31|\n",
      "|  2016|         170932|           30030|          23044|     17.57|    130.32|    2021-08-31|\n",
      "+------+---------------+----------------+---------------+----------+----------+--------------+\n",
      "only showing top 5 rows\n",
      "\n"
     ]
    }
   ],
   "source": [
    "agedDf = spark.read.option(\"charset\", \"euc-kr\").option(\"header\", \"true\").csv(\"data/제주특별자치도 서귀포시_고령화비율및노령화지수현황_20210831.csv\")\n",
    "agedDf.show(5)"
   ]
  },
  {
   "cell_type": "code",
   "execution_count": 28,
   "id": "4fd4ce1e",
   "metadata": {},
   "outputs": [
    {
     "name": "stdout",
     "output_type": "stream",
     "text": [
      "Writing src/ds3_popCsvRead.py\n"
     ]
    }
   ],
   "source": [
    "%%writefile src/ds3_popCsvRead.py\n",
    "# -*- coding: UTF-8 -*-\n",
    "import os\n",
    "import pyspark\n",
    "\n",
    "def doIt():\n",
    "    print (\"---------RESULT-----------\")\n",
    "    popDf = spark\\\n",
    "                .read.option(\"charset\", \"euc-kr\")\\\n",
    "                .option(\"header\", \"true\")\\\n",
    "                .csv(os.path.join(\"data\",\"경기도 의정부시_인구현황_20210910.csv\"))\n",
    "    popDf.show(5)\n",
    "    agedDf = spark\\\n",
    "                .read.option(\"charset\", \"euc-kr\")\\\n",
    "                .option(\"header\", \"true\")\\\n",
    "                .csv(os.path.join(\"data\",\"제주특별자치도 서귀포시_고령화비율및노령화지수현황_20210831.csv\"))\n",
    "    agedDf.show(5)\n",
    "\n",
    "if __name__ == \"__main__\":\n",
    "    myConf=pyspark.SparkConf()\n",
    "    spark = pyspark.sql.SparkSession.builder\\\n",
    "        .master(\"local\")\\\n",
    "        .appName(\"myApp\")\\\n",
    "        .config(conf=myConf)\\\n",
    "        .getOrCreate()\n",
    "    doIt()\n",
    "    spark.stop()"
   ]
  },
  {
   "cell_type": "code",
   "execution_count": 29,
   "id": "ff23dd58",
   "metadata": {},
   "outputs": [
    {
     "name": "stdout",
     "output_type": "stream",
     "text": [
      "WARNING: An illegal reflective access operation has occurred\n",
      "WARNING: Illegal reflective access by org.apache.spark.unsafe.Platform (file:/opt/homebrew/Cellar/apache-spark/3.1.2/libexec/jars/spark-unsafe_2.12-3.1.2.jar) to constructor java.nio.DirectByteBuffer(long,int)\n",
      "WARNING: Please consider reporting this to the maintainers of org.apache.spark.unsafe.Platform\n",
      "WARNING: Use --illegal-access=warn to enable warnings of further illegal reflective access operations\n",
      "WARNING: All illegal access operations will be denied in a future release\n",
      "21/09/25 15:18:49 WARN NativeCodeLoader: Unable to load native-hadoop library for your platform... using builtin-java classes where applicable\n",
      "Using Spark's default log4j profile: org/apache/spark/log4j-defaults.properties\n",
      "21/09/25 15:18:50 INFO SparkContext: Running Spark version 3.1.2\n",
      "21/09/25 15:18:50 INFO ResourceUtils: ==============================================================\n",
      "21/09/25 15:18:50 INFO ResourceUtils: No custom resources configured for spark.driver.\n",
      "21/09/25 15:18:50 INFO ResourceUtils: ==============================================================\n",
      "21/09/25 15:18:50 INFO SparkContext: Submitted application: myApp\n",
      "21/09/25 15:18:50 INFO ResourceProfile: Default ResourceProfile created, executor resources: Map(cores -> name: cores, amount: 1, script: , vendor: , memory -> name: memory, amount: 1024, script: , vendor: , offHeap -> name: offHeap, amount: 0, script: , vendor: ), task resources: Map(cpus -> name: cpus, amount: 1.0)\n",
      "21/09/25 15:18:50 INFO ResourceProfile: Limiting resource is cpu\n",
      "21/09/25 15:18:50 INFO ResourceProfileManager: Added ResourceProfile id: 0\n",
      "21/09/25 15:18:50 INFO SecurityManager: Changing view acls to: joono\n",
      "21/09/25 15:18:50 INFO SecurityManager: Changing modify acls to: joono\n",
      "21/09/25 15:18:50 INFO SecurityManager: Changing view acls groups to: \n",
      "21/09/25 15:18:50 INFO SecurityManager: Changing modify acls groups to: \n",
      "21/09/25 15:18:50 INFO SecurityManager: SecurityManager: authentication disabled; ui acls disabled; users  with view permissions: Set(joono); groups with view permissions: Set(); users  with modify permissions: Set(joono); groups with modify permissions: Set()\n",
      "21/09/25 15:18:50 INFO Utils: Successfully started service 'sparkDriver' on port 52011.\n",
      "21/09/25 15:18:50 INFO SparkEnv: Registering MapOutputTracker\n",
      "21/09/25 15:18:50 INFO SparkEnv: Registering BlockManagerMaster\n",
      "21/09/25 15:18:50 INFO BlockManagerMasterEndpoint: Using org.apache.spark.storage.DefaultTopologyMapper for getting topology information\n",
      "21/09/25 15:18:50 INFO BlockManagerMasterEndpoint: BlockManagerMasterEndpoint up\n",
      "21/09/25 15:18:50 INFO SparkEnv: Registering BlockManagerMasterHeartbeat\n",
      "21/09/25 15:18:50 INFO DiskBlockManager: Created local directory at /private/var/folders/l4/0n86l_692hx8xxqz3fqkk6mm0000gn/T/blockmgr-0272aa15-1b8d-46f6-83bf-4fb71762ef68\n",
      "21/09/25 15:18:50 INFO MemoryStore: MemoryStore started with capacity 434.4 MiB\n",
      "21/09/25 15:18:50 INFO SparkEnv: Registering OutputCommitCoordinator\n",
      "21/09/25 15:18:50 WARN Utils: Service 'SparkUI' could not bind on port 4040. Attempting port 4041.\n",
      "21/09/25 15:18:50 INFO Utils: Successfully started service 'SparkUI' on port 4041.\n",
      "21/09/25 15:18:50 INFO SparkUI: Bound SparkUI to 127.0.0.1, and started at http://localhost:4041\n",
      "21/09/25 15:18:50 INFO Executor: Starting executor ID driver on host localhost\n",
      "21/09/25 15:18:50 INFO Utils: Successfully started service 'org.apache.spark.network.netty.NettyBlockTransferService' on port 52012.\n",
      "21/09/25 15:18:50 INFO NettyBlockTransferService: Server created on localhost:52012\n",
      "21/09/25 15:18:50 INFO BlockManager: Using org.apache.spark.storage.RandomBlockReplicationPolicy for block replication policy\n",
      "21/09/25 15:18:50 INFO BlockManagerMaster: Registering BlockManager BlockManagerId(driver, localhost, 52012, None)\n",
      "21/09/25 15:18:50 INFO BlockManagerMasterEndpoint: Registering block manager localhost:52012 with 434.4 MiB RAM, BlockManagerId(driver, localhost, 52012, None)\n",
      "21/09/25 15:18:50 INFO BlockManagerMaster: Registered BlockManager BlockManagerId(driver, localhost, 52012, None)\n",
      "21/09/25 15:18:50 INFO BlockManager: Initialized BlockManager: BlockManagerId(driver, localhost, 52012, None)\n",
      "21/09/25 15:18:50 INFO SharedState: Setting hive.metastore.warehouse.dir ('null') to the value of spark.sql.warehouse.dir ('file:/Users/joono/Desktop/joono/Bigdata-Analysis/spark-warehouse').\n",
      "21/09/25 15:18:50 INFO SharedState: Warehouse path is 'file:/Users/joono/Desktop/joono/Bigdata-Analysis/spark-warehouse'.\n",
      "---------RESULT-----------\n",
      "21/09/25 15:18:51 INFO InMemoryFileIndex: It took 23 ms to list leaf files for 1 paths.\n",
      "21/09/25 15:18:51 INFO InMemoryFileIndex: It took 1 ms to list leaf files for 1 paths.\n",
      "21/09/25 15:18:52 INFO FileSourceStrategy: Pushed Filters: \n",
      "21/09/25 15:18:52 INFO FileSourceStrategy: Post-Scan Filters: \n",
      "21/09/25 15:18:52 INFO FileSourceStrategy: Output Data Schema: struct<value: string>\n",
      "21/09/25 15:18:52 INFO MemoryStore: Block broadcast_0 stored as values in memory (estimated size 174.9 KiB, free 434.2 MiB)\n",
      "21/09/25 15:18:52 INFO MemoryStore: Block broadcast_0_piece0 stored as bytes in memory (estimated size 27.7 KiB, free 434.2 MiB)\n",
      "21/09/25 15:18:52 INFO BlockManagerInfo: Added broadcast_0_piece0 in memory on localhost:52012 (size: 27.7 KiB, free: 434.4 MiB)\n",
      "21/09/25 15:18:52 INFO SparkContext: Created broadcast 0 from csv at NativeMethodAccessorImpl.java:0\n",
      "21/09/25 15:18:52 INFO FileSourceScanExec: Planning scan with bin packing, max size: 4195881 bytes, open cost is considered as scanning 4194304 bytes.\n",
      "21/09/25 15:18:52 INFO CodeGenerator: Code generated in 102.823791 ms\n",
      "21/09/25 15:18:52 INFO SparkContext: Starting job: csv at NativeMethodAccessorImpl.java:0\n",
      "21/09/25 15:18:52 INFO DAGScheduler: Got job 0 (csv at NativeMethodAccessorImpl.java:0) with 1 output partitions\n",
      "21/09/25 15:18:52 INFO DAGScheduler: Final stage: ResultStage 0 (csv at NativeMethodAccessorImpl.java:0)\n",
      "21/09/25 15:18:52 INFO DAGScheduler: Parents of final stage: List()\n",
      "21/09/25 15:18:52 INFO DAGScheduler: Missing parents: List()\n",
      "21/09/25 15:18:52 INFO DAGScheduler: Submitting ResultStage 0 (MapPartitionsRDD[6] at csv at NativeMethodAccessorImpl.java:0), which has no missing parents\n",
      "21/09/25 15:18:52 INFO MemoryStore: Block broadcast_1 stored as values in memory (estimated size 14.3 KiB, free 434.2 MiB)\n",
      "21/09/25 15:18:52 INFO MemoryStore: Block broadcast_1_piece0 stored as bytes in memory (estimated size 6.6 KiB, free 434.2 MiB)\n",
      "21/09/25 15:18:52 INFO BlockManagerInfo: Added broadcast_1_piece0 in memory on localhost:52012 (size: 6.6 KiB, free: 434.4 MiB)\n",
      "21/09/25 15:18:52 INFO SparkContext: Created broadcast 1 from broadcast at DAGScheduler.scala:1388\n",
      "21/09/25 15:18:52 INFO DAGScheduler: Submitting 1 missing tasks from ResultStage 0 (MapPartitionsRDD[6] at csv at NativeMethodAccessorImpl.java:0) (first 15 tasks are for partitions Vector(0))\n",
      "21/09/25 15:18:52 INFO TaskSchedulerImpl: Adding task set 0.0 with 1 tasks resource profile 0\n",
      "21/09/25 15:18:52 INFO TaskSetManager: Starting task 0.0 in stage 0.0 (TID 0) (localhost, executor driver, partition 0, PROCESS_LOCAL, 4931 bytes) taskResourceAssignments Map()\n",
      "21/09/25 15:18:52 INFO Executor: Running task 0.0 in stage 0.0 (TID 0)\n",
      "21/09/25 15:18:52 INFO FileScanRDD: Reading File path: file:///Users/joono/Desktop/joono/Bigdata-Analysis/data/경기도%20의정부시_인구현황_20210910.csv, range: 0-1577, partition values: [empty row]\n",
      "21/09/25 15:18:52 INFO CodeGenerator: Code generated in 6.408333 ms\n",
      "21/09/25 15:18:52 INFO Executor: Finished task 0.0 in stage 0.0 (TID 0). 1727 bytes result sent to driver\n",
      "21/09/25 15:18:52 INFO TaskSetManager: Finished task 0.0 in stage 0.0 (TID 0) in 131 ms on localhost (executor driver) (1/1)\n",
      "21/09/25 15:18:52 INFO TaskSchedulerImpl: Removed TaskSet 0.0, whose tasks have all completed, from pool \n",
      "21/09/25 15:18:52 INFO DAGScheduler: ResultStage 0 (csv at NativeMethodAccessorImpl.java:0) finished in 0.210 s\n",
      "21/09/25 15:18:52 INFO DAGScheduler: Job 0 is finished. Cancelling potential speculative or zombie tasks for this job\n",
      "21/09/25 15:18:52 INFO TaskSchedulerImpl: Killing all running tasks in stage 0: Stage finished\n",
      "21/09/25 15:18:52 INFO DAGScheduler: Job 0 finished: csv at NativeMethodAccessorImpl.java:0, took 0.232999 s\n",
      "21/09/25 15:18:52 INFO CodeGenerator: Code generated in 6.429541 ms\n"
     ]
    },
    {
     "name": "stdout",
     "output_type": "stream",
     "text": [
      "21/09/25 15:18:52 INFO FileSourceStrategy: Pushed Filters: \n",
      "21/09/25 15:18:52 INFO FileSourceStrategy: Post-Scan Filters: \n",
      "21/09/25 15:18:52 INFO FileSourceStrategy: Output Data Schema: struct<행정기관: string, 인구수(계): string, 인구수(남): string, 인구수(여): string, 구성비(계): string ... 12 more fields>\n",
      "21/09/25 15:18:52 INFO MemoryStore: Block broadcast_2 stored as values in memory (estimated size 174.8 KiB, free 434.0 MiB)\n",
      "21/09/25 15:18:53 INFO MemoryStore: Block broadcast_2_piece0 stored as bytes in memory (estimated size 27.6 KiB, free 434.0 MiB)\n",
      "21/09/25 15:18:53 INFO BlockManagerInfo: Added broadcast_2_piece0 in memory on localhost:52012 (size: 27.6 KiB, free: 434.3 MiB)\n",
      "21/09/25 15:18:53 INFO SparkContext: Created broadcast 2 from showString at NativeMethodAccessorImpl.java:0\n",
      "21/09/25 15:18:53 INFO FileSourceScanExec: Planning scan with bin packing, max size: 4195881 bytes, open cost is considered as scanning 4194304 bytes.\n",
      "21/09/25 15:18:53 INFO SparkContext: Starting job: showString at NativeMethodAccessorImpl.java:0\n",
      "21/09/25 15:18:53 INFO DAGScheduler: Got job 1 (showString at NativeMethodAccessorImpl.java:0) with 1 output partitions\n",
      "21/09/25 15:18:53 INFO DAGScheduler: Final stage: ResultStage 1 (showString at NativeMethodAccessorImpl.java:0)\n",
      "21/09/25 15:18:53 INFO DAGScheduler: Parents of final stage: List()\n",
      "21/09/25 15:18:53 INFO DAGScheduler: Missing parents: List()\n",
      "21/09/25 15:18:53 INFO DAGScheduler: Submitting ResultStage 1 (MapPartitionsRDD[13] at showString at NativeMethodAccessorImpl.java:0), which has no missing parents\n",
      "21/09/25 15:18:53 INFO MemoryStore: Block broadcast_3 stored as values in memory (estimated size 10.4 KiB, free 434.0 MiB)\n",
      "21/09/25 15:18:53 INFO MemoryStore: Block broadcast_3_piece0 stored as bytes in memory (estimated size 5.5 KiB, free 434.0 MiB)\n",
      "21/09/25 15:18:53 INFO BlockManagerInfo: Added broadcast_3_piece0 in memory on localhost:52012 (size: 5.5 KiB, free: 434.3 MiB)\n",
      "21/09/25 15:18:53 INFO SparkContext: Created broadcast 3 from broadcast at DAGScheduler.scala:1388\n",
      "21/09/25 15:18:53 INFO DAGScheduler: Submitting 1 missing tasks from ResultStage 1 (MapPartitionsRDD[13] at showString at NativeMethodAccessorImpl.java:0) (first 15 tasks are for partitions Vector(0))\n",
      "21/09/25 15:18:53 INFO TaskSchedulerImpl: Adding task set 1.0 with 1 tasks resource profile 0\n",
      "21/09/25 15:18:53 INFO TaskSetManager: Starting task 0.0 in stage 1.0 (TID 1) (localhost, executor driver, partition 0, PROCESS_LOCAL, 4931 bytes) taskResourceAssignments Map()\n",
      "21/09/25 15:18:53 INFO Executor: Running task 0.0 in stage 1.0 (TID 1)\n",
      "21/09/25 15:18:53 INFO FileScanRDD: Reading File path: file:///Users/joono/Desktop/joono/Bigdata-Analysis/data/경기도%20의정부시_인구현황_20210910.csv, range: 0-1577, partition values: [empty row]\n",
      "21/09/25 15:18:53 INFO CodeGenerator: Code generated in 13.31475 ms\n",
      "21/09/25 15:18:53 INFO Executor: Finished task 0.0 in stage 1.0 (TID 1). 2046 bytes result sent to driver\n",
      "21/09/25 15:18:53 INFO TaskSetManager: Finished task 0.0 in stage 1.0 (TID 1) in 41 ms on localhost (executor driver) (1/1)\n",
      "21/09/25 15:18:53 INFO TaskSchedulerImpl: Removed TaskSet 1.0, whose tasks have all completed, from pool \n",
      "21/09/25 15:18:53 INFO DAGScheduler: ResultStage 1 (showString at NativeMethodAccessorImpl.java:0) finished in 0.048 s\n",
      "21/09/25 15:18:53 INFO DAGScheduler: Job 1 is finished. Cancelling potential speculative or zombie tasks for this job\n",
      "21/09/25 15:18:53 INFO TaskSchedulerImpl: Killing all running tasks in stage 1: Stage finished\n",
      "21/09/25 15:18:53 INFO DAGScheduler: Job 1 finished: showString at NativeMethodAccessorImpl.java:0, took 0.050326 s\n",
      "21/09/25 15:18:53 INFO CodeGenerator: Code generated in 13.462958 ms\n",
      "+---------+----------+----------+----------+----------+----------+----------+------+------+----------+----------+----------+------------+--------------+\n",
      "| 행정기관|인구수(계)|인구수(남)|인구수(여)|구성비(계)|구성비(남)|구성비(여)|  성비|세대수|세대당인구|관리기관명|관리부서명|부서전화번호|데이터기준일자|\n",
      "+---------+----------+----------+----------+----------+----------+----------+------+------+----------+----------+----------+------------+--------------+\n",
      "|의정부1동|     32292|     16538|     15754|      6.97|      3.57|       3.4|104.98| 19998|      1.61|  의정부시|민원여권과|031-828-2466|    2021-09-10|\n",
      "|의정부2동|     31380|     15608|     15772|      6.77|      3.37|       3.4| 98.96| 16410|      1.91|  의정부시|민원여권과|031-828-2466|    2021-09-10|\n",
      "|  호원1동|     36124|     17595|     18529|       7.8|       3.8|         4| 94.96| 15653|      2.31|  의정부시|민원여권과|031-828-2466|    2021-09-10|\n",
      "|  호원2동|     34957|     16923|     18034|      7.54|      3.65|      3.89| 93.84| 13683|      2.55|  의정부시|민원여권과|031-828-2466|    2021-09-10|\n",
      "|   장암동|     20314|      9714|     10600|      4.38|       2.1|      2.29| 91.64|  8604|      2.36|  의정부시|민원여권과|031-828-2466|    2021-09-10|\n",
      "+---------+----------+----------+----------+----------+----------+----------+------+------+----------+----------+----------+------------+--------------+\n",
      "only showing top 5 rows\n",
      "\n",
      "21/09/25 15:18:53 INFO InMemoryFileIndex: It took 0 ms to list leaf files for 1 paths.\n",
      "21/09/25 15:18:53 INFO InMemoryFileIndex: It took 0 ms to list leaf files for 1 paths.\n",
      "21/09/25 15:18:53 INFO FileSourceStrategy: Pushed Filters: \n",
      "21/09/25 15:18:53 INFO FileSourceStrategy: Post-Scan Filters: \n",
      "21/09/25 15:18:53 INFO FileSourceStrategy: Output Data Schema: struct<value: string>\n",
      "21/09/25 15:18:53 INFO MemoryStore: Block broadcast_4 stored as values in memory (estimated size 174.9 KiB, free 433.8 MiB)\n",
      "21/09/25 15:18:53 INFO MemoryStore: Block broadcast_4_piece0 stored as bytes in memory (estimated size 27.7 KiB, free 433.8 MiB)\n",
      "21/09/25 15:18:53 INFO BlockManagerInfo: Added broadcast_4_piece0 in memory on localhost:52012 (size: 27.7 KiB, free: 434.3 MiB)\n",
      "21/09/25 15:18:53 INFO SparkContext: Created broadcast 4 from csv at NativeMethodAccessorImpl.java:0\n",
      "21/09/25 15:18:53 INFO FileSourceScanExec: Planning scan with bin packing, max size: 4194887 bytes, open cost is considered as scanning 4194304 bytes.\n",
      "21/09/25 15:18:53 INFO SparkContext: Starting job: csv at NativeMethodAccessorImpl.java:0\n",
      "21/09/25 15:18:53 INFO DAGScheduler: Got job 2 (csv at NativeMethodAccessorImpl.java:0) with 1 output partitions\n",
      "21/09/25 15:18:53 INFO DAGScheduler: Final stage: ResultStage 2 (csv at NativeMethodAccessorImpl.java:0)\n",
      "21/09/25 15:18:53 INFO DAGScheduler: Parents of final stage: List()\n",
      "21/09/25 15:18:53 INFO DAGScheduler: Missing parents: List()\n",
      "21/09/25 15:18:53 INFO DAGScheduler: Submitting ResultStage 2 (MapPartitionsRDD[20] at csv at NativeMethodAccessorImpl.java:0), which has no missing parents\n",
      "21/09/25 15:18:53 INFO MemoryStore: Block broadcast_5 stored as values in memory (estimated size 14.3 KiB, free 433.8 MiB)\n",
      "21/09/25 15:18:53 INFO MemoryStore: Block broadcast_5_piece0 stored as bytes in memory (estimated size 6.6 KiB, free 433.8 MiB)\n",
      "21/09/25 15:18:53 INFO BlockManagerInfo: Added broadcast_5_piece0 in memory on localhost:52012 (size: 6.6 KiB, free: 434.3 MiB)\n",
      "21/09/25 15:18:53 INFO SparkContext: Created broadcast 5 from broadcast at DAGScheduler.scala:1388\n",
      "21/09/25 15:18:53 INFO DAGScheduler: Submitting 1 missing tasks from ResultStage 2 (MapPartitionsRDD[20] at csv at NativeMethodAccessorImpl.java:0) (first 15 tasks are for partitions Vector(0))\n",
      "21/09/25 15:18:53 INFO TaskSchedulerImpl: Adding task set 2.0 with 1 tasks resource profile 0\n",
      "21/09/25 15:18:53 INFO TaskSetManager: Starting task 0.0 in stage 2.0 (TID 2) (localhost, executor driver, partition 0, PROCESS_LOCAL, 4970 bytes) taskResourceAssignments Map()\n",
      "21/09/25 15:18:53 INFO Executor: Running task 0.0 in stage 2.0 (TID 2)\n",
      "21/09/25 15:18:53 INFO FileScanRDD: Reading File path: file:///Users/joono/Desktop/joono/Bigdata-Analysis/data/제주특별자치도%20서귀포시_고령화비율및노령화지수현황_20210831.csv, range: 0-583, partition values: [empty row]\n",
      "21/09/25 15:18:53 INFO Executor: Finished task 0.0 in stage 2.0 (TID 2). 1695 bytes result sent to driver\n",
      "21/09/25 15:18:53 INFO TaskSetManager: Finished task 0.0 in stage 2.0 (TID 2) in 7 ms on localhost (executor driver) (1/1)\n",
      "21/09/25 15:18:53 INFO TaskSchedulerImpl: Removed TaskSet 2.0, whose tasks have all completed, from pool \n",
      "21/09/25 15:18:53 INFO DAGScheduler: ResultStage 2 (csv at NativeMethodAccessorImpl.java:0) finished in 0.014 s\n",
      "21/09/25 15:18:53 INFO DAGScheduler: Job 2 is finished. Cancelling potential speculative or zombie tasks for this job\n",
      "21/09/25 15:18:53 INFO TaskSchedulerImpl: Killing all running tasks in stage 2: Stage finished\n",
      "21/09/25 15:18:53 INFO DAGScheduler: Job 2 finished: csv at NativeMethodAccessorImpl.java:0, took 0.015583 s\n",
      "21/09/25 15:18:53 INFO FileSourceStrategy: Pushed Filters: \n",
      "21/09/25 15:18:53 INFO FileSourceStrategy: Post-Scan Filters: \n",
      "21/09/25 15:18:53 INFO FileSourceStrategy: Output Data Schema: struct<연도별: string, 서귀포시 인구수: string, 65세이상 인구수 : string, 14세이하 인구수: string, 고령화비율: string ... 5 more fields>\n",
      "21/09/25 15:18:53 INFO MemoryStore: Block broadcast_6 stored as values in memory (estimated size 174.8 KiB, free 433.6 MiB)\n",
      "21/09/25 15:18:53 INFO MemoryStore: Block broadcast_6_piece0 stored as bytes in memory (estimated size 27.6 KiB, free 433.6 MiB)\n",
      "21/09/25 15:18:53 INFO BlockManagerInfo: Added broadcast_6_piece0 in memory on localhost:52012 (size: 27.6 KiB, free: 434.3 MiB)\n",
      "21/09/25 15:18:53 INFO SparkContext: Created broadcast 6 from showString at NativeMethodAccessorImpl.java:0\n",
      "21/09/25 15:18:53 INFO FileSourceScanExec: Planning scan with bin packing, max size: 4194887 bytes, open cost is considered as scanning 4194304 bytes.\n",
      "21/09/25 15:18:53 INFO SparkContext: Starting job: showString at NativeMethodAccessorImpl.java:0\n",
      "21/09/25 15:18:53 INFO DAGScheduler: Got job 3 (showString at NativeMethodAccessorImpl.java:0) with 1 output partitions\n",
      "21/09/25 15:18:53 INFO DAGScheduler: Final stage: ResultStage 3 (showString at NativeMethodAccessorImpl.java:0)\n",
      "21/09/25 15:18:53 INFO DAGScheduler: Parents of final stage: List()\n",
      "21/09/25 15:18:53 INFO DAGScheduler: Missing parents: List()\n",
      "21/09/25 15:18:53 INFO DAGScheduler: Submitting ResultStage 3 (MapPartitionsRDD[27] at showString at NativeMethodAccessorImpl.java:0), which has no missing parents\n"
     ]
    },
    {
     "name": "stdout",
     "output_type": "stream",
     "text": [
      "21/09/25 15:18:53 INFO MemoryStore: Block broadcast_7 stored as values in memory (estimated size 9.7 KiB, free 433.5 MiB)\n",
      "21/09/25 15:18:53 INFO MemoryStore: Block broadcast_7_piece0 stored as bytes in memory (estimated size 5.3 KiB, free 433.5 MiB)\n",
      "21/09/25 15:18:53 INFO BlockManagerInfo: Added broadcast_7_piece0 in memory on localhost:52012 (size: 5.3 KiB, free: 434.3 MiB)\n",
      "21/09/25 15:18:53 INFO SparkContext: Created broadcast 7 from broadcast at DAGScheduler.scala:1388\n",
      "21/09/25 15:18:53 INFO DAGScheduler: Submitting 1 missing tasks from ResultStage 3 (MapPartitionsRDD[27] at showString at NativeMethodAccessorImpl.java:0) (first 15 tasks are for partitions Vector(0))\n",
      "21/09/25 15:18:53 INFO TaskSchedulerImpl: Adding task set 3.0 with 1 tasks resource profile 0\n",
      "21/09/25 15:18:53 INFO TaskSetManager: Starting task 0.0 in stage 3.0 (TID 3) (localhost, executor driver, partition 0, PROCESS_LOCAL, 4970 bytes) taskResourceAssignments Map()\n",
      "21/09/25 15:18:53 INFO Executor: Running task 0.0 in stage 3.0 (TID 3)\n",
      "21/09/25 15:18:53 INFO FileScanRDD: Reading File path: file:///Users/joono/Desktop/joono/Bigdata-Analysis/data/제주특별자치도%20서귀포시_고령화비율및노령화지수현황_20210831.csv, range: 0-583, partition values: [empty row]\n",
      "21/09/25 15:18:53 INFO CodeGenerator: Code generated in 5.857708 ms\n",
      "21/09/25 15:18:53 INFO Executor: Finished task 0.0 in stage 3.0 (TID 3). 1690 bytes result sent to driver\n",
      "21/09/25 15:18:53 INFO TaskSetManager: Finished task 0.0 in stage 3.0 (TID 3) in 14 ms on localhost (executor driver) (1/1)\n",
      "21/09/25 15:18:53 INFO TaskSchedulerImpl: Removed TaskSet 3.0, whose tasks have all completed, from pool \n",
      "21/09/25 15:18:53 INFO DAGScheduler: ResultStage 3 (showString at NativeMethodAccessorImpl.java:0) finished in 0.019 s\n",
      "21/09/25 15:18:53 INFO DAGScheduler: Job 3 is finished. Cancelling potential speculative or zombie tasks for this job\n",
      "21/09/25 15:18:53 INFO TaskSchedulerImpl: Killing all running tasks in stage 3: Stage finished\n",
      "21/09/25 15:18:53 INFO DAGScheduler: Job 3 finished: showString at NativeMethodAccessorImpl.java:0, took 0.020244 s\n",
      "21/09/25 15:18:53 INFO CodeGenerator: Code generated in 7.716208 ms\n",
      "+------+---------------+----------------+---------------+----------+----------+--------------+\n",
      "|연도별|서귀포시 인구수|65세이상 인구수 |14세이하 인구수|고령화비율|노령화지수|데이터기준일자|\n",
      "+------+---------------+----------------+---------------+----------+----------+--------------+\n",
      "|  2012|         154057|           25826|          22861|     16.76|    112.97|    2021-08-31|\n",
      "|  2013|         155641|           26936|          22393|     17.31|    120.29|    2021-08-31|\n",
      "|  2014|         158512|           27877|          22058|     17.59|    126.38|    2021-08-31|\n",
      "|  2015|         164519|           28979|          22362|     17.61|    129.59|    2021-08-31|\n",
      "|  2016|         170932|           30030|          23044|     17.57|    130.32|    2021-08-31|\n",
      "+------+---------------+----------------+---------------+----------+----------+--------------+\n",
      "only showing top 5 rows\n",
      "\n",
      "21/09/25 15:18:53 INFO SparkUI: Stopped Spark web UI at http://localhost:4041\n",
      "21/09/25 15:18:53 INFO MapOutputTrackerMasterEndpoint: MapOutputTrackerMasterEndpoint stopped!\n",
      "21/09/25 15:18:53 INFO MemoryStore: MemoryStore cleared\n",
      "21/09/25 15:18:53 INFO BlockManager: BlockManager stopped\n",
      "21/09/25 15:18:53 INFO BlockManagerMaster: BlockManagerMaster stopped\n",
      "21/09/25 15:18:53 INFO OutputCommitCoordinator$OutputCommitCoordinatorEndpoint: OutputCommitCoordinator stopped!\n",
      "21/09/25 15:18:53 INFO SparkContext: Successfully stopped SparkContext\n",
      "21/09/25 15:18:53 INFO ShutdownHookManager: Shutdown hook called\n",
      "21/09/25 15:18:53 INFO ShutdownHookManager: Deleting directory /private/var/folders/l4/0n86l_692hx8xxqz3fqkk6mm0000gn/T/spark-d50d6695-ba31-4589-a60e-b7b405616d78/pyspark-a1ed5580-075d-4a43-acd3-398a283e1ced\n",
      "21/09/25 15:18:53 INFO ShutdownHookManager: Deleting directory /private/var/folders/l4/0n86l_692hx8xxqz3fqkk6mm0000gn/T/spark-d50d6695-ba31-4589-a60e-b7b405616d78\n",
      "21/09/25 15:18:53 INFO ShutdownHookManager: Deleting directory /private/var/folders/l4/0n86l_692hx8xxqz3fqkk6mm0000gn/T/spark-65fe4702-7485-4f79-aa8c-ad2257b09d69\n"
     ]
    }
   ],
   "source": [
    "!spark-submit src/ds3_popCsvRead.py"
   ]
  },
  {
   "cell_type": "code",
   "execution_count": 30,
   "id": "c4da7569",
   "metadata": {},
   "outputs": [
    {
     "data": {
      "text/plain": [
       "[1, 4, 9, 16]"
      ]
     },
     "execution_count": 30,
     "metadata": {},
     "output_type": "execute_result"
    }
   ],
   "source": [
    "nRdd = spark.sparkContext.parallelize([1, 2, 3, 4])\n",
    "squared = nRdd.map(lambda x: x*x)\n",
    "squared.collect() # result"
   ]
  },
  {
   "cell_type": "code",
   "execution_count": 32,
   "id": "06c2689b",
   "metadata": {},
   "outputs": [
    {
     "data": {
      "text/plain": [
       "[['35', ' 2'], ['40', ' 27'], ['12', ' 38'], ['15', ' 31'], ['21', ' 1']]"
      ]
     },
     "execution_count": 32,
     "metadata": {},
     "output_type": "execute_result"
    }
   ],
   "source": [
    "csvRdd_map = csvRdd.map(lambda line: line.split(\",\"))\n",
    "csvRdd_map.take(5)"
   ]
  },
  {
   "cell_type": "code",
   "execution_count": 34,
   "id": "7e562339",
   "metadata": {},
   "outputs": [
    {
     "data": {
      "text/plain": [
       "[[35, 2], [40, 27], [12, 38], [15, 31], [21, 1]]"
      ]
     },
     "execution_count": 34,
     "metadata": {},
     "output_type": "execute_result"
    }
   ],
   "source": [
    "csvRdd_map = csvRdd_map.map(lambda x: [int(i) for i in x])\n",
    "csvRdd_map.take(5)"
   ]
  },
  {
   "cell_type": "code",
   "execution_count": 36,
   "id": "89b6a9e6",
   "metadata": {},
   "outputs": [
    {
     "data": {
      "text/plain": [
       "10"
      ]
     },
     "execution_count": 36,
     "metadata": {},
     "output_type": "execute_result"
    }
   ],
   "source": [
    "myRdd2 = spark.sparkContext.textFile(\"data/ds_spark_wiki.txt\")\n",
    "sentences = myRdd2.map(lambda x: x.split())\n",
    "sentences.count()"
   ]
  },
  {
   "cell_type": "code",
   "execution_count": 37,
   "id": "2184d813",
   "metadata": {},
   "outputs": [
    {
     "data": {
      "text/plain": [
       "[['Wikipedia'],\n",
       " ['Apache',\n",
       "  'Spark',\n",
       "  'is',\n",
       "  'an',\n",
       "  'open',\n",
       "  'source',\n",
       "  'cluster',\n",
       "  'computing',\n",
       "  'framework.'],\n",
       " ['아파치', '스파크는', '오픈', '소스', '클러스터', '컴퓨팅', '프레임워크이다.']]"
      ]
     },
     "execution_count": 37,
     "metadata": {},
     "output_type": "execute_result"
    }
   ],
   "source": [
    "sentences.take(3)"
   ]
  },
  {
   "cell_type": "code",
   "execution_count": 38,
   "id": "24597a23",
   "metadata": {},
   "outputs": [
    {
     "name": "stdout",
     "output_type": "stream",
     "text": [
      "Wikipedia \n",
      "-----\n",
      "Apache Spark is an open source cluster computing framework. \n",
      "-----\n",
      "아파치 스파크는 오픈 소스 클러스터 컴퓨팅 프레임워크이다. \n",
      "-----\n",
      "Apache Spark Apache Spark Apache Spark Apache Spark \n",
      "-----\n",
      "아파치 스파크 아파치 스파크 아파치 스파크 아파치 스파크 \n",
      "-----\n",
      "Originally developed at the University of California, Berkeley's AMPLab, \n",
      "-----\n",
      "the Spark codebase was later donated to the Apache Software Foundation, \n",
      "-----\n",
      "which has maintained it since. \n",
      "-----\n",
      "Spark provides an interface for programming entire clusters with \n",
      "-----\n",
      "implicit data parallelism and fault-tolerance. \n",
      "-----\n"
     ]
    }
   ],
   "source": [
    "for line in sentences.collect():\n",
    "    for word in line:\n",
    "        print (word, end=\" \")\n",
    "    print (\"\\n-----\")"
   ]
  },
  {
   "cell_type": "code",
   "execution_count": 40,
   "id": "90c64e52",
   "metadata": {},
   "outputs": [
    {
     "data": {
      "text/plain": [
       "5050"
      ]
     },
     "execution_count": 40,
     "metadata": {},
     "output_type": "execute_result"
    }
   ],
   "source": [
    "myRdd100 = spark.sparkContext.parallelize(range(101))\n",
    "myRdd100.reduce(lambda subtotal, x: subtotal + x)"
   ]
  },
  {
   "cell_type": "code",
   "execution_count": 41,
   "id": "81723d3e",
   "metadata": {},
   "outputs": [
    {
     "name": "stdout",
     "output_type": "stream",
     "text": [
      "sum:  5050\n",
      "min:  0\n",
      "max:  100\n",
      "standard deviation: 29.154759474226502\n",
      "variance:  850.0\n"
     ]
    }
   ],
   "source": [
    "print (\"sum: \", myRdd100.sum())\n",
    "print (\"min: \", myRdd100.min())\n",
    "print (\"max: \", myRdd100.max())\n",
    "print (\"standard deviation:\", myRdd100.stdev())\n",
    "print (\"variance: \", myRdd100.variance())"
   ]
  },
  {
   "cell_type": "code",
   "execution_count": 42,
   "id": "4a7c9641",
   "metadata": {},
   "outputs": [
    {
     "name": "stdout",
     "output_type": "stream",
     "text": [
      "Writing data/ds_bigdata_wiki.txt\n"
     ]
    }
   ],
   "source": [
    "%%writefile data/ds_bigdata_wiki.txt\n",
    "Big data\n",
    "활용사례 및 의의[편집]\n",
    "정치 및 사회[편집]\n",
    "2008년 미국 대통령 선거[편집]\n",
    "2008년 미국 대통령 선거에서 버락 오바마 미국 대통령 후보는 다양한 형태의 유권자 데이터베이스를 확보하여 이를 분석, 활용한 '유권자 맞춤형 선거 전략'을 전개했다. 당시 오바마 캠프는 인종, 종교, 나이, 가구형태, 소비수준과 같은 기본 인적 사항으로 유권자를 분류하는 것을 넘어서서 과거 투표 여부, 구독하는 잡지, 마시는 음료 등 유권자 성향까지 전화나 개별 방문을 또는 소셜 미디어를 통해 유권자 정보를 수집하였다. 수집된 데이터는 오바마 캠프 본부로 전송되어 유권자 데이터베이스를 온라인으로 통합관리하는 ‘보트빌더(VoteBuilder.com)’시스템의 도움으로 유권자 성향 분석, 미결정 유권자 선별 , 유권자에 대한 예측을 해나갔다. 이를 바탕으로‘유권자 지도’를 작성한 뒤 ‘유권자 맞춤형 선거 전략’을 전개하는 등 오바마 캠프는 비용 대비 효과적인 선거를 치를 수 있었다.\n",
    "\n",
    "대한민국 제19대 총선[편집]\n",
    "중앙선거관리위원회는 대한민국 제19대 총선부터 소셜 네트워크 등 인터넷 상의 선거 운동을 상시 허용하였다.[15] 이에 소셜 미디어 상에서 선거 관련 데이터는 증폭되었으며, 2010년 대한민국 제5회 지방 선거 및 2011년 대한민국 재보궐선거에서 소셜 네트워크 서비스의 중요성을 확인한 정당들 또한 SNS 역량 지수를 공천 심사에 반영하는 등[16] 소셜 네트워크 활용에 주목했다. 이 가운데 여론 조사 기관들은 기존 여론조사 방식으로 예측한 2010년 제5회 지방 선거 및 2011년 재보궐선거의 여론조사 결과와 실제 투표 결과와의 큰 차이를 보완하고자 빅 데이터 기술을 활용한 SNS 여론 분석을 시행했다. 그러나 SNS 이용자의 대다수가 수도권 20~30대에 쏠려 있기에[17], 빅 데이터를 이용한 대한민국 제19대 총선에 대한 SNS 분석은 수도권으로 한정되어 일치하는 한계를 드러내기도 하였다.\n",
    "\n",
    "경제 및 경영[편집]\n",
    "아마존닷컴의 추천 상품 표시 / 구글 및 페이스북의 맞춤형 광고[편집]\n",
    "아마존닷컴은 모든 고객들의 구매 내역을 데이터베이스에 기록하고, 이 기록을 분석해 소비자의 소비 취향과 관심사를 파악한다.[18] 이런 빅 데이터의 활용을 통해 아마존은 고객별로 '추천 상품(레코멘데이션)'을 표시한다. 고객 한사람 한사람의 취미나 독서 경향을 찾아 그와 일치한다고 생각되는 상품을 메일, 홈 페이지상에서 중점적으로 고객 한사람 한사람에게 자동적으로 제시하는 것이다.[19] 아마존닷컴의 추천 상품 표시와 같은 방식으로 구글 및 페이스북도 이용자의 검색 조건, 나아가 사진과 동영상 같은 비정형 데이터 사용을 즉각 처리하여 이용자에게 맞춤형 광고를 제공하는 등 빅데이터의 활용을 증대시키고 있다.\n",
    "\n",
    "문화[편집]\n",
    "MLB (메이저 리그 베이스볼)의 머니볼 이론 및 데이터 야구[편집]\n",
    "머니볼 이론이란 경기 데이터를 철저하게 분석해 오직 데이터를 기반으로 적재적소에 선수들을 배치해 승률을 높인다는 게임 이론이다.[20] 이는 미국 메이저 리그 베이스볼 오클랜드 어슬레틱스의 구단장 빌리 빈이 리그 전체 25위에 해당하는 낮은 구단 지원금 속에서도 최소비용으로 최대효과를 거둔 상황에서 유래되었다. 빌리 빈은 하치해 최하위에 그치던 팀을 4년 연속 포스트시즌에 진출시키고 메이저 리그 최초로 20연승이라는 신기록을 세우도록 탈바꿈 시켰다. 미국 월스트리트 저널은 미국 경제에 큰 영향을 끼치는 파워 엘리트 30인에 워렌 버핏, 앨런 그린스펀과 함께 빌리 빈을 선정[21] 하는 등 머니볼 이론은 경영, 금융 분야에서도 주목받았다. 최근 들어서 과학기술 및 카메라 기술의 발달로 더욱 정교한 데이터의 수집이 가능해졌으며 투구의 궤적 및 투수의 그립, 타구 방향, 야수의 움직임까지 잡아낼 수 있게 되었다. 이처럼 기존의 정형 데이터뿐만 아닌 비정형 데이터의 수집과 분석, 활용을 통해 최근 야구경기에서 빅 데이터의 중요성은 더욱 커지고 있다.\n",
    "\n",
    "선수의 인기만을 쫓는 것이 아니라 팀별 승률이나 선수의 성적을 나타내는 수치와 야구를 관전한다면 그 재미는 배가된다. '출루율'은 타율로 인정되지 않는 볼넷을 포함하여 타자가 성공적으로 베이스를 밟은 횟수의 비율, '장타율'은 타수마다 밟은 총 베이스를 계산해서 타격력이 얼마나 강한지를 나타내는 비율이다.\n",
    "\n",
    "출루율과 장타율 못지 않게 '타수'는 한두 경기에서 낸 성적이 아닌, 수천 번의 타석에 들어 좋은 성적을 만들어낸 선수를 선별하기 위한 기초 통계자료이다. 이처럼 한 선수의 타율에서 팀의 역대 시리즈 전적까지 모든 것을 숫자로 표현할 수 있다고 해서 야구를 '통계의 스포츠'라고 부르기도 한다. 야구뿐만 아니라 생활 곳곳에서 활용되는 통계는 복잡한 상황과 설명을 간단한 숫자로 바꿔주는 매우 강력한 도구이다.[22]\n",
    "\n",
    "'프로파일링'과 '빅데이터' 기법을 활용한 프로그램 MBC <프로파일링>[편집]\n",
    "방송에는 19세 소년의 살인 심리를 파헤친 '용인살인사건의 재구성', 강남 3구 초등학교 85곳의 학업성취도평가 성적과 주변 아파트 매매가의 상관관계를 빅데이터(디지털 환경에서 발생한 방대한 규모의 데이터)를 통해 분석한 '강남, 부자일수록 공부를 잘할까'[23]\n",
    "\n",
    "2014년 FIFA 월드컵 독일 우승과 '빅데이터'[편집]\n",
    "브라질에서 개최된 2014년 FIFA 월드컵에서 독일은 준결승에서 개최국인 브라질을 7:1로 꺾고, 결승에서 아르헨티나와 연장전까지 가는 접전 끝에 1:0으로 승리를 거두었다. 무패행진으로 우승을 차지한 독일 국가대표팀의 우승의 배경에는 '빅데이터'가 있었다.\n",
    "\n",
    "독일 국가대표팀은 SAP와 협업하여 훈련과 실전 경기에 'SAP 매치 인사이트'를 도입했다. SAP 매치 인사이트란 선수들에게 부착된 센서를 통해 운동량, 순간속도, 심박수, 슈팅동작 등 방대한 비정형 데이터를 수집, 분석한 결과를 감독과 코치의 태블릿PC로 전송하여 그들이 데이터를 기반으로 전술을 짜도록 도와주는 솔루션이다. 기존에 감독의 경험이나 주관적 판단으로 결정되는 전략과는 달리, SAP 매치 인사이트를 통해 이루어지는 분석은 선수들에 대한 분석 뿐만 아니라 상대팀 전력, 강점, 약점 등 종합적인 분석을 통해 좀 더 과학적인 전략을 수립할 수 있다. 정보 수집에 쓰이는 센서 1개가 1분에 만들어내는 데이터는 총 12000여개로 독일 국가대표팀은 선수당 4개(골키퍼는 양 손목을 포함해 6개)의 센서를 부착했고, 90분 경기동안 한 선수당 약 432만개, 팀 전체로 약 4968만개의 데이터를 수집했다고 한다.월드컵8강 獨 전차군단 비밀병기는 '빅데이터'\n",
    "\n",
    "과학기술 및 활용[편집]\n",
    "통계학[편집]\n",
    "데이터 마이닝이란 기존 데이터베이스 관리도구의 데이터 수집, 저장, 관리, 분석의 역량을 넘어서는 대량의 정형 또는 비정형 데이터 집합 및 이러한 데이터로부터 가치를 추출하고 결과를 분석하는 기술로, 수집되는 ‘빅 데이터’를 보완하고 마케팅, 시청률조사, 경영 등으로부터 체계화돼 분류, 예측, 연관분석 등의 데이터 마이닝을 거쳐 통계학적으로 결과를 도출해 내고 있다.[24][25]\n",
    "\n",
    "대한민국에서는 2000년부터 정보통신부의 산하단체로 사단법인 한국BI데이터마이닝학회가 설립되어 데이터 마이닝에 관한 학술과 기술을 발전, 보급, 응용하고 있다. ‎또한 국내ㆍ외 통계분야에서 서서히 빅 데이터 활용에 대한 관심과 필요성이 커지고 있는 가운데 국가통계 업무를 계획하고 방대한 통계자료를 처리하는 국가기관인 통계청이 빅 데이터를 연구하고 활용방안을 모색하기 위한 '빅 데이터 연구회'를 발족하였다.[26] 하지만 업계에 따르면, 미국과 영국, 일본 등 선진국들은 이미 빅 데이터를 다각적으로 분석해 조직의 전략방향을 제시하는 데이터과학자 양성에 사활을 걸고 있다. 그러나 한국은 정부와 일부 기업이 데이터과학자 양성을 위한 프로그램을 진행 중에 있어 아직 걸음마 단계인 것으로 알려져 있다.[27]\n",
    "\n",
    "생물정보학[편집]\n",
    "최근 생물학에서 DNA, RNA, 단백질 서열 및 유전자들의 발현과 조절에 대한 데이터의 양이 급격히 증가했고 이에 따라 이 빅 데이터를 활용한 생명의 이해에 관한 논의가 진행되고 있다.\n",
    "\n",
    "보건의료[편집]\n",
    "국민건강보험공단은 가입자의 자격·보험료, 진료·투약내용, 건강검진 결과 및 생활습관 정보 등 2조1천억건, 92테라바이트의 빅데이터를 보유하고 있고, 한편, 건강보험심사평가원은 진료내역, 투약내용(의약품 안심서비스), 의약품 유통 등의 2조2천억건, 89테라바이트의 빅데이터를 보유하고 있으며, 경제협력개발기구(OECD)는 한국의 건강보험 빅데이터 순위가 2위라고 발표했었다. 건보공단과 심평원은 빅데이터를 민간에 널리 알리고 더 많이 개방하고 있다. (연합뉴스 2016.6.14 인터넷뉴스 참조)\n",
    "\n",
    "빅 데이터를 활용하면 미국 의료부문은 연간 3,300 억 달러(미 정부 의료 예산의 약 8%에 해당하는 규모)의 직간접적인 비용 절감 효과를 보일 것으로 전망된다.[28] 특히 임상분야에서는 의료기관 별 진료방법, 효능, 비용 데이터를 분석하여 보다 효과적인 진료방법을 파악하고 환자 데이터를 온라인 플랫폼화하여 의료협회 간 데이터 공유로 치료 효과를 제고하며 공중보건 영역에선 전국의 의료 데이터를 연계하여 전염병 발생과 같은 긴박한 순간에 빠른 의사결정을 가능케 할 전망이다.[29]\n",
    "\n",
    "한편, 의료 분야에서 빅 데이터가 효과를 발휘하기 위해서는 대량의 의료정보 수집이 필수적이기 때문에, 개인정보의 보호와 빅 데이터 활용이라는 두 가지 가치가 상충하게 되된다. 따라서, 의료 분야에서 빅 데이터의 활용과 보급을 위해서는 이러한 문제에 대한 가이드라인 마련이 필요한 상태이다.[30]\n",
    "\n",
    "기업 경영[편집]\n",
    "대규모의 다양한 데이터를 활용한 '빅데이터 경영'이 주목받으면서 데이터 품질을 높이고 방대한 데이터의 처리를 돕는 데이터 통합(Data Integration)의 중요성이 부각되고 있다.\n",
    "\n",
    "데이터 통합(DI)은 데이터의 추출, 변환, 적재를 위한 ETL 솔루션이 핵심인데 ETL 솔루션을 활용하면 일일이 수많은 데이터를 기업 데이터 포맷으로 코딩하지 않아도 되고 데이터 품질을 제고할 수 있기 때문에 DI는 빅데이터 환경에 꼭 필요한 데이터 솔루션으로 평가받고 있는 단계까지 진입되었다.\n",
    "\n",
    "한편 비즈니스 인텔리전스(Business Intelligence, BI)보다 진일보한 빅데이터 분석 방법이 비즈니스 애널리틱스(Business analytics, BA)인데 고급분석 범주에 있는 BA는 기본적으로 BI를 포함하면서도 미래 예측 기능과 통계분석, 확률 분석 등을 포함해 최적의 데이터 기반 의사결정을 가능케 하는 것으로 평가받고 있기도 하다.[31]\n",
    "\n",
    "마케팅[편집]\n",
    "인터넷으로 시작해서 인터넷으로 마감하는 생활, 스마트폰을 이용해 정보를 검색하고 쇼핑도하고 SNS를 이용해서 실시간으로 글을 남기는 등의 다양하게 인터넷을 이용하는 동안 남는 흔적같은 모인 데이터들을 분석하면 개인의 생활 패턴, 소비성향 등을 예측할 수 있고 기업들은 이런 데이터를 통해서 소비자가 원하는 것들을 미리 예측할 수 있다. 빅 데이터가 마케팅 자료로 활용되는 사례이다.[31]\n",
    "\n",
    "기상정보[편집]\n",
    "한반도 전역의 기상관측정보를 활용해 일기예보와 각종 기상특보 등 국가 기상서비스를 제공하고 있는 기상청은 정밀한 기상예측을 위한 분석 과정에서 발생하는 데이터 폭증에 대응하고자 빅데이터 저장시스템의 도입을 추진하였다.\n",
    "\n",
    "대다수 스토리지 기업들의 솔루션을 검토한 끝에 한국 IBM의 고성능 대용량 파일공유시스템(General Parallel File System, 이하 GPFS)을 적용한 스토리지 시스템을 선택하였다고 밝혔다.\n",
    "\n",
    "한국IBM이 기상청에 제공한 GPFS 기반의 빅데이터 저장시스템은 IBM 시스템 스토리지 제품군, 시스템 x서버 제품군과 고속 네트워킹 랙스위치(RackSwitch) 등이 통합돼 있는 시스템이다.[31]\n",
    "\n",
    "보안관리[편집]\n",
    "보안관리는 빅데이터 환경을 이용해 성장과 기술 발전을 동시에 이루는 분야로 분리한다. 클라우드 및 모바일 환경으로 접어들면서 물리/가상화 IT 시스템의 복잡성이 더욱 높아지고 있어 유무선 네트워크, 프라이빗/퍼블릭 클라우드, 모바일 애플리케이션과 기기관리 등 IT 시스템 전반에서 대대적인 변화가 예상되고 있어 막대한 양의 보안관리가 중요한 요소로 현실화되고 있다.[32]\n",
    "\n",
    "구글 번역[편집]\n",
    "구글에서 제공하는 자동 번역 서비스인 구글 번역은 빅 데이터를 활용한다. 지난 40년 간 컴퓨터 회사 IBM의 자동 번역 프로그램 개발은 컴퓨터가 명사, 형용사, 동사 등 단어와 어문의 문법적 구조를 인식하여 번역하는 방식으로 이뤄졌다. 이와 달리 2006년 구글은 수억 건의 문장과 번역문을 데이터베이스화하여 번역시 유사한 문장과 어구를 기존에 축적된 데이터를 바탕으로 추론해 나가는 통계적 기법을 개발하였다. 캐나다 의회의 수백만 건의 문서를 활용하여 영어-불어 자동번역 시스템개발을 시도한 IBM의 자동 번역 프로그램은 실패한 반면 구글은 수억 건의 자료를 활용하여 전 세계 58개 언어 간의 자동번역 프로그램 개발에 성공하였다. 이러한 사례로 미루어 볼 때, 데이터 양의 측면에서의 엄청난 차이가 두 기업의 자동 번역 프로그램의 번역의 질과 정확도를 결정했으며, 나아가 프로젝트의 성패를 좌우했다고 볼 수 있다.[31]"
   ]
  },
  {
   "cell_type": "code",
   "execution_count": 45,
   "id": "1963043a",
   "metadata": {},
   "outputs": [],
   "source": [
    "myRdd3 = spark.sparkContext.textFile(\"data/ds_bigdata_wiki.txt\")"
   ]
  },
  {
   "cell_type": "code",
   "execution_count": 46,
   "id": "ebbf2342",
   "metadata": {},
   "outputs": [
    {
     "name": "stdout",
     "output_type": "stream",
     "text": [
      "Big data\n",
      "활용사례 및 의의[편집]\n"
     ]
    }
   ],
   "source": [
    "for i in myRdd3.take(2):\n",
    "    print (i)"
   ]
  },
  {
   "cell_type": "code",
   "execution_count": 48,
   "id": "0a6e646e",
   "metadata": {},
   "outputs": [
    {
     "name": "stdout",
     "output_type": "stream",
     "text": [
      "Big/data/활용사례/및/의의[편집]/정치/및/사회[편집]/2008년/미국/"
     ]
    }
   ],
   "source": [
    "wc3=myRdd3\\\n",
    "    .flatMap(lambda x:x.split())\\\n",
    "    .take(10)\n",
    "for i in wc3:\n",
    "    print (i, end='/')"
   ]
  },
  {
   "cell_type": "code",
   "execution_count": 50,
   "id": "09949bb1",
   "metadata": {},
   "outputs": [
    {
     "name": "stdout",
     "output_type": "stream",
     "text": [
      "Big/data/활용사례/및/의의[편집]/정치/및/사회[편집]/"
     ]
    }
   ],
   "source": [
    "wc3=myRdd3\\\n",
    "    .map(lambda x:x.split())\\\n",
    "    .take(3)\n",
    "for i in wc3:\n",
    "    for j in i:\n",
    "        print (j, end='/')"
   ]
  },
  {
   "cell_type": "code",
   "execution_count": 51,
   "id": "14cbe8fd",
   "metadata": {},
   "outputs": [],
   "source": [
    "stopwords = set(['및','이를','등','이','이런','그와','또는','두', '이와', '전', '간'])\n",
    "wc3_stop1 = myRdd3\\\n",
    "    .flatMap(lambda x: x.split())\\\n",
    "    .filter(lambda x: x.lower() not in stopwords)\\\n",
    "    .take(10)"
   ]
  },
  {
   "cell_type": "code",
   "execution_count": 52,
   "id": "99ef1b9b",
   "metadata": {},
   "outputs": [
    {
     "name": "stdout",
     "output_type": "stream",
     "text": [
      "Big/data/활용사례/의의[편집]/정치/사회[편집]/2008년/미국/대통령/선거[편집]/"
     ]
    }
   ],
   "source": [
    "for i in wc3_stop1:\n",
    "    print (i, end='/')"
   ]
  },
  {
   "cell_type": "code",
   "execution_count": 53,
   "id": "353d13b4",
   "metadata": {},
   "outputs": [
    {
     "name": "stdout",
     "output_type": "stream",
     "text": [
      "('Big', 1)/('data', 1)/('활용사례', 1)/('및', 1)/('의의[편집]', 1)/('정치', 1)/('및', 1)/('사회[편집]', 1)/('2008년', 1)/('미국', 1)/"
     ]
    }
   ],
   "source": [
    "wc3=myRdd3\\\n",
    "    .flatMap(lambda x:x.split())\\\n",
    "    .map(lambda x:(x,1))\\\n",
    "    .take(10)\n",
    "for i in wc3:\n",
    "    print (i, end='/')"
   ]
  },
  {
   "cell_type": "code",
   "execution_count": 54,
   "id": "e419f33b",
   "metadata": {},
   "outputs": [
    {
     "name": "stderr",
     "output_type": "stream",
     "text": [
      "/opt/homebrew/Cellar/apache-spark/3.1.2/libexec/python/lib/pyspark.zip/pyspark/shuffle.py:60: UserWarning: Please install psutil to have better support with spilling\n"
     ]
    }
   ],
   "source": [
    "wc3=myRdd3\\\n",
    "    .flatMap(lambda x:x.split())\\\n",
    "    .filter(lambda x: x.lower() not in stopwords)\\\n",
    "    .map(lambda x:(x,1))\\\n",
    "    .reduceByKey(lambda x,y:x+y)\\\n",
    "    .map(lambda x:(x[1],x[0]))\\\n",
    "    .sortByKey(False)\\\n",
    "    .take(15)"
   ]
  },
  {
   "cell_type": "code",
   "execution_count": 55,
   "id": "776e6f7f",
   "metadata": {},
   "outputs": [
    {
     "name": "stdout",
     "output_type": "stream",
     "text": [
      "<class 'list'>\n",
      "21 데이터\n",
      "18 데이터를\n",
      "14 빅\n",
      "9 있다.\n",
      "8 수\n",
      "8 데이터의\n",
      "7 미국\n",
      "7 통해\n",
      "6 유권자\n",
      "6 선거\n",
      "6 대한\n",
      "6 빅데이터\n",
      "5 활용한\n",
      "5 소셜\n",
      "5 대한민국\n"
     ]
    }
   ],
   "source": [
    "print (type(wc3))\n",
    "for i in wc3:\n",
    "    print (i[0],i[1])"
   ]
  },
  {
   "cell_type": "code",
   "execution_count": null,
   "id": "b3d67fb7",
   "metadata": {},
   "outputs": [],
   "source": []
  }
 ],
 "metadata": {
  "kernelspec": {
   "display_name": "bigdata_analysis",
   "language": "python",
   "name": "bigdata_analysis"
  },
  "language_info": {
   "codemirror_mode": {
    "name": "ipython",
    "version": 3
   },
   "file_extension": ".py",
   "mimetype": "text/x-python",
   "name": "python",
   "nbconvert_exporter": "python",
   "pygments_lexer": "ipython3",
   "version": "3.8.11"
  }
 },
 "nbformat": 4,
 "nbformat_minor": 5
}
