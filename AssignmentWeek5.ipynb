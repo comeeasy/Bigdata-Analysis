{
 "cells": [
  {
   "cell_type": "markdown",
   "id": "557e688e",
   "metadata": {},
   "source": [
    "# S-3: 성적 합계 및 평균"
   ]
  },
  {
   "cell_type": "code",
   "execution_count": 1,
   "id": "db9d0270",
   "metadata": {},
   "outputs": [
    {
     "name": "stderr",
     "output_type": "stream",
     "text": [
      "21/10/02 14:15:26 WARN NativeCodeLoader: Unable to load native-hadoop library for your platform... using builtin-java classes where applicable\n",
      "Using Spark's default log4j profile: org/apache/spark/log4j-defaults.properties\n",
      "Setting default log level to \"WARN\".\n",
      "To adjust logging level use sc.setLogLevel(newLevel). For SparkR, use setLogLevel(newLevel).\n"
     ]
    }
   ],
   "source": [
    "import pyspark\n",
    "\n",
    "myConf = pyspark.SparkConf()\n",
    "spark = pyspark.sql.SparkSession\\\n",
    "        .builder\\\n",
    "        .master(\"local\")\\\n",
    "        .config(conf=myConf)\\\n",
    "        .appName(\"s-3\")\\\n",
    "        .getOrCreate()"
   ]
  },
  {
   "cell_type": "markdown",
   "id": "b93eaa83",
   "metadata": {},
   "source": [
    "### Original Data"
   ]
  },
  {
   "cell_type": "code",
   "execution_count": 2,
   "id": "5df6c006",
   "metadata": {},
   "outputs": [
    {
     "name": "stderr",
     "output_type": "stream",
     "text": [
      "                                                                                \r"
     ]
    },
    {
     "data": {
      "text/plain": [
       "[('김하나', 'English', 100),\n",
       " ('김하나', 'Math', 80),\n",
       " ('임하나', 'English', 70),\n",
       " ('임하나', 'Math', 100),\n",
       " ('김갑돌', 'English', 82.3),\n",
       " ('김갑돌', 'Math', 98.5)]"
      ]
     },
     "execution_count": 2,
     "metadata": {},
     "output_type": "execute_result"
    }
   ],
   "source": [
    "testList = [\n",
    "    ('김하나', 'English', 100),\n",
    "    ('김하나', 'Math', 80),\n",
    "    ('임하나', 'English', 70),\n",
    "    ('임하나', 'Math', 100),\n",
    "    ('김갑돌', 'English', 82.3),\n",
    "    ('김갑돌', 'Math', 98.5)\n",
    "           ]\n",
    "testRdd = spark.sparkContext.parallelize(testList)\n",
    "testRdd.collect()"
   ]
  },
  {
   "cell_type": "markdown",
   "id": "29805f0a",
   "metadata": {},
   "source": [
    "### 문제 3-1: 이름으로 합계 구하기"
   ]
  },
  {
   "cell_type": "code",
   "execution_count": 3,
   "id": "8524889c",
   "metadata": {},
   "outputs": [
    {
     "name": "stderr",
     "output_type": "stream",
     "text": [
      "/opt/homebrew/Cellar/apache-spark/3.1.2/libexec/python/lib/pyspark.zip/pyspark/shuffle.py:60: UserWarning: Please install psutil to have better support with spilling\n",
      "\r",
      "[Stage 1:>                                                          (0 + 1) / 1]\r"
     ]
    },
    {
     "name": "stdout",
     "output_type": "stream",
     "text": [
      "'김하나' 180\n",
      "'임하나' 170\n",
      "'김갑돌' 180.8\n"
     ]
    },
    {
     "name": "stderr",
     "output_type": "stream",
     "text": [
      "\r",
      "                                                                                \r"
     ]
    }
   ],
   "source": [
    "testRddMapped = testRdd.map(lambda x: (x[0], x[2]))\n",
    "testRddCbk = testRddMapped.combineByKey(lambda value: (value),\n",
    "                     lambda x, value: (x + value),\n",
    "                     lambda x, y: (x + y)\n",
    "                    )\n",
    "for elem in testRddCbk.collect():\n",
    "    print(f\"'{elem[0]}' {elem[1]}\")"
   ]
  },
  {
   "cell_type": "markdown",
   "id": "7b2dc4ce",
   "metadata": {},
   "source": [
    "### 문제 3-2: 과목으로 합계 구하기(과목을 key로 사용한다.)"
   ]
  },
  {
   "cell_type": "code",
   "execution_count": 4,
   "id": "2296e625",
   "metadata": {},
   "outputs": [
    {
     "name": "stdout",
     "output_type": "stream",
     "text": [
      "'English' 252.3\n",
      "'Math' 278.5\n"
     ]
    }
   ],
   "source": [
    "testRddMapped = testRdd.map(lambda x: (x[1], x[2]))\n",
    "testRddCbk = testRddMapped.combineByKey(lambda value: (value),\n",
    "                                        lambda x, value: (x+value),\n",
    "                                        lambda x, y: (x+y)\n",
    "                                       )\n",
    "for elem in testRddCbk.collect():\n",
    "    print(f\"'{elem[0]}' {elem[1]}\")"
   ]
  },
  {
   "cell_type": "markdown",
   "id": "5cb449a8",
   "metadata": {},
   "source": [
    "### 문제 3-3: 이름으로 합계와 개수를 구한다. (이름을 key로한다.)"
   ]
  },
  {
   "cell_type": "code",
   "execution_count": 15,
   "id": "ab8debcb",
   "metadata": {},
   "outputs": [
    {
     "name": "stdout",
     "output_type": "stream",
     "text": [
      "'김하나' (180, 2)\n",
      "'임하나' (170, 2)\n",
      "'김갑돌' (180.8, 2)\n"
     ]
    },
    {
     "name": "stderr",
     "output_type": "stream",
     "text": [
      "/opt/homebrew/Cellar/apache-spark/3.1.2/libexec/python/lib/pyspark.zip/pyspark/shuffle.py:60: UserWarning: Please install psutil to have better support with spilling\n"
     ]
    }
   ],
   "source": [
    "testRddMapped = testRdd.map(lambda x: (x[0], x[2])) # (name, score)\n",
    "testRddCbk = testRddMapped.combineByKey(\n",
    "            lambda value: (value, 1), # name: (score, count)\n",
    "            lambda x, value: (x[0] + value, x[1] + 1), # (_score + score, value + 1)\n",
    "            lambda x, y: (x[0]+y[0], x[1]+y[1])\n",
    ")\n",
    "\n",
    "for elem in testRddCbk.collect():\n",
    "    print(f\"'{elem[0]}' {elem[1]}\")"
   ]
  },
  {
   "cell_type": "markdown",
   "id": "205a4c21",
   "metadata": {},
   "source": [
    "### 문제 3-4: 이름으로 평균 계산하기 (이름을 key로 한다.)"
   ]
  },
  {
   "cell_type": "code",
   "execution_count": 17,
   "id": "23dfaa85",
   "metadata": {},
   "outputs": [
    {
     "name": "stdout",
     "output_type": "stream",
     "text": [
      "'김하나' 90.0\n",
      "'임하나' 85.0\n",
      "'김갑돌' 90.4\n"
     ]
    }
   ],
   "source": [
    "testRddResult = testRddCbk.map(\n",
    "    lambda x: (x[0], x[1][0] / x[1][1])\n",
    ")\n",
    "\n",
    "for elem in testRddResult.collect():\n",
    "    print(f\"'{elem[0]}' {elem[1]}\")"
   ]
  },
  {
   "cell_type": "code",
   "execution_count": 19,
   "id": "2951131b",
   "metadata": {},
   "outputs": [
    {
     "name": "stdout",
     "output_type": "stream",
     "text": [
      "Donw\n"
     ]
    }
   ],
   "source": [
    "spark.stop()\n",
    "print('Done')"
   ]
  },
  {
   "cell_type": "code",
   "execution_count": null,
   "id": "bda5bac4",
   "metadata": {},
   "outputs": [],
   "source": []
  }
 ],
 "metadata": {
  "kernelspec": {
   "display_name": "bigdata_analysis",
   "language": "python",
   "name": "bigdata_analysis"
  },
  "language_info": {
   "codemirror_mode": {
    "name": "ipython",
    "version": 3
   },
   "file_extension": ".py",
   "mimetype": "text/x-python",
   "name": "python",
   "nbconvert_exporter": "python",
   "pygments_lexer": "ipython3",
   "version": "3.8.11"
  }
 },
 "nbformat": 4,
 "nbformat_minor": 5
}
