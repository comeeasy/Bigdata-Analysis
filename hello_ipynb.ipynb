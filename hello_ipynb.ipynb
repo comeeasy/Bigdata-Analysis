{
 "cells": [
  {
   "cell_type": "markdown",
   "id": "084ad0b5",
   "metadata": {},
   "source": [
    "# Magic Commands"
   ]
  },
  {
   "cell_type": "markdown",
   "id": "17e92722",
   "metadata": {},
   "source": [
    "## 매직 명령어 for line\n",
    "\n",
    "- %run      : 파이선 프로그램 실행\n",
    "- %timeit   : 실행 시간 측정\n",
    "- %history : 이전 실행 명령어 출력\n",
    "- %load\n",
    "- %save\n",
    "- %ismagic"
   ]
  },
  {
   "cell_type": "markdown",
   "id": "cc4e7f30",
   "metadata": {},
   "source": [
    "## 매직 명령어 for cell\n",
    "- %% 가 2개 붙는다\n",
    "- %%writefile"
   ]
  },
  {
   "cell_type": "markdown",
   "id": "cd6e8e82",
   "metadata": {},
   "source": [
    "## Shell 명령어\n",
    "- !로 시작\n",
    "- !pwd\n",
    "- !ls"
   ]
  },
  {
   "cell_type": "code",
   "execution_count": 2,
   "id": "b3314a7a",
   "metadata": {},
   "outputs": [
    {
     "name": "stdout",
     "output_type": "stream",
     "text": [
      "Writing src/hello.py\n"
     ]
    }
   ],
   "source": [
    "%%writefile src/hello.py\n",
    "\n",
    "print('Hello world')"
   ]
  },
  {
   "cell_type": "code",
   "execution_count": 3,
   "id": "d94bd03b",
   "metadata": {},
   "outputs": [
    {
     "name": "stdout",
     "output_type": "stream",
     "text": [
      "Hello world\n"
     ]
    }
   ],
   "source": [
    "%run src/hello.py"
   ]
  },
  {
   "cell_type": "code",
   "execution_count": 5,
   "id": "ddbda0f3",
   "metadata": {},
   "outputs": [
    {
     "name": "stdout",
     "output_type": "stream",
     "text": [
      "267 ns ± 1.52 ns per loop (mean ± std. dev. of 7 runs, 1000000 loops each)\n"
     ]
    }
   ],
   "source": [
    "%timeit 2**128"
   ]
  },
  {
   "cell_type": "code",
   "execution_count": 6,
   "id": "97b4580a",
   "metadata": {},
   "outputs": [
    {
     "name": "stdout",
     "output_type": "stream",
     "text": [
      "## 매직 명령어 for shell\n",
      "%%writefile src/hello.py\n",
      "\n",
      "print('Hello world')\n",
      "%run src/hello.py\n",
      "% timeit 2**128\n",
      "%timeit 2**128\n",
      "%hist\n"
     ]
    }
   ],
   "source": [
    "%hist"
   ]
  },
  {
   "cell_type": "markdown",
   "id": "e008296e",
   "metadata": {},
   "source": [
    "### 이미지 넣기\n",
    "```bash\n",
    "![alt text](경로/파일명 \"주석\")\n",
    "```\n",
    "와 같이 이미지가 있는 로컬의 디렉토리와 파일명을 넣으면 이미지를 출력한다.<br> \n",
    "단 셀이 명령어 입력이 아니라 마크다운 입력 모드이어야 한다.\n",
    "\n",
    "예를 들면, figures 디렉토리의 png 파일을 출력하려면 다음과 같이 적어준다.\n",
    "![alt text](data/images.jpeg \"주석\")\n",
    "\n",
    "### 스크립트로 넣기"
   ]
  },
  {
   "cell_type": "code",
   "execution_count": 8,
   "id": "0b52a3e0",
   "metadata": {},
   "outputs": [
    {
     "data": {
      "image/jpeg": "[encoded data removed]",
      "text/plain": [
       "<IPython.core.display.Image object>"
      ]
     },
     "execution_count": 8,
     "metadata": {},
     "output_type": "execute_result"
    }
   ],
   "source": [
    "from IPython.display import Image\n",
    "import os\n",
    "\n",
    "data_dir = os.path.expanduser('.')+'/data'\n",
    "Image(filename=os.path.join(data_dir, 'images.jpeg'))"
   ]
  },
  {
   "cell_type": "markdown",
   "id": "d319702b",
   "metadata": {},
   "source": [
    "### HTML display"
   ]
  },
  {
   "cell_type": "code",
   "execution_count": 9,
   "id": "60996975",
   "metadata": {},
   "outputs": [
    {
     "data": {
      "text/html": [
       "\n",
       "<table>\n",
       "    <tr>\n",
       "        <th>Header 1</th>\n",
       "        <th>Header 2</th>\n",
       "    </tr>\n",
       "    <tr>\n",
       "        <td>row1, cell 1</td>\n",
       "        <td>row1, cell 2</td>\n",
       "    </tr>\n",
       "    <tr>\n",
       "        <td>row2, cell 1</td>\n",
       "        <td>row2, cell 2</td>\n",
       "    </tr>\n",
       "</table>\n"
      ],
      "text/plain": [
       "<IPython.core.display.HTML object>"
      ]
     },
     "execution_count": 9,
     "metadata": {},
     "output_type": "execute_result"
    }
   ],
   "source": [
    "import IPython.display as display\n",
    "\n",
    "display.HTML(\"\"\"\n",
    "<table>\n",
    "    <tr>\n",
    "        <th>Header 1</th>\n",
    "        <th>Header 2</th>\n",
    "    </tr>\n",
    "    <tr>\n",
    "        <td>row1, cell 1</td>\n",
    "        <td>row1, cell 2</td>\n",
    "    </tr>\n",
    "    <tr>\n",
    "        <td>row2, cell 1</td>\n",
    "        <td>row2, cell 2</td>\n",
    "    </tr>\n",
    "</table>\n",
    "\"\"\")"
   ]
  },
  {
   "cell_type": "markdown",
   "id": "034c9778",
   "metadata": {},
   "source": [
    "### Shell Commands"
   ]
  },
  {
   "cell_type": "code",
   "execution_count": 11,
   "id": "8d19617b",
   "metadata": {},
   "outputs": [
    {
     "data": {
      "text/plain": [
       "['/Users/joono/Desktop/joono/Bigdata-Analysis']"
      ]
     },
     "execution_count": 11,
     "metadata": {},
     "output_type": "execute_result"
    }
   ],
   "source": [
    "myPwd = !pwd\n",
    "myPwd"
   ]
  },
  {
   "cell_type": "code",
   "execution_count": 12,
   "id": "78ac3281",
   "metadata": {},
   "outputs": [
    {
     "data": {
      "text/plain": [
       "[PosixPath('/Users/joono/Desktop/joono/Bigdata-Analysis')]"
      ]
     },
     "execution_count": 12,
     "metadata": {},
     "output_type": "execute_result"
    }
   ],
   "source": [
    "myPwd.p"
   ]
  },
  {
   "cell_type": "code",
   "execution_count": 13,
   "id": "b44179c5",
   "metadata": {},
   "outputs": [
    {
     "data": {
      "text/plain": [
       "[['/Users/joono/Desktop/joono/Bigdata-Analysis']]"
      ]
     },
     "execution_count": 13,
     "metadata": {},
     "output_type": "execute_result"
    }
   ],
   "source": [
    "myPwd.fields()"
   ]
  },
  {
   "cell_type": "code",
   "execution_count": null,
   "id": "eaab5298",
   "metadata": {},
   "outputs": [],
   "source": []
  }
 ],
 "metadata": {
  "kernelspec": {
   "display_name": "bigdata_analysis",
   "language": "python",
   "name": "bigdata_analysis"
  },
  "language_info": {
   "codemirror_mode": {
    "name": "ipython",
    "version": 3
   },
   "file_extension": ".py",
   "mimetype": "text/x-python",
   "name": "python",
   "nbconvert_exporter": "python",
   "pygments_lexer": "ipython3",
   "version": "3.8.11"
  }
 },
 "nbformat": 4,
 "nbformat_minor": 5
}
