{
 "cells": [
  {
   "cell_type": "markdown",
   "id": "a514a2b8",
   "metadata": {},
   "source": [
    "# 파일에서 RDD 생성"
   ]
  },
  {
   "cell_type": "markdown",
   "id": "b20cbac0",
   "metadata": {},
   "source": [
    "## 문제 S-2: RDD를 사용하여 단어 빈도를 계산하고, 그래프 그리기"
   ]
  },
  {
   "cell_type": "markdown",
   "id": "0e4b3665",
   "metadata": {},
   "source": [
    "#### 1. spark session start"
   ]
  },
  {
   "cell_type": "code",
   "execution_count": 1,
   "id": "15ab6718",
   "metadata": {},
   "outputs": [
    {
     "name": "stderr",
     "output_type": "stream",
     "text": [
      "21/10/23 10:45:21 WARN NativeCodeLoader: Unable to load native-hadoop library for your platform... using builtin-java classes where applicable\n",
      "Using Spark's default log4j profile: org/apache/spark/log4j-defaults.properties\n",
      "Setting default log level to \"WARN\".\n",
      "To adjust logging level use sc.setLogLevel(newLevel). For SparkR, use setLogLevel(newLevel).\n"
     ]
    }
   ],
   "source": [
    "import pyspark \n",
    "\n",
    "spark = pyspark.sql.SparkSession\\\n",
    "    .builder\\\n",
    "    .master(\"local\")\\\n",
    "    .appName(\"midprac00\")\\\n",
    "    .config(conf=pyspark.SparkConf())\\\n",
    "    .getOrCreate()"
   ]
  },
  {
   "cell_type": "markdown",
   "id": "225084de",
   "metadata": {},
   "source": [
    "#### 2. RDD 생성 from file"
   ]
  },
  {
   "cell_type": "code",
   "execution_count": 4,
   "id": "3e556a7d",
   "metadata": {},
   "outputs": [
    {
     "data": {
      "text/plain": [
       "['Big data',\n",
       " '활용사례 및 의의[편집]',\n",
       " '정치 및 사회[편집]',\n",
       " '2008년 미국 대통령 선거[편집]',\n",
       " \"2008년 미국 대통령 선거에서 버락 오바마 미국 대통령 후보는 다양한 형태의 유권자 데이터베이스를 확보하여 이를 분석, 활용한 '유권자 맞춤형 선거 전략'을 전개했다. 당시 오바마 캠프는 인종, 종교, 나이, 가구형태, 소비수준과 같은 기본 인적 사항으로 유권자를 분류하는 것을 넘어서서 과거 투표 여부, 구독하는 잡지, 마시는 음료 등 유권자 성향까지 전화나 개별 방문을 또는 소셜 미디어를 통해 유권자 정보를 수집하였다. 수집된 데이터는 오바마 캠프 본부로 전송되어 유권자 데이터베이스를 온라인으로 통합관리하는 ‘보트빌더(VoteBuilder.com)’시스템의 도움으로 유권자 성향 분석, 미결정 유권자 선별 , 유권자에 대한 예측을 해나갔다. 이를 바탕으로‘유권자 지도’를 작성한 뒤 ‘유권자 맞춤형 선거 전략’을 전개하는 등 오바마 캠프는 비용 대비 효과적인 선거를 치를 수 있었다.\",\n",
       " '',\n",
       " '대한민국 제19대 총선[편집]',\n",
       " '중앙선거관리위원회는 대한민국 제19대 총선부터 소셜 네트워크 등 인터넷 상의 선거 운동을 상시 허용하였다.[15] 이에 소셜 미디어 상에서 선거 관련 데이터는 증폭되었으며, 2010년 대한민국 제5회 지방 선거 및 2011년 대한민국 재보궐선거에서 소셜 네트워크 서비스의 중요성을 확인한 정당들 또한 SNS 역량 지수를 공천 심사에 반영하는 등[16] 소셜 네트워크 활용에 주목했다. 이 가운데 여론 조사 기관들은 기존 여론조사 방식으로 예측한 2010년 제5회 지방 선거 및 2011년 재보궐선거의 여론조사 결과와 실제 투표 결과와의 큰 차이를 보완하고자 빅 데이터 기술을 활용한 SNS 여론 분석을 시행했다. 그러나 SNS 이용자의 대다수가 수도권 20~30대에 쏠려 있기에[17], 빅 데이터를 이용한 대한민국 제19대 총선에 대한 SNS 분석은 수도권으로 한정되어 일치하는 한계를 드러내기도 하였다.',\n",
       " '',\n",
       " '경제 및 경영[편집]']"
      ]
     },
     "execution_count": 4,
     "metadata": {},
     "output_type": "execute_result"
    }
   ],
   "source": [
    "myRdd = spark.sparkContext.textFile(\"data/ds_bigdata_wiki.txt\")\n",
    "\n",
    "myRdd.take(10)"
   ]
  },
  {
   "cell_type": "markdown",
   "id": "bf32a511",
   "metadata": {},
   "source": [
    "#### 3. word counter"
   ]
  },
  {
   "cell_type": "code",
   "execution_count": 6,
   "id": "b5e3ab40",
   "metadata": {},
   "outputs": [
    {
     "data": {
      "text/plain": [
       "[['Big', 'data'], ['활용사례', '및', '의의[편집]'], ['정치', '및', '사회[편집]']]"
      ]
     },
     "execution_count": 6,
     "metadata": {},
     "output_type": "execute_result"
    }
   ],
   "source": [
    "# list of list 로 결과가 나옴 이들을 모두 풀어줘야함\n",
    "wc = myRdd.map(lambda x: x.split())\n",
    "wc.take(3)"
   ]
  },
  {
   "cell_type": "code",
   "execution_count": 8,
   "id": "e27550a8",
   "metadata": {},
   "outputs": [
    {
     "data": {
      "text/plain": [
       "['Big', 'data', '활용사례', '및', '의의[편집]', '정치', '및', '사회[편집]']"
      ]
     },
     "execution_count": 8,
     "metadata": {},
     "output_type": "execute_result"
    }
   ],
   "source": [
    "wc = myRdd.flatMap(lambda x: x.split())\n",
    "wc.take(8)"
   ]
  },
  {
   "cell_type": "markdown",
   "id": "ee2c01c1",
   "metadata": {},
   "source": [
    "#### 4. stopwords 제거\n",
    "\n",
    "- 한글은 unicode, 영어는 소문자로 바꾼 후 비교하여 제거한다.\n",
    "- stopword는 영어는 정의돼있지만 한글은 수작업으로 정의해야한다."
   ]
  },
  {
   "cell_type": "code",
   "execution_count": 18,
   "id": "2a126c9b",
   "metadata": {},
   "outputs": [],
   "source": [
    "stopwords = set(['및', '이를', '등', '이', '이런', '그와', '또는', '두', '이와', '전', '간', '있다.', '수'])\n",
    "wc = myRdd\\\n",
    "    .flatMap(lambda x: x.split())\\\n",
    "    .filter(lambda x: x not in stopwords)"
   ]
  },
  {
   "cell_type": "markdown",
   "id": "8454df90",
   "metadata": {},
   "source": [
    "#### 5. word count"
   ]
  },
  {
   "cell_type": "code",
   "execution_count": 19,
   "id": "7f899c78",
   "metadata": {},
   "outputs": [
    {
     "data": {
      "text/plain": [
       "[(21, '데이터'),\n",
       " (18, '데이터를'),\n",
       " (14, '빅'),\n",
       " (8, '데이터의'),\n",
       " (7, '미국'),\n",
       " (7, '통해'),\n",
       " (6, '유권자'),\n",
       " (6, '선거'),\n",
       " (6, '대한'),\n",
       " (6, '빅데이터'),\n",
       " (5, '활용한'),\n",
       " (5, '소셜'),\n",
       " (5, '대한민국'),\n",
       " (5, '위한'),\n",
       " (5, '있는')]"
      ]
     },
     "execution_count": 19,
     "metadata": {},
     "output_type": "execute_result"
    }
   ],
   "source": [
    "wc = myRdd\\\n",
    "    .flatMap(lambda x: x.split())\\\n",
    "    .filter(lambda x: x not in stopwords)\\\n",
    "    .map(lambda x: (x, 1))\\\n",
    "    .reduceByKey(lambda x, y: x+y)\\\n",
    "    .map(lambda x: (x[1], x[0]))\\\n",
    "    .sortByKey(False)\n",
    "\n",
    "wc.take(15)"
   ]
  },
  {
   "cell_type": "code",
   "execution_count": 35,
   "id": "de053554",
   "metadata": {},
   "outputs": [
    {
     "data": {
      "image/png": "[encoded data removed]",
      "text/plain": [
       "<Figure size 432x288 with 1 Axes>"
      ]
     },
     "metadata": {
      "needs_background": "light"
     },
     "output_type": "display_data"
    }
   ],
   "source": [
    "%matplotlib inline\n",
    "import matplotlib.pyplot as plt\n",
    "\n",
    "wcList = wc.collect()\n",
    "value = [i[0] for i in wcList[:10]]\n",
    "label = [i[1] for i in wcList[:10]]\n",
    "\n",
    "plt.rc(\"font\", family=\"Apple SD Gothic Neo\")\n",
    "plt.barh(range(len(value)), value, color='green')\n",
    "plt.yticks(range(len(value)), label)\n",
    "plt.show()"
   ]
  },
  {
   "cell_type": "markdown",
   "id": "83247dc3",
   "metadata": {},
   "source": [
    "#### # font chech"
   ]
  },
  {
   "cell_type": "code",
   "execution_count": 32,
   "id": "9e197c0d",
   "metadata": {},
   "outputs": [
    {
     "name": "stdout",
     "output_type": "stream",
     "text": [
      "<Font 'Apple SD Gothic Neo' (AppleSDGothicNeo.ttc) normal normal 400 normal>\n",
      "<Font 'AppleMyungjo' (AppleMyungjo.ttf) normal normal 400 normal>\n",
      "<Font 'Noto Sans Gothic' (NotoSansGothic-Regular.ttf) normal normal 400 normal>\n",
      "<Font 'AppleGothic' (AppleGothic.ttf) normal normal 400 normal>\n",
      "<Font 'Hiragino Maru Gothic Pro' (ヒラギノ丸ゴ ProN W4.ttc) normal normal 400 normal>\n"
     ]
    }
   ],
   "source": [
    "from matplotlib import font_manager\n",
    "for font in font_manager.fontManager.ttflist:\n",
    "    if \"Myungjo\" in font.name or \"Nanum\" in font.name or \"Gothic\" in font.name:\n",
    "        print(font)"
   ]
  },
  {
   "cell_type": "markdown",
   "id": "eef4ccca",
   "metadata": {},
   "source": [
    "## 문제 S-3: 성적 합계 및 평균"
   ]
  },
  {
   "cell_type": "code",
   "execution_count": 36,
   "id": "a87c43a9",
   "metadata": {},
   "outputs": [],
   "source": [
    "columns = [\"name\", 'subject', 'score']\n",
    "scoreList = [\n",
    "    (\"김하나\", \"English\", 100.),\n",
    "    (\"김하나\", \"Math\", 80.),\n",
    "    (\"임하나\", \"English\", 70.),\n",
    "    (\"임하나\", \"Math\", 100.),\n",
    "    (\"김갑돌\", \"English\", 82.3),\n",
    "    (\"김갑돌\", \"Math\", 98.5)\n",
    "]"
   ]
  },
  {
   "cell_type": "code",
   "execution_count": 39,
   "id": "346bae07",
   "metadata": {},
   "outputs": [
    {
     "data": {
      "text/plain": [
       "[('김하나', 'English', 100.0),\n",
       " ('김하나', 'Math', 80.0),\n",
       " ('임하나', 'English', 70.0),\n",
       " ('임하나', 'Math', 100.0),\n",
       " ('김갑돌', 'English', 82.3),\n",
       " ('김갑돌', 'Math', 98.5)]"
      ]
     },
     "execution_count": 39,
     "metadata": {},
     "output_type": "execute_result"
    }
   ],
   "source": [
    "myRdd3 = spark.sparkContext.parallelize(scoreList)\n",
    "myRdd3.take(6)"
   ]
  },
  {
   "cell_type": "code",
   "execution_count": 51,
   "id": "f205b6b0",
   "metadata": {},
   "outputs": [
    {
     "data": {
      "text/plain": [
       "[('김하나', 100.0),\n",
       " ('김하나', 80.0),\n",
       " ('임하나', 70.0),\n",
       " ('임하나', 100.0),\n",
       " ('김갑돌', 82.3),\n",
       " ('김갑돌', 98.5)]"
      ]
     },
     "execution_count": 51,
     "metadata": {},
     "output_type": "execute_result"
    }
   ],
   "source": [
    "myRdd3\\\n",
    "    .map(lambda x: (x[0], x[2]))\\\n",
    "    .reduceByKey(\n",
    "        lambda x, y: x + y)\\\n",
    "    .collect()"
   ]
  },
  {
   "cell_type": "code",
   "execution_count": 69,
   "id": "f1f684da",
   "metadata": {},
   "outputs": [
    {
     "name": "stdout",
     "output_type": "stream",
     "text": [
      "[('김하나', 100.0), ('김하나', 80.0), ('임하나', 70.0), ('임하나', 100.0), ('김갑돌', 82.3), ('김갑돌', 98.5)]\n"
     ]
    },
    {
     "data": {
      "text/plain": [
       "[('김하나', (180.0, 2)), ('임하나', (170.0, 2)), ('김갑돌', (180.8, 2))]"
      ]
     },
     "execution_count": 69,
     "metadata": {},
     "output_type": "execute_result"
    }
   ],
   "source": [
    "myRdd3_ = myRdd3\\\n",
    "    .map(lambda x: (x[0], x[2]))\n",
    "\n",
    "myRdd3_.combineByKey(\n",
    "        lambda x: (x, 1), # 첫 키일 때만 수행되는 함수\n",
    "        lambda x, value: (x[0] + value, x[1] + 1),\n",
    "        lambda x, y: (x[0], x[1])\n",
    "    ).collect()\n",
    "\n"
   ]
  },
  {
   "cell_type": "code",
   "execution_count": 50,
   "id": "4742cb2c",
   "metadata": {},
   "outputs": [
    {
     "data": {
      "text/plain": [
       "[('김하나', 'English', 100.0),\n",
       " ('김하나', 'Math', 80.0),\n",
       " ('임하나', 'English', 70.0),\n",
       " ('임하나', 'Math', 100.0),\n",
       " ('김갑돌', 'English', 82.3),\n",
       " ('김갑돌', 'Math', 98.5)]"
      ]
     },
     "execution_count": 50,
     "metadata": {},
     "output_type": "execute_result"
    }
   ],
   "source": [
    "myRdd3.collect()"
   ]
  },
  {
   "cell_type": "code",
   "execution_count": null,
   "id": "29ccefd4",
   "metadata": {},
   "outputs": [],
   "source": []
  }
 ],
 "metadata": {
  "kernelspec": {
   "display_name": "bigdata_analysis",
   "language": "python",
   "name": "bigdata_analysis"
  },
  "language_info": {
   "codemirror_mode": {
    "name": "ipython",
    "version": 3
   },
   "file_extension": ".py",
   "mimetype": "text/x-python",
   "name": "python",
   "nbconvert_exporter": "python",
   "pygments_lexer": "ipython3",
   "version": "3.8.11"
  }
 },
 "nbformat": 4,
 "nbformat_minor": 5
}
