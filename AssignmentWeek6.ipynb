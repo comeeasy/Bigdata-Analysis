{
 "cells": [
  {
   "cell_type": "markdown",
   "id": "d499362e",
   "metadata": {},
   "source": [
    "# Week6 과제 \n",
    "\n",
    "- 서울시 열린데이터 https://data.seoul.go.kr/ 에서 제공하는 서울특별시_공공자전거 일별 대여건수_(2018~2019.03).csv를 분석해보자. 파일은 웹 검색을 해서 다운로드해서 사용하면 된다. 데이터는 일자별로, 대여건수이이고, 몇 줄만 출력해보면 다음과 같다."
   ]
  },
  {
   "cell_type": "code",
   "execution_count": 1,
   "id": "5a47f8f8",
   "metadata": {},
   "outputs": [
    {
     "name": "stderr",
     "output_type": "stream",
     "text": [
      "21/10/09 17:39:01 WARN NativeCodeLoader: Unable to load native-hadoop library for your platform... using builtin-java classes where applicable\n",
      "Using Spark's default log4j profile: org/apache/spark/log4j-defaults.properties\n",
      "Setting default log level to \"WARN\".\n",
      "To adjust logging level use sc.setLogLevel(newLevel). For SparkR, use setLogLevel(newLevel).\n",
      "21/10/09 17:39:02 WARN Utils: Service 'SparkUI' could not bind on port 4040. Attempting port 4041.\n"
     ]
    }
   ],
   "source": [
    "import pyspark\n",
    "\n",
    "spark = pyspark.sql.SparkSession\\\n",
    "    .builder\\\n",
    "    .master('local')\\\n",
    "    .appName('week6_assignment')\\\n",
    "    .config(conf=pyspark.SparkConf())\\\n",
    "    .getOrCreate()"
   ]
  },
  {
   "cell_type": "code",
   "execution_count": 2,
   "id": "b4324bac",
   "metadata": {},
   "outputs": [
    {
     "name": "stderr",
     "output_type": "stream",
     "text": [
      "                                                                                \r"
     ]
    },
    {
     "name": "stdout",
     "output_type": "stream",
     "text": [
      "root\n",
      " |-- Date: string (nullable = true)\n",
      " |-- Count: integer (nullable = true)\n",
      "\n",
      "None\n",
      "Total num of data: 455\n"
     ]
    }
   ],
   "source": [
    "from pyspark.sql.functions import split\n",
    "\n",
    "colName = [\"Date\", \"Count\"]\n",
    "bicycleDf = spark.read\\\n",
    ".options(header=\"true\", inferschema='true').csv(\"data/publicBicycle_daily_rental_2018_2019_03.csv\")\n",
    "\n",
    "bicycleDf = bicycleDf.withColumnRenamed(bicycleDf.columns[0], \"Date\")\n",
    "bicycleDf = bicycleDf.withColumnRenamed(bicycleDf.columns[1], \"Count\")\n",
    "print(bicycleDf.printSchema())\n",
    "print(f\"Total num of data: {bicycleDf.count()}\")\n"
   ]
  },
  {
   "cell_type": "code",
   "execution_count": 3,
   "id": "41fa9e58",
   "metadata": {},
   "outputs": [
    {
     "name": "stdout",
     "output_type": "stream",
     "text": [
      "+----------+-----+----+-----+-------+\n",
      "|      Date|Count|Year|Month|Quarter|\n",
      "+----------+-----+----+-----+-------+\n",
      "|2018-01-01| 4950|2018|    1|      1|\n",
      "|2018-01-02| 7136|2018|    1|      1|\n",
      "|2018-01-03| 7156|2018|    1|      1|\n",
      "|2018-01-04| 7102|2018|    1|      1|\n",
      "|2018-01-05| 7705|2018|    1|      1|\n",
      "+----------+-----+----+-----+-------+\n",
      "only showing top 5 rows\n",
      "\n"
     ]
    }
   ],
   "source": [
    "import pyspark.sql.functions as F\n",
    "from pyspark.sql.types import IntegerType, DateType\n",
    "\n",
    "bicycleDf = bicycleDf.withColumn(\"Year\", F.year(bicycleDf[\"Date\"]))\n",
    "bicycleDf = bicycleDf.withColumn(\"Month\", F.month(bicycleDf[\"Date\"]))\n",
    "bicycleDf = bicycleDf.withColumn(\"Quarter\", F.quarter(bicycleDf[\"Date\"]))\n",
    "bicycleDf.show(5)"
   ]
  },
  {
   "cell_type": "markdown",
   "id": "3216420a",
   "metadata": {},
   "source": [
    "### 문제 1-1 년도별 대여건수 합계"
   ]
  },
  {
   "cell_type": "code",
   "execution_count": 4,
   "id": "090021fe",
   "metadata": {},
   "outputs": [
    {
     "name": "stderr",
     "output_type": "stream",
     "text": [
      "                                                                                \r"
     ]
    },
    {
     "name": "stdout",
     "output_type": "stream",
     "text": [
      "+----+----------+\n",
      "|Year|sum(Count)|\n",
      "+----+----------+\n",
      "|2018|  10124874|\n",
      "|2019|   1871935|\n",
      "+----+----------+\n",
      "\n"
     ]
    }
   ],
   "source": [
    "bicycleDf.groupBy(\"Year\").sum().select(\"Year\", \"sum(Count)\").show()"
   ]
  },
  {
   "cell_type": "markdown",
   "id": "049857de",
   "metadata": {},
   "source": [
    "### 문제 1-2 년도별, 월별 대여건수 합계"
   ]
  },
  {
   "cell_type": "code",
   "execution_count": 5,
   "id": "6df7d50e",
   "metadata": {},
   "outputs": [
    {
     "name": "stderr",
     "output_type": "stream",
     "text": [
      "[Stage 20:===================================================>  (190 + 1) / 200]\r"
     ]
    },
    {
     "name": "stdout",
     "output_type": "stream",
     "text": [
      "+-----+-------+------+\n",
      "|Month|   2018|  2019|\n",
      "+-----+-------+------+\n",
      "|    1| 164367|495573|\n",
      "|    2| 168741|471543|\n",
      "|    3| 462661|904819|\n",
      "|    4| 687885|  null|\n",
      "|    5| 965609|  null|\n",
      "|    6|1207123|  null|\n",
      "|    7|1100015|  null|\n",
      "|    8|1037505|  null|\n",
      "|    9|1447993|  null|\n",
      "|   10|1420621|  null|\n",
      "|   11| 961532|  null|\n",
      "|   12| 500822|  null|\n",
      "+-----+-------+------+\n",
      "\n"
     ]
    },
    {
     "name": "stderr",
     "output_type": "stream",
     "text": [
      "\r",
      "[Stage 21:=======================================>              (146 + 1) / 200]\r",
      "\r",
      "                                                                                \r"
     ]
    }
   ],
   "source": [
    "_bicycleDf = bicycleDf.groupBy(\"Year\", \"Month\").sum().select(\"Year\", \"Month\", \"sum(Count)\").sort(\"Year\", \"Month\")\n",
    "_bicycleDf = _bicycleDf.withColumnRenamed('sum(Count)', 'Count')\n",
    "bicycleDf = _bicycleDf.groupBy(\"Month\").pivot(\"Year\").agg(F.sum(\"Count\")).orderBy('Month')\n",
    "\n",
    "bicycleDf.show()"
   ]
  },
  {
   "cell_type": "markdown",
   "id": "906c98bd",
   "metadata": {},
   "source": [
    "### 문제 1-3 문제 1-2의 출력을 선 그래프로 그려보자."
   ]
  },
  {
   "cell_type": "code",
   "execution_count": 17,
   "id": "620dce89",
   "metadata": {},
   "outputs": [
    {
     "data": {
      "text/plain": [
       "<AxesSubplot:xlabel='Month'>"
      ]
     },
     "execution_count": 17,
     "metadata": {},
     "output_type": "execute_result"
    },
    {
     "data": {
      "image/png": "[encoded data removed]",
      "text/plain": [
       "<Figure size 432x288 with 1 Axes>"
      ]
     },
     "metadata": {
      "needs_background": "light"
     },
     "output_type": "display_data"
    }
   ],
   "source": [
    "import pandas as pd\n",
    "\n",
    "bicycleP = bicycleDf.toPandas()\n",
    "bicycleP = bicycleP.set_index(\"Month\")\n",
    "bicycleP.plot(kind='line')"
   ]
  }
 ],
 "metadata": {
  "kernelspec": {
   "display_name": "bigdata_analysis",
   "language": "python",
   "name": "bigdata_analysis"
  },
  "language_info": {
   "codemirror_mode": {
    "name": "ipython",
    "version": 3
   },
   "file_extension": ".py",
   "mimetype": "text/x-python",
   "name": "python",
   "nbconvert_exporter": "python",
   "pygments_lexer": "ipython3",
   "version": "3.8.11"
  }
 },
 "nbformat": 4,
 "nbformat_minor": 5
}
