{
 "cells": [
  {
   "cell_type": "code",
   "execution_count": 4,
   "id": "b119f378",
   "metadata": {},
   "outputs": [
    {
     "name": "stdout",
     "output_type": "stream",
     "text": [
      "\u001b[34m==>\u001b[0m \u001b[1mSuccessfully started `mongodb-community` (label: homebrew.mxcl.mongodb-commu\u001b[0m\r\n"
     ]
    }
   ],
   "source": [
    "!brew services start mongodb-community@5.0"
   ]
  },
  {
   "cell_type": "code",
   "execution_count": 9,
   "id": "db914d61",
   "metadata": {},
   "outputs": [],
   "source": [
    "import pymongo"
   ]
  },
  {
   "cell_type": "code",
   "execution_count": 10,
   "id": "4a6cafd0",
   "metadata": {},
   "outputs": [],
   "source": [
    "Client = pymongo.MongoClient(\"mongodb://localhost:27017\")"
   ]
  },
  {
   "cell_type": "code",
   "execution_count": 11,
   "id": "2c64bb96",
   "metadata": {},
   "outputs": [
    {
     "name": "stdout",
     "output_type": "stream",
     "text": [
      "['admin', 'config', 'local']\n"
     ]
    }
   ],
   "source": [
    "db = Client.myDB\n",
    "print(Client.list_database_names())"
   ]
  },
  {
   "cell_type": "code",
   "execution_count": 12,
   "id": "e664a1d4",
   "metadata": {},
   "outputs": [],
   "source": [
    "db = Client[\"myDB\"]\n",
    "mycol = db[\"myPyCol\"]"
   ]
  },
  {
   "cell_type": "code",
   "execution_count": 13,
   "id": "e82a951f",
   "metadata": {},
   "outputs": [
    {
     "data": {
      "text/plain": [
       "<pymongo.results.InsertOneResult at 0x7fc1ba043400>"
      ]
     },
     "execution_count": 13,
     "metadata": {},
     "output_type": "execute_result"
    }
   ],
   "source": [
    "_id = 1\n",
    "_name = \"js\"\n",
    "_age = 11\n",
    "_country = \"ko\"\n",
    "\n",
    "db.myPyCol.insert_one({\n",
    "    \"id\": _id,\n",
    "    \"name\": _name,\n",
    "    \"age\": _age,\n",
    "    \"country\": _country\n",
    "})"
   ]
  },
  {
   "cell_type": "code",
   "execution_count": 17,
   "id": "1103ee80",
   "metadata": {},
   "outputs": [
    {
     "name": "stdout",
     "output_type": "stream",
     "text": [
      "['admin', 'config', 'local', 'myDB']\n"
     ]
    }
   ],
   "source": [
    "print(Client.list_database_names())"
   ]
  },
  {
   "cell_type": "code",
   "execution_count": 18,
   "id": "ceaa313f",
   "metadata": {},
   "outputs": [
    {
     "name": "stdout",
     "output_type": "stream",
     "text": [
      "['myPyCol']\n"
     ]
    }
   ],
   "source": [
    "print(db.list_collection_names())"
   ]
  },
  {
   "cell_type": "code",
   "execution_count": 20,
   "id": "f5284817",
   "metadata": {},
   "outputs": [
    {
     "name": "stdout",
     "output_type": "stream",
     "text": [
      "js\n"
     ]
    }
   ],
   "source": [
    "results = db.myPyCol.find()\n",
    "for r in results:\n",
    "    print(r[\"name\"])"
   ]
  },
  {
   "cell_type": "code",
   "execution_count": 21,
   "id": "9d5f5f86",
   "metadata": {},
   "outputs": [
    {
     "name": "stdout",
     "output_type": "stream",
     "text": [
      "Stopping `mongodb-community`... (might take a while)\n",
      "\u001b[34m==>\u001b[0m \u001b[1mSuccessfully stopped `mongodb-community` (label: homebrew.mxcl.mongodb-commu\u001b[0m\n"
     ]
    }
   ],
   "source": [
    "!brew services stop mongodb-community@5.0"
   ]
  },
  {
   "cell_type": "code",
   "execution_count": null,
   "id": "8b111660",
   "metadata": {},
   "outputs": [],
   "source": []
  }
 ],
 "metadata": {
  "kernelspec": {
   "display_name": "bigdata_analysis",
   "language": "python",
   "name": "bigdata_analysis"
  },
  "language_info": {
   "codemirror_mode": {
    "name": "ipython",
    "version": 3
   },
   "file_extension": ".py",
   "mimetype": "text/x-python",
   "name": "python",
   "nbconvert_exporter": "python",
   "pygments_lexer": "ipython3",
   "version": "3.8.11"
  }
 },
 "nbformat": 4,
 "nbformat_minor": 5
}
