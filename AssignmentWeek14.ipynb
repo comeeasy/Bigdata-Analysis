{
 "cells": [
  {
   "cell_type": "markdown",
   "id": "e4ca9a32",
   "metadata": {},
   "source": [
    "# 14주 이진  베이지안 모델\n",
    "\n",
    "Sklearn의 make_classification() 함수는 분류에 쓰일 수 있는 데이터를 생성해준다."
   ]
  },
  {
   "cell_type": "markdown",
   "id": "734a7522",
   "metadata": {},
   "source": [
    "- (1) X, Y 데이터를 생성"
   ]
  },
  {
   "cell_type": "code",
   "execution_count": 25,
   "id": "3bb19dc4",
   "metadata": {},
   "outputs": [
    {
     "data": {
      "text/plain": [
       "(array([[-1.6228869 , -0.41873507],\n",
       "        [ 0.95263805, -0.9978225 ],\n",
       "        [ 1.35658311,  1.0156802 ],\n",
       "        [-0.51685048,  1.39531778],\n",
       "        [-0.71089045,  1.00306258]]),\n",
       " array([0, 1, 1, 0, 0]))"
      ]
     },
     "execution_count": 25,
     "metadata": {},
     "output_type": "execute_result"
    }
   ],
   "source": [
    "from sklearn.datasets import make_classification\n",
    "\n",
    "X, Y = make_classification(n_samples=100, n_features=2, n_informative=2, n_redundant=0)\n",
    "\n",
    "X[:5], Y[:5]"
   ]
  },
  {
   "cell_type": "markdown",
   "id": "449abe15",
   "metadata": {},
   "source": [
    "- (2) X의 평균과 표준편차 계산해서 출력"
   ]
  },
  {
   "cell_type": "code",
   "execution_count": 26,
   "id": "20a5a76a",
   "metadata": {},
   "outputs": [
    {
     "data": {
      "text/plain": [
       "(0.03398877643332079, 1.1514909218574887)"
      ]
     },
     "execution_count": 26,
     "metadata": {},
     "output_type": "execute_result"
    }
   ],
   "source": [
    "X.mean(), X.std()"
   ]
  },
  {
   "cell_type": "markdown",
   "id": "98f8f954",
   "metadata": {},
   "source": [
    "- (3) 그래프 작성\n",
    "\n",
    "    * scatter() 함수에 c=Y 옵션을 넣으면, Y의 값에 대해 다른 색으로 표시할 수 있다.\n",
    "\n"
   ]
  },
  {
   "cell_type": "code",
   "execution_count": 27,
   "id": "79f7f3c1",
   "metadata": {},
   "outputs": [
    {
     "data": {
      "image/png": "[encoded data removed]",
      "text/plain": [
       "<Figure size 432x288 with 1 Axes>"
      ]
     },
     "metadata": {
      "needs_background": "light"
     },
     "output_type": "display_data"
    }
   ],
   "source": [
    "import matplotlib.pyplot as plt\n",
    "\n",
    "plt.scatter(X[:, 0], X[:, 1], marker='o', c=Y)\n",
    "plt.show()"
   ]
  },
  {
   "cell_type": "markdown",
   "id": "059d3def",
   "metadata": {},
   "source": [
    "- (4) 훈련 데이터, 테스트 데이터 3:1로 분리\n",
    "\n",
    "    * train_test_split()함수를 사용하면 원하는 비율로 분리할 수 있다.\n",
    "\n"
   ]
  },
  {
   "cell_type": "code",
   "execution_count": 28,
   "id": "1cc4aefc",
   "metadata": {},
   "outputs": [],
   "source": [
    "from sklearn.model_selection import train_test_split\n",
    "\n",
    "X_train, X_test, Y_train, Y_test = train_test_split(X, Y)"
   ]
  },
  {
   "cell_type": "markdown",
   "id": "0d9dad4f",
   "metadata": {},
   "source": [
    "- (5) 훈련 데이터에 대하여 BernoulliNB 모델링\n",
    "    * X데이터는 연속 값이다. binarize=0.0으로 설정하여 이진수로 모델링한다.\n",
    "\n"
   ]
  },
  {
   "cell_type": "code",
   "execution_count": 29,
   "id": "c0054a0c",
   "metadata": {},
   "outputs": [],
   "source": [
    "from sklearn.naive_bayes import BernoulliNB\n",
    "\n",
    "bnb = BernoulliNB(binarize=0.0)"
   ]
  },
  {
   "cell_type": "markdown",
   "id": "a863c234",
   "metadata": {},
   "source": [
    "- (6) 테스트 데이터에 대하여 예측값을 출력\n",
    "    * 예측이 맞는지 실제값 Y와 비교해보자.\n",
    "\n",
    "- 3개가 틀렸다.\n",
    "    $1 - \\frac{3}{25} = 0.88$"
   ]
  },
  {
   "cell_type": "code",
   "execution_count": 33,
   "id": "4dc88401",
   "metadata": {
    "scrolled": true
   },
   "outputs": [
    {
     "name": "stdout",
     "output_type": "stream",
     "text": [
      "25\n"
     ]
    },
    {
     "data": {
      "text/plain": [
       "[(0, 0),\n",
       " (0, 0),\n",
       " (0, 0),\n",
       " (1, 1),\n",
       " (0, 0),\n",
       " (1, 1),\n",
       " (0, 0),\n",
       " (0, 0),\n",
       " (0, 1),\n",
       " (1, 1),\n",
       " (0, 0),\n",
       " (1, 1),\n",
       " (1, 1),\n",
       " (1, 1),\n",
       " (0, 1),\n",
       " (1, 1),\n",
       " (0, 0),\n",
       " (0, 0),\n",
       " (0, 0),\n",
       " (1, 1),\n",
       " (0, 0),\n",
       " (1, 0),\n",
       " (1, 1),\n",
       " (1, 1),\n",
       " (0, 0)]"
      ]
     },
     "execution_count": 33,
     "metadata": {},
     "output_type": "execute_result"
    }
   ],
   "source": [
    "bnb.fit(X_train, Y_train)\n",
    "\n",
    "pred = bnb.predict(X_test)\n",
    "print(len(pred))\n",
    "list(zip(pred, Y_test))"
   ]
  },
  {
   "cell_type": "markdown",
   "id": "cb0beee8",
   "metadata": {},
   "source": [
    "- (7) 테스트 데이터에 대하여 예측과 실제의 정확성 출력\n",
    "\n",
    "- 위에서 계산했던 값과 일치한다."
   ]
  },
  {
   "cell_type": "code",
   "execution_count": 34,
   "id": "f2e61064",
   "metadata": {},
   "outputs": [
    {
     "data": {
      "text/plain": [
       "0.88"
      ]
     },
     "execution_count": 34,
     "metadata": {},
     "output_type": "execute_result"
    }
   ],
   "source": [
    "bnb.score(X_test, Y_test)"
   ]
  }
 ],
 "metadata": {
  "kernelspec": {
   "display_name": "bigdata_analysis",
   "language": "python",
   "name": "bigdata_analysis"
  },
  "language_info": {
   "codemirror_mode": {
    "name": "ipython",
    "version": 3
   },
   "file_extension": ".py",
   "mimetype": "text/x-python",
   "name": "python",
   "nbconvert_exporter": "python",
   "pygments_lexer": "ipython3",
   "version": "3.8.11"
  }
 },
 "nbformat": 4,
 "nbformat_minor": 5
}
