{
 "cells": [
  {
   "cell_type": "code",
   "execution_count": 2,
   "id": "f1940f8b",
   "metadata": {},
   "outputs": [
    {
     "name": "stdout",
     "output_type": "stream",
     "text": [
      "{'dataseoul': '57497959747a7a313132306b6e47494f\\n', '서울특별시교육청공공도서관': 'XBG0LQcumlIVYW8kHTG1HUFE3e9bwlIxNktMsQnj1kjvNGKVUFl7gQ/NSPAxWIWrToDGxw7Q9/cGNfUsqBH9Xw==\\n'}\n"
     ]
    }
   ],
   "source": [
    "# Get Key\n",
    "\n",
    "import src.myOauth as myOauth\n",
    "\n",
    "public_key = myOauth.getKey(\"data/key.properties\")\n",
    "print(public_key)\n",
    "        "
   ]
  },
  {
   "cell_type": "code",
   "execution_count": 6,
   "id": "199cccb1",
   "metadata": {},
   "outputs": [
    {
     "name": "stdout",
     "output_type": "stream",
     "text": [
      "serviceKey=XBG0LQcumlIVYW8kHTG1HUFE3e9bwlIxNktMsQnj1kjvNGKVUFl7gQ%2FNSPAxWIWrToDGxw7Q9%2FcGNfUsqBH9Xw%3D%3D\n",
      "http://openapi-lib.sen.go.kr/openapi/service/lib/openApi?serviceKey=XBG0LQcumlIVYW8kHTG1HUFE3e9bwlIxNktMsQnj1kjvNGKVUFl7gQ%2FNSPAxWIWrToDGxw7Q9%2FcGNfUsqBH9Xw%3D%3D&title=%ED%8C%8C%EC%9D%B4%EC%8D%AC&manageCd=MA&numOfRows=20\n"
     ]
    }
   ],
   "source": [
    "import requests\n",
    "from urllib.parse import urlencode, quote\n",
    "\n",
    "base_url = \"http://openapi-lib.sen.go.kr/openapi/service/lib/openApi\"\n",
    "\n",
    "print(urlencode({\"serviceKey\": public_key[\"서울특별시교육청공공도서관\"]}))\n",
    "\n",
    "queryParams = urlencode({\"serviceKey\": public_key[\"서울특별시교육청공공도서관\"], \"title\": \"파이썬\", \"manageCd\": \"MA\", \"numOfRows\": str(20)})\n",
    "\n",
    "url = base_url + \"?\" + queryParams\n",
    "print(url)\n",
    "\n"
   ]
  },
  {
   "cell_type": "code",
   "execution_count": 62,
   "id": "51b7dfda",
   "metadata": {},
   "outputs": [],
   "source": [
    "key = \"XBG0LQcumlIVYW8kHTG1HUFE3e9bwlIxNktMsQnj1kjvNGKVUFl7gQ/NSPAxWIWrToDGxw7Q9/cGNfUsqBH9Xw==\"\n",
    "\n",
    "with open(\"data/key.properties\", \"a+\") as f:\n",
    "    f.write(\"서울특별시교육청공공도서관\"+\"=\"+key)\n",
    "    "
   ]
  },
  {
   "cell_type": "code",
   "execution_count": 63,
   "id": "0af3be46",
   "metadata": {},
   "outputs": [
    {
     "name": "stdout",
     "output_type": "stream",
     "text": [
      "def getKey(KeyPath):\r\n",
      "    d = dict()\r\n",
      "    with open(KeyPath, 'r') as f:\r\n",
      "        for line in f.readlines():\r\n",
      "            sep_idx = line.find('=')\r\n",
      "            key, value = line[:sep_idx], line[sep_idx+1:]\r\n",
      "            d[key] = value.strip()\r\n",
      "    \r\n",
      "    return d\r\n"
     ]
    }
   ],
   "source": [
    "!cat src/myOauth.py\n"
   ]
  },
  {
   "cell_type": "code",
   "execution_count": null,
   "id": "6735bfcd",
   "metadata": {},
   "outputs": [],
   "source": []
  },
  {
   "cell_type": "code",
   "execution_count": null,
   "id": "2da45c37",
   "metadata": {},
   "outputs": [],
   "source": []
  },
  {
   "cell_type": "code",
   "execution_count": null,
   "id": "df0bf485",
   "metadata": {},
   "outputs": [],
   "source": []
  }
 ],
 "metadata": {
  "kernelspec": {
   "display_name": "bigdata_analysis",
   "language": "python",
   "name": "bigdata_analysis"
  },
  "language_info": {
   "codemirror_mode": {
    "name": "ipython",
    "version": 3
   },
   "file_extension": ".py",
   "mimetype": "text/x-python",
   "name": "python",
   "nbconvert_exporter": "python",
   "pygments_lexer": "ipython3",
   "version": "3.8.11"
  }
 },
 "nbformat": 4,
 "nbformat_minor": 5
}
