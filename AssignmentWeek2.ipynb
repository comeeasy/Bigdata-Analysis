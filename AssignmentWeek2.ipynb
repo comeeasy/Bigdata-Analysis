{
 "cells": [
  {
   "cell_type": "code",
   "execution_count": 2,
   "id": "f1940f8b",
   "metadata": {},
   "outputs": [
    {
     "name": "stdout",
     "output_type": "stream",
     "text": [
      "{'dataseoul': '57497959747a7a313132306b6e47494f', '서울특별시교육청공공도서관': 'XBG0LQcumlIVYW8kHTG1HUFE3e9bwlIxNktMsQnj1kjvNGKVUFl7gQ/NSPAxWIWrToDGxw7Q9/cGNfUsqBH9Xw=='}\n"
     ]
    }
   ],
   "source": [
    "# Get Key\n",
    "\n",
    "import src.myOauth as myOauth\n",
    "\n",
    "public_key = myOauth.getKey(\"data/key.properties\")\n",
    "print(public_key)\n",
    "        "
   ]
  },
  {
   "cell_type": "code",
   "execution_count": 3,
   "id": "199cccb1",
   "metadata": {},
   "outputs": [
    {
     "name": "stdout",
     "output_type": "stream",
     "text": [
      "serviceKey=XBG0LQcumlIVYW8kHTG1HUFE3e9bwlIxNktMsQnj1kjvNGKVUFl7gQ%2FNSPAxWIWrToDGxw7Q9%2FcGNfUsqBH9Xw%3D%3D\n",
      "XBG0LQcumlIVYW8kHTG1HUFE3e9bwlIxNktMsQnj1kjvNGKVUFl7gQ/NSPAxWIWrToDGxw7Q9/cGNfUsqBH9Xw%3D%3D\n",
      "http://openapi-lib.sen.go.kr/openapi/service/lib/openApi?title=1&manageCd=MC&numOfRows=20&pageNo=1\n"
     ]
    }
   ],
   "source": [
    "import requests\n",
    "from urllib.parse import urlencode, quote\n",
    "\n",
    "base_url = \"http://openapi-lib.sen.go.kr/openapi/service/lib/openApi\"\n",
    "\n",
    "print(urlencode({\"serviceKey\": public_key[\"서울특별시교육청공공도서관\"]}))\n",
    "print(quote(public_key[\"서울특별시교육청공공도서관\"]))\n",
    "\n",
    "secretKey = public_key[\"서울특별시교육청공공도서관\"]\n",
    "queryParams = urlencode({\"title\": \"1\", \n",
    "                         \"manageCd\": \"MC\", \n",
    "                         \"numOfRows\": str(20),\n",
    "                         \"pageNo\": str(1)})\n",
    "\n",
    "# queryParams = f\"?serviceKey={quote(public_key[\"서울특별시교육청공공도서관\"])}\n",
    "\n",
    "url = base_url + \"?\" + queryParams\n",
    "print(url)\n",
    "\n"
   ]
  },
  {
   "cell_type": "code",
   "execution_count": 24,
   "id": "51b7dfda",
   "metadata": {},
   "outputs": [
    {
     "name": "stdout",
     "output_type": "stream",
     "text": [
      "<?xml version=\"1.0\" encoding=\"UTF-8\" standalone=\"yes\"?><response><header><resultCode>99</resultCode><resultMsg>SERVICE KEY IS NOT REGISTERED ERROR.</resultMsg></header></response>\n"
     ]
    }
   ],
   "source": [
    "import requests\n",
    "import lxml\n",
    "import lxml.etree\n",
    "\n",
    "data = requests.get(url).text\n",
    "print(data)\n",
    "    "
   ]
  },
  {
   "cell_type": "code",
   "execution_count": 63,
   "id": "0af3be46",
   "metadata": {},
   "outputs": [
    {
     "name": "stdout",
     "output_type": "stream",
     "text": [
      "def getKey(KeyPath):\r\n",
      "    d = dict()\r\n",
      "    with open(KeyPath, 'r') as f:\r\n",
      "        for line in f.readlines():\r\n",
      "            sep_idx = line.find('=')\r\n",
      "            key, value = line[:sep_idx], line[sep_idx+1:]\r\n",
      "            d[key] = value.strip()\r\n",
      "    \r\n",
      "    return d\r\n"
     ]
    }
   ],
   "source": []
  },
  {
   "cell_type": "code",
   "execution_count": null,
   "id": "6735bfcd",
   "metadata": {},
   "outputs": [],
   "source": []
  },
  {
   "cell_type": "code",
   "execution_count": null,
   "id": "2da45c37",
   "metadata": {},
   "outputs": [],
   "source": []
  },
  {
   "cell_type": "code",
   "execution_count": null,
   "id": "df0bf485",
   "metadata": {},
   "outputs": [],
   "source": []
  }
 ],
 "metadata": {
  "kernelspec": {
   "display_name": "bigdata_analysis",
   "language": "python",
   "name": "bigdata_analysis"
  },
  "language_info": {
   "codemirror_mode": {
    "name": "ipython",
    "version": 3
   },
   "file_extension": ".py",
   "mimetype": "text/x-python",
   "name": "python",
   "nbconvert_exporter": "python",
   "pygments_lexer": "ipython3",
   "version": "3.8.11"
  }
 },
 "nbformat": 4,
 "nbformat_minor": 5
}
