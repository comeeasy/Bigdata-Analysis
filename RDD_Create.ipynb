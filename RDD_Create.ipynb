{
 "cells": [
  {
   "cell_type": "markdown",
   "id": "6698741f",
   "metadata": {},
   "source": [
    "# Spark RDD"
   ]
  },
  {
   "cell_type": "code",
   "execution_count": 1,
   "id": "891122c7",
   "metadata": {},
   "outputs": [],
   "source": [
    "import pyspark"
   ]
  },
  {
   "cell_type": "code",
   "execution_count": 2,
   "id": "fb1cdae4",
   "metadata": {},
   "outputs": [
    {
     "name": "stdout",
     "output_type": "stream",
     "text": [
      "/Users/joono/Desktop/joono/Bigdata-Analysis\n",
      "/opt/anaconda3/envs/bigdata_analysis/lib/python38.zip\n",
      "/opt/anaconda3/envs/bigdata_analysis/lib/python3.8\n",
      "/opt/anaconda3/envs/bigdata_analysis/lib/python3.8/lib-dynload\n",
      "\n",
      "/opt/anaconda3/envs/bigdata_analysis/lib/python3.8/site-packages\n",
      "/opt/anaconda3/envs/bigdata_analysis/lib/python3.8/site-packages/IPython/extensions\n",
      "/Users/joono/.ipython\n"
     ]
    }
   ],
   "source": [
    "import sys\n",
    "for i in sys.path:\n",
    "    print(i)"
   ]
  },
  {
   "cell_type": "code",
   "execution_count": 3,
   "id": "7894d8fe",
   "metadata": {},
   "outputs": [
    {
     "name": "stderr",
     "output_type": "stream",
     "text": [
      "21/09/17 23:52:52 WARN Utils: Your hostname, gimjunhoui-MacBookAir.local resolves to a loopback address: 127.0.0.1; using 192.168.0.34 instead (on interface en0)\n",
      "21/09/17 23:52:52 WARN Utils: Set SPARK_LOCAL_IP if you need to bind to another address\n",
      "21/09/17 23:52:53 WARN NativeCodeLoader: Unable to load native-hadoop library for your platform... using builtin-java classes where applicable\n",
      "Using Spark's default log4j profile: org/apache/spark/log4j-defaults.properties\n",
      "Setting default log level to \"WARN\".\n",
      "To adjust logging level use sc.setLogLevel(newLevel). For SparkR, use setLogLevel(newLevel).\n"
     ]
    }
   ],
   "source": [
    "myConf = pyspark.SparkConf()\n",
    "spark = pyspark.sql.SparkSession\\\n",
    "                    .builder\\\n",
    "                    .master(\"local\")\\\n",
    "                    .appName(\"myApp\")\\\n",
    "                    .config(conf=myConf)\\\n",
    "                    .getOrCreate()\n",
    "\n"
   ]
  },
  {
   "cell_type": "code",
   "execution_count": 4,
   "id": "35e9e367",
   "metadata": {},
   "outputs": [
    {
     "name": "stdout",
     "output_type": "stream",
     "text": [
      "Spark version \t: 3.1.2\n",
      "Spark App \t: myApp\n",
      "Spark Master \t: local\n",
      "Spark Host \t: 192.168.0.34\n"
     ]
    }
   ],
   "source": [
    "print (\"Spark version \\t: {}\".format(spark.version))\n",
    "print (\"Spark App \\t: {}\".format(spark.conf.get('spark.app.name')))\n",
    "print (\"Spark Master \\t: {}\".format(spark.conf.get('spark.master')))\n",
    "print (\"Spark Host \\t: {}\".format(spark.conf.get('spark.driver.host')))"
   ]
  },
  {
   "cell_type": "code",
   "execution_count": 5,
   "id": "5cca3110",
   "metadata": {},
   "outputs": [
    {
     "data": {
      "text/plain": [
       "'file:/Users/joono/Desktop/joono/Bigdata-Analysis/spark-warehouse'"
      ]
     },
     "execution_count": 5,
     "metadata": {},
     "output_type": "execute_result"
    }
   ],
   "source": [
    "spark.conf.get('spark.sql.warehouse.dir')"
   ]
  },
  {
   "cell_type": "code",
   "execution_count": 6,
   "id": "a3124d53",
   "metadata": {},
   "outputs": [
    {
     "data": {
      "text/plain": [
       "[('spark.master', 'local'),\n",
       " ('spark.app.startTime', '1631890373641'),\n",
       " ('spark.app.id', 'local-1631890374466'),\n",
       " ('spark.driver.port', '50249'),\n",
       " ('spark.app.name', 'myApp'),\n",
       " ('spark.rdd.compress', 'True'),\n",
       " ('spark.serializer.objectStreamReset', '100'),\n",
       " ('spark.driver.host', '192.168.0.34'),\n",
       " ('spark.submit.pyFiles', ''),\n",
       " ('spark.executor.id', 'driver'),\n",
       " ('spark.submit.deployMode', 'client'),\n",
       " ('spark.sql.warehouse.dir',\n",
       "  'file:/Users/joono/Desktop/joono/Bigdata-Analysis/spark-warehouse'),\n",
       " ('spark.ui.showConsoleProgress', 'true')]"
      ]
     },
     "execution_count": 6,
     "metadata": {},
     "output_type": "execute_result"
    }
   ],
   "source": [
    "spark.sparkContext.getConf().getAll()"
   ]
  },
  {
   "cell_type": "code",
   "execution_count": 7,
   "id": "fd4c9399",
   "metadata": {},
   "outputs": [
    {
     "data": {
      "text/plain": [
       "<pyspark.conf.SparkConf at 0x7fe7f8531eb0>"
      ]
     },
     "execution_count": 7,
     "metadata": {},
     "output_type": "execute_result"
    }
   ],
   "source": [
    "spark.sparkContext._conf.set(\"spark.driver.bindAddress\", \"127.0.0.1\")"
   ]
  },
  {
   "cell_type": "code",
   "execution_count": 8,
   "id": "563d6923",
   "metadata": {},
   "outputs": [
    {
     "data": {
      "text/plain": [
       "<pyspark.conf.SparkConf at 0x7fe7f8531eb0>"
      ]
     },
     "execution_count": 8,
     "metadata": {},
     "output_type": "execute_result"
    }
   ],
   "source": [
    "spark.sparkContext._conf.set(\"spark.executor.memory\", '4g')\n",
    "spark.sparkContext._conf.set('spark.app.name', 'jsl')\n",
    "spark.sparkContext._conf.set('spark.executor.cores', '3')\n",
    "spark.sparkContext._conf.set('spark.cores.max', '3')\n",
    "spark.sparkContext._conf.set(\"spark.driver.memory\",'4g')"
   ]
  },
  {
   "cell_type": "code",
   "execution_count": 9,
   "id": "610a2830",
   "metadata": {},
   "outputs": [
    {
     "data": {
      "text/plain": [
       "[('spark.master', 'local'),\n",
       " ('spark.app.name', 'jsl'),\n",
       " ('spark.driver.port', '50249'),\n",
       " ('spark.driver.memory', '4g'),\n",
       " ('spark.executor.memory', '4g'),\n",
       " ('spark.driver.host', '192.168.0.34'),\n",
       " ('spark.executor.id', 'driver'),\n",
       " ('spark.cores.max', '3'),\n",
       " ('spark.driver.bindAddress', '127.0.0.1'),\n",
       " ('spark.app.startTime', '1631890373641'),\n",
       " ('spark.app.id', 'local-1631890374466'),\n",
       " ('spark.rdd.compress', 'True'),\n",
       " ('spark.serializer.objectStreamReset', '100'),\n",
       " ('spark.submit.pyFiles', ''),\n",
       " ('spark.executor.cores', '3'),\n",
       " ('spark.submit.deployMode', 'client'),\n",
       " ('spark.sql.warehouse.dir',\n",
       "  'file:/Users/joono/Desktop/joono/Bigdata-Analysis/spark-warehouse'),\n",
       " ('spark.ui.showConsoleProgress', 'true')]"
      ]
     },
     "execution_count": 9,
     "metadata": {},
     "output_type": "execute_result"
    }
   ],
   "source": [
    "spark.sparkContext._conf.getAll()"
   ]
  },
  {
   "cell_type": "code",
   "execution_count": 10,
   "id": "91db39ab",
   "metadata": {},
   "outputs": [
    {
     "data": {
      "text/plain": [
       "[('spark.master', 'local'),\n",
       " ('spark.app.name', 'jsl'),\n",
       " ('spark.driver.port', '50249'),\n",
       " ('spark.driver.memory', '4g'),\n",
       " ('spark.executor.memory', '4g'),\n",
       " ('spark.driver.host', '192.168.0.34'),\n",
       " ('spark.executor.id', 'driver'),\n",
       " ('spark.cores.max', '3'),\n",
       " ('spark.driver.bindAddress', '127.0.0.1'),\n",
       " ('spark.app.startTime', '1631890373641'),\n",
       " ('spark.app.id', 'local-1631890374466'),\n",
       " ('spark.rdd.compress', 'True'),\n",
       " ('spark.serializer.objectStreamReset', '100'),\n",
       " ('spark.submit.pyFiles', ''),\n",
       " ('spark.executor.cores', '3'),\n",
       " ('spark.submit.deployMode', 'client'),\n",
       " ('spark.sql.warehouse.dir',\n",
       "  'file:/Users/joono/Desktop/joono/Bigdata-Analysis/spark-warehouse'),\n",
       " ('spark.ui.showConsoleProgress', 'true')]"
      ]
     },
     "execution_count": 10,
     "metadata": {},
     "output_type": "execute_result"
    }
   ],
   "source": [
    "spark.sparkContext._conf.getAll()"
   ]
  },
  {
   "cell_type": "code",
   "execution_count": 11,
   "id": "81b04c5f",
   "metadata": {},
   "outputs": [],
   "source": [
    "myList = [1, 2, 3, 4, 5, 6, 7]\n",
    "myRdd1 = spark.sparkContext.parallelize(myList)"
   ]
  },
  {
   "cell_type": "code",
   "execution_count": 12,
   "id": "49cd0a87",
   "metadata": {},
   "outputs": [
    {
     "name": "stderr",
     "output_type": "stream",
     "text": [
      "                                                                                \r"
     ]
    },
    {
     "data": {
      "text/plain": [
       "[1, 2, 3]"
      ]
     },
     "execution_count": 12,
     "metadata": {},
     "output_type": "execute_result"
    }
   ],
   "source": [
    "myRdd1.take(3)"
   ]
  },
  {
   "cell_type": "code",
   "execution_count": 14,
   "id": "741ea1b1",
   "metadata": {},
   "outputs": [
    {
     "data": {
      "text/plain": [
       "[[1, 2, 3], [4, 5, 6, 7]]"
      ]
     },
     "execution_count": 14,
     "metadata": {},
     "output_type": "execute_result"
    }
   ],
   "source": [
    "spark.sparkContext.parallelize([1, 2, 3, 4, 5, 6, 7], 2).glom().collect()"
   ]
  },
  {
   "cell_type": "code",
   "execution_count": 19,
   "id": "766c295f",
   "metadata": {},
   "outputs": [
    {
     "data": {
      "text/plain": [
       "[('file:/Users/joono/Desktop/joono/Bigdata-Analysis/data/경기도 의정부시_인구현황_20210910.csv',\n",
       "  b'\\xc7\\xe0\\xc1\\xa4\\xb1\\xe2\\xb0\\xfc,\\xc0\\xce\\xb1\\xb8\\xbc\\xf6(\\xb0\\xe8),\\xc0\\xce\\xb1\\xb8\\xbc\\xf6(\\xb3\\xb2),\\xc0\\xce\\xb1\\xb8\\xbc\\xf6(\\xbf\\xa9),\\xb1\\xb8\\xbc\\xba\\xba\\xf1(\\xb0\\xe8),\\xb1\\xb8\\xbc\\xba\\xba\\xf1(\\xb3\\xb2),\\xb1\\xb8\\xbc\\xba\\xba\\xf1(\\xbf\\xa9),\\xbc\\xba\\xba\\xf1,\\xbc\\xbc\\xb4\\xeb\\xbc\\xf6,\\xbc\\xbc\\xb4\\xeb\\xb4\\xe7\\xc0\\xce\\xb1\\xb8,\\xb0\\xfc\\xb8\\xae\\xb1\\xe2\\xb0\\xfc\\xb8\\xed,\\xb0\\xfc\\xb8\\xae\\xba\\xce\\xbc\\xad\\xb8\\xed,\\xba\\xce\\xbc\\xad\\xc0\\xfc\\xc8\\xad\\xb9\\xf8\\xc8\\xa3,\\xb5\\xa5\\xc0\\xcc\\xc5\\xcd\\xb1\\xe2\\xc1\\xd8\\xc0\\xcf\\xc0\\xda\\r\\n\\xc0\\xc7\\xc1\\xa4\\xba\\xce1\\xb5\\xbf,32292,16538,15754,6.97,3.57,3.4,104.98,19998,1.61,\\xc0\\xc7\\xc1\\xa4\\xba\\xce\\xbd\\xc3,\\xb9\\xce\\xbf\\xf8\\xbf\\xa9\\xb1\\xc7\\xb0\\xfa,031-828-2466,2021-09-10\\r\\n\\xc0\\xc7\\xc1\\xa4\\xba\\xce2\\xb5\\xbf,31380,15608,15772,6.77,3.37,3.4,98.96,16410,1.91,\\xc0\\xc7\\xc1\\xa4\\xba\\xce\\xbd\\xc3,\\xb9\\xce\\xbf\\xf8\\xbf\\xa9\\xb1\\xc7\\xb0\\xfa,031-828-2466,2021-09-10\\r\\n\\xc8\\xa3\\xbf\\xf81\\xb5\\xbf,36124,17595,18529,7.8,3.8,4,94.96,15653,2.31,\\xc0\\xc7\\xc1\\xa4\\xba\\xce\\xbd\\xc3,\\xb9\\xce\\xbf\\xf8\\xbf\\xa9\\xb1\\xc7\\xb0\\xfa,031-828-2466,2021-09-10\\r\\n\\xc8\\xa3\\xbf\\xf82\\xb5\\xbf,34957,16923,18034,7.54,3.65,3.89,93.84,13683,2.55,\\xc0\\xc7\\xc1\\xa4\\xba\\xce\\xbd\\xc3,\\xb9\\xce\\xbf\\xf8\\xbf\\xa9\\xb1\\xc7\\xb0\\xfa,031-828-2466,2021-09-10\\r\\n\\xc0\\xe5\\xbe\\xcf\\xb5\\xbf,20314,9714,10600,4.38,2.1,2.29,91.64,8604,2.36,\\xc0\\xc7\\xc1\\xa4\\xba\\xce\\xbd\\xc3,\\xb9\\xce\\xbf\\xf8\\xbf\\xa9\\xb1\\xc7\\xb0\\xfa,031-828-2466,2021-09-10\\r\\n\\xbd\\xc5\\xb0\\xee1\\xb5\\xbf,43159,21205,21954,9.31,4.58,4.74,96.59,17990,2.4,\\xc0\\xc7\\xc1\\xa4\\xba\\xce\\xbd\\xc3,\\xb9\\xce\\xbf\\xf8\\xbf\\xa9\\xb1\\xc7\\xb0\\xfa,031-828-2466,2021-09-10\\r\\n\\xbd\\xc5\\xb0\\xee2\\xb5\\xbf,47852,23232,24620,10.33,5.01,5.31,94.36,19218,2.49,\\xc0\\xc7\\xc1\\xa4\\xba\\xce\\xbd\\xc3,\\xb9\\xce\\xbf\\xf8\\xbf\\xa9\\xb1\\xc7\\xb0\\xfa,031-828-2466,2021-09-10\\r\\n\\xbc\\xdb\\xbb\\xea1\\xb5\\xbf,42817,21276,21541,9.24,4.59,4.65,98.77,18811,2.28,\\xc0\\xc7\\xc1\\xa4\\xba\\xce\\xbd\\xc3,\\xb9\\xce\\xbf\\xf8\\xbf\\xa9\\xb1\\xc7\\xb0\\xfa,031-828-2466,2021-09-10\\r\\n\\xbc\\xdb\\xbb\\xea2\\xb5\\xbf,33565,16601,16964,7.24,3.58,3.66,97.86,13216,2.54,\\xc0\\xc7\\xc1\\xa4\\xba\\xce\\xbd\\xc3,\\xb9\\xce\\xbf\\xf8\\xbf\\xa9\\xb1\\xc7\\xb0\\xfa,031-828-2466,2021-09-10\\r\\n\\xbc\\xdb\\xbb\\xea3\\xb5\\xbf,46892,22772,24120,10.12,4.91,5.21,94.41,17926,2.62,\\xc0\\xc7\\xc1\\xa4\\xba\\xce\\xbd\\xc3,\\xb9\\xce\\xbf\\xf8\\xbf\\xa9\\xb1\\xc7\\xb0\\xfa,031-828-2466,2021-09-10\\r\\n\\xc0\\xda\\xb1\\xdd\\xb5\\xbf,27087,13270,13817,5.85,2.86,2.98,96.04,11868,2.28,\\xc0\\xc7\\xc1\\xa4\\xba\\xce\\xbd\\xc3,\\xb9\\xce\\xbf\\xf8\\xbf\\xa9\\xb1\\xc7\\xb0\\xfa,031-828-2466,2021-09-10\\r\\n\\xb0\\xa1\\xb4\\xc9\\xb5\\xbf,25990,12974,13016,5.61,2.8,2.81,99.68,12492,2.08,\\xc0\\xc7\\xc1\\xa4\\xba\\xce\\xbd\\xc3,\\xb9\\xce\\xbf\\xf8\\xbf\\xa9\\xb1\\xc7\\xb0\\xfa,031-828-2466,2021-09-10\\r\\n\\xc8\\xef\\xbc\\xb1\\xb5\\xbf,19176,9769,9407,4.14,2.11,2.03,103.85,9380,2.04,\\xc0\\xc7\\xc1\\xa4\\xba\\xce\\xbd\\xc3,\\xb9\\xce\\xbf\\xf8\\xbf\\xa9\\xb1\\xc7\\xb0\\xfa,031-828-2466,2021-09-10\\r\\n\\xb3\\xec\\xbe\\xe7\\xb5\\xbf,21768,10872,10896,4.7,2.35,2.35,99.78,9556,2.28,\\xc0\\xc7\\xc1\\xa4\\xba\\xce\\xbd\\xc3,\\xb9\\xce\\xbf\\xf8\\xbf\\xa9\\xb1\\xc7\\xb0\\xfa,031-828-2466,2021-09-10\\r\\n')]"
      ]
     },
     "execution_count": 19,
     "metadata": {},
     "output_type": "execute_result"
    }
   ],
   "source": [
    "popRdd = spark.sparkContext.binaryFiles('./data/경기도 의정부시_인구현황_20210910.csv')\n",
    "popRdd.take(5)"
   ]
  },
  {
   "cell_type": "code",
   "execution_count": 20,
   "id": "b09f7a6f",
   "metadata": {},
   "outputs": [
    {
     "name": "stderr",
     "output_type": "stream",
     "text": [
      "\r",
      "[Stage 5:>                                                          (0 + 1) / 1]\r",
      "\r",
      "                                                                                \r"
     ]
    },
    {
     "data": {
      "text/plain": [
       "['행정기관,인구수(계),인구수(남),인구수(여),구성비(계),구성비(남),구성비(여),성비,세대수,세대당인구,관리기관명,관리부서명,부서전화번호,데이터기준일자\\r\\n의정부1동,32292,16538,15754,6.97,3.57,3.4,104.98,19998,1.61,의정부시,민원여권과,031-828-2466,2021-09-10\\r\\n의정부2동,31380,15608,15772,6.77,3.37,3.4,98.96,16410,1.91,의정부시,민원여권과,031-828-2466,2021-09-10\\r\\n호원1동,36124,17595,18529,7.8,3.8,4,94.96,15653,2.31,의정부시,민원여권과,031-828-2466,2021-09-10\\r\\n호원2동,34957,16923,18034,7.54,3.65,3.89,93.84,13683,2.55,의정부시,민원여권과,031-828-2466,2021-09-10\\r\\n장암동,20314,9714,10600,4.38,2.1,2.29,91.64,8604,2.36,의정부시,민원여권과,031-828-2466,2021-09-10\\r\\n신곡1동,43159,21205,21954,9.31,4.58,4.74,96.59,17990,2.4,의정부시,민원여권과,031-828-2466,2021-09-10\\r\\n신곡2동,47852,23232,24620,10.33,5.01,5.31,94.36,19218,2.49,의정부시,민원여권과,031-828-2466,2021-09-10\\r\\n송산1동,42817,21276,21541,9.24,4.59,4.65,98.77,18811,2.28,의정부시,민원여권과,031-828-2466,2021-09-10\\r\\n송산2동,33565,16601,16964,7.24,3.58,3.66,97.86,13216,2.54,의정부시,민원여권과,031-828-2466,2021-09-10\\r\\n송산3동,46892,22772,24120,10.12,4.91,5.21,94.41,17926,2.62,의정부시,민원여권과,031-828-2466,2021-09-10\\r\\n자금동,27087,13270,13817,5.85,2.86,2.98,96.04,11868,2.28,의정부시,민원여권과,031-828-2466,2021-09-10\\r\\n가능동,25990,12974,13016,5.61,2.8,2.81,99.68,12492,2.08,의정부시,민원여권과,031-828-2466,2021-09-10\\r\\n흥선동,19176,9769,9407,4.14,2.11,2.03,103.85,9380,2.04,의정부시,민원여권과,031-828-2466,2021-09-10\\r\\n녹양동,21768,10872,10896,4.7,2.35,2.35,99.78,9556,2.28,의정부시,민원여권과,031-828-2466,2021-09-10\\r\\n']"
      ]
     },
     "execution_count": 20,
     "metadata": {},
     "output_type": "execute_result"
    }
   ],
   "source": [
    "readData = popRdd.map(lambda x: x[1].decode('euc-kr'))\n",
    "readData.take(1)"
   ]
  },
  {
   "cell_type": "code",
   "execution_count": 21,
   "id": "fb23cc9b",
   "metadata": {},
   "outputs": [],
   "source": [
    "popList = readData.map(lambda x: x.split()).take(3)"
   ]
  },
  {
   "cell_type": "code",
   "execution_count": 23,
   "id": "c7a29375",
   "metadata": {},
   "outputs": [
    {
     "data": {
      "text/plain": [
       "'의정부1동,32292,16538,15754,6.97,3.57,3.4,104.98,19998,1.61,의정부시,민원여권과,031-828-2466,2021-09-10'"
      ]
     },
     "execution_count": 23,
     "metadata": {},
     "output_type": "execute_result"
    }
   ],
   "source": [
    "popList[0][1]"
   ]
  },
  {
   "cell_type": "code",
   "execution_count": null,
   "id": "1c602547",
   "metadata": {},
   "outputs": [],
   "source": []
  }
 ],
 "metadata": {
  "kernelspec": {
   "display_name": "bigdata_analysis",
   "language": "python",
   "name": "bigdata_analysis"
  },
  "language_info": {
   "codemirror_mode": {
    "name": "ipython",
    "version": 3
   },
   "file_extension": ".py",
   "mimetype": "text/x-python",
   "name": "python",
   "nbconvert_exporter": "python",
   "pygments_lexer": "ipython3",
   "version": "3.8.11"
  }
 },
 "nbformat": 4,
 "nbformat_minor": 5
}
