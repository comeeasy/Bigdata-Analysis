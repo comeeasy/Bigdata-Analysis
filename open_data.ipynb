{
 "cells": [
  {
   "cell_type": "code",
   "execution_count": 1,
   "id": "91a15d12",
   "metadata": {},
   "outputs": [],
   "source": [
    "input = '''\n",
    "<students>               # root 태그는 하나만 허용.\n",
    "    <student x=\"1\">      # 속성은 시작태그에 적고, key=\"value\"로 구성. value는 따옴표.\n",
    "        <id>001</id>     # 계층적으로 태그 구성.\n",
    "        <name>Kim</name>\n",
    "    </student>\n",
    "    <student x=\"2\">\n",
    "        <id>002</id>\n",
    "        <name>Lee</name>\n",
    "    </student>\n",
    "</students>\n",
    "'''"
   ]
  },
  {
   "cell_type": "code",
   "execution_count": 8,
   "id": "6c122117",
   "metadata": {},
   "outputs": [
    {
     "data": {
      "text/plain": [
       "<Element students at 0x7fa0f92426c0>"
      ]
     },
     "execution_count": 8,
     "metadata": {},
     "output_type": "execute_result"
    }
   ],
   "source": [
    "import lxml.etree\n",
    "root=lxml.etree.fromstring(input)\n",
    "root"
   ]
  },
  {
   "cell_type": "code",
   "execution_count": 9,
   "id": "b882b61d",
   "metadata": {},
   "outputs": [
    {
     "data": {
      "text/plain": [
       "<Element students at 0x7fa0f92dadc0>"
      ]
     },
     "execution_count": 9,
     "metadata": {},
     "output_type": "execute_result"
    }
   ],
   "source": [
    "from io import StringIO\n",
    "tree=lxml.etree.parse(StringIO(input))\n",
    "root=tree.getroot()\n",
    "root"
   ]
  },
  {
   "cell_type": "code",
   "execution_count": 10,
   "id": "2cd954b5",
   "metadata": {},
   "outputs": [
    {
     "data": {
      "text/plain": [
       "'/Users/joono/Desktop/joono/Bigdata-Analysis'"
      ]
     },
     "execution_count": 10,
     "metadata": {},
     "output_type": "execute_result"
    }
   ],
   "source": [
    "import os\n",
    "os.getcwd()"
   ]
  },
  {
   "cell_type": "code",
   "execution_count": 11,
   "id": "90878662",
   "metadata": {},
   "outputs": [
    {
     "name": "stdout",
     "output_type": "stream",
     "text": [
      "Writing data/ds_open_hello.xml\n"
     ]
    }
   ],
   "source": [
    "%%writefile data/ds_open_hello.xml\n",
    "<students>\n",
    "<student x=\"1\">\n",
    "    <id>001</id>\n",
    "    <name>Kim</name>\n",
    "</student>\n",
    "<student x=\"2\">\n",
    "    <id>002</id>\n",
    "    <name>Lee</name>\n",
    "</student>\n",
    "</students>"
   ]
  },
  {
   "cell_type": "code",
   "execution_count": 13,
   "id": "0c6f5b25",
   "metadata": {},
   "outputs": [],
   "source": [
    "import os\n",
    "tree=lxml.etree.parse(os.path.join('data','ds_open_hello.xml'))"
   ]
  },
  {
   "cell_type": "code",
   "execution_count": 14,
   "id": "7c2cadfd",
   "metadata": {},
   "outputs": [],
   "source": [
    "root = tree.getroot()"
   ]
  },
  {
   "cell_type": "code",
   "execution_count": null,
   "id": "ed120e59",
   "metadata": {},
   "outputs": [],
   "source": []
  }
 ],
 "metadata": {
  "kernelspec": {
   "display_name": "bigdata_analysis",
   "language": "python",
   "name": "bigdata_analysis"
  },
  "language_info": {
   "codemirror_mode": {
    "name": "ipython",
    "version": 3
   },
   "file_extension": ".py",
   "mimetype": "text/x-python",
   "name": "python",
   "nbconvert_exporter": "python",
   "pygments_lexer": "ipython3",
   "version": "3.8.11"
  }
 },
 "nbformat": 4,
 "nbformat_minor": 5
}
