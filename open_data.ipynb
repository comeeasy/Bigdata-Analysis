{
 "cells": [
  {
   "cell_type": "markdown",
   "id": "61446a83",
   "metadata": {},
   "source": [
    "# cURL"
   ]
  },
  {
   "cell_type": "code",
   "execution_count": 16,
   "id": "68b5bc48",
   "metadata": {},
   "outputs": [
    {
     "name": "stdout",
     "output_type": "stream",
     "text": [
      "{\r\n",
      "  \"origin\": \"203.237.172.100\"\r\n",
      "}\r\n"
     ]
    }
   ],
   "source": [
    "!curl http://httpbin.org/ip"
   ]
  },
  {
   "cell_type": "code",
   "execution_count": 17,
   "id": "9753c02a",
   "metadata": {},
   "outputs": [
    {
     "name": "stdout",
     "output_type": "stream",
     "text": [
      "{\r\n",
      "  \"args\": {}, \r\n",
      "  \"headers\": {\r\n",
      "    \"Accept\": \"*/*\", \r\n",
      "    \"Host\": \"httpbin.org\", \r\n",
      "    \"User-Agent\": \"curl/7.71.1\", \r\n",
      "    \"X-Amzn-Trace-Id\": \"Root=1-6136fed5-2f2af59837c12cb95d822723\"\r\n",
      "  }, \r\n",
      "  \"origin\": \"203.237.172.100\", \r\n",
      "  \"url\": \"http://httpbin.org/get\"\r\n",
      "}\r\n"
     ]
    }
   ],
   "source": [
    "!curl http://httpbin.org/get"
   ]
  },
  {
   "cell_type": "code",
   "execution_count": 19,
   "id": "030a494c",
   "metadata": {},
   "outputs": [
    {
     "name": "stdout",
     "output_type": "stream",
     "text": [
      "{\r\n",
      "  \"args\": {\r\n",
      "    \"myname\": \"js\"\r\n",
      "  }, \r\n",
      "  \"headers\": {\r\n",
      "    \"Accept\": \"*/*\", \r\n",
      "    \"Host\": \"httpbin.org\", \r\n",
      "    \"User-Agent\": \"curl/7.71.1\", \r\n",
      "    \"X-Amzn-Trace-Id\": \"Root=1-6136fef7-6afdfcf9225c975b30a56827\"\r\n",
      "  }, \r\n",
      "  \"origin\": \"203.237.172.100\", \r\n",
      "  \"url\": \"http://httpbin.org/get?myname=js\"\r\n",
      "}\r\n"
     ]
    }
   ],
   "source": [
    "!curl http://httpbin.org/get\\?myname\\='js'"
   ]
  },
  {
   "cell_type": "markdown",
   "id": "a8b53bab",
   "metadata": {},
   "source": [
    "# requests"
   ]
  },
  {
   "cell_type": "code",
   "execution_count": 23,
   "id": "90d4fa28",
   "metadata": {},
   "outputs": [
    {
     "data": {
      "text/plain": [
       "'HEAD, OPTIONS, GET'"
      ]
     },
     "execution_count": 23,
     "metadata": {},
     "output_type": "execute_result"
    }
   ],
   "source": [
    "import requests\n",
    "r = requests.options(\"http://httpbin.org/\")\n",
    "\n",
    "r.headers[\"allow\"]"
   ]
  },
  {
   "cell_type": "code",
   "execution_count": 24,
   "id": "7066c833",
   "metadata": {},
   "outputs": [
    {
     "data": {
      "text/plain": [
       "200"
      ]
     },
     "execution_count": 24,
     "metadata": {},
     "output_type": "execute_result"
    }
   ],
   "source": [
    "r.status_code"
   ]
  },
  {
   "cell_type": "code",
   "execution_count": 25,
   "id": "7d0347d2",
   "metadata": {},
   "outputs": [
    {
     "data": {
      "text/plain": [
       "404"
      ]
     },
     "execution_count": 25,
     "metadata": {},
     "output_type": "execute_result"
    }
   ],
   "source": [
    "bad_r = requests.get('http://httpbin.org/status/404')\n",
    "bad_r.status_code"
   ]
  },
  {
   "cell_type": "markdown",
   "id": "36cf3629",
   "metadata": {},
   "source": [
    "# POST\n",
    "\n",
    "- POST는 HTML form에서 입력을 받아 전소하는 경우에 사용한다.\n",
    "- 아래와 같이 data에 전송할 데이터를 dictionary 형식으로 준다."
   ]
  },
  {
   "cell_type": "code",
   "execution_count": 26,
   "id": "bec01481",
   "metadata": {},
   "outputs": [
    {
     "data": {
      "text/plain": [
       "{'args': {},\n",
       " 'data': '',\n",
       " 'files': {},\n",
       " 'form': {'name': 'js'},\n",
       " 'headers': {'Accept': '*/*',\n",
       "  'Accept-Encoding': 'gzip, deflate, br',\n",
       "  'Content-Length': '7',\n",
       "  'Content-Type': 'application/x-www-form-urlencoded',\n",
       "  'Host': 'httpbin.org',\n",
       "  'User-Agent': 'python-requests/2.26.0',\n",
       "  'X-Amzn-Trace-Id': 'Root=1-6137005b-7581d85d3d0ad42167f9cdec'},\n",
       " 'json': None,\n",
       " 'origin': '203.237.172.100',\n",
       " 'url': 'http://httpbin.org/post'}"
      ]
     },
     "execution_count": 26,
     "metadata": {},
     "output_type": "execute_result"
    }
   ],
   "source": [
    "r = requests.post(\"http://httpbin.org/post\", data={'name': 'js'})\n",
    "r.json()"
   ]
  },
  {
   "cell_type": "code",
   "execution_count": 27,
   "id": "b10d9880",
   "metadata": {},
   "outputs": [
    {
     "data": {
      "text/plain": [
       "{'Date': 'Tue, 07 Sep 2021 06:06:22 GMT', 'Content-Type': 'text/html; charset=utf-8', 'Content-Length': '9593', 'Connection': 'keep-alive', 'Server': 'gunicorn/19.9.0', 'Access-Control-Allow-Origin': '*', 'Access-Control-Allow-Credentials': 'true'}"
      ]
     },
     "execution_count": 27,
     "metadata": {},
     "output_type": "execute_result"
    }
   ],
   "source": [
    "r = requests.head(\"http://httpbin.org/\")\n",
    "r.headers"
   ]
  },
  {
   "cell_type": "code",
   "execution_count": 28,
   "id": "4cd8feee",
   "metadata": {},
   "outputs": [
    {
     "data": {
      "text/plain": [
       "'gunicorn/19.9.0'"
      ]
     },
     "execution_count": 28,
     "metadata": {},
     "output_type": "execute_result"
    }
   ],
   "source": [
    "r.headers['Server']"
   ]
  },
  {
   "cell_type": "code",
   "execution_count": 33,
   "id": "f381edb8",
   "metadata": {},
   "outputs": [
    {
     "name": "stdout",
     "output_type": "stream",
     "text": [
      "Date: Tue, 07 Sep 2021 06:10:53 GMT\n",
      "Content-Type: text/html; charset=utf-8\n",
      "Content-Length: 9593\n",
      "Connection: close\n",
      "Server: gunicorn/19.9.0\n",
      "Access-Control-Allow-Origin: *\n",
      "Access-Control-Allow-Credentials: true\n",
      "\n",
      "\n",
      "http://httpbin.org\n"
     ]
    }
   ],
   "source": [
    "import urllib\n",
    "\n",
    "class HeadRequest(urllib.request.Request):\n",
    "    def get_method(self):\n",
    "        return \"HEAD\"\n",
    "    \n",
    "response = urllib.request.urlopen(HeadRequest(\"http://httpbin.org\"))\n",
    "print(response.info())\n",
    "print(response.geturl())"
   ]
  },
  {
   "cell_type": "code",
   "execution_count": 48,
   "id": "8976d7eb",
   "metadata": {},
   "outputs": [],
   "source": [
    "xml_data = '''\n",
    "<students>               \n",
    "    <student x=\"1\">      \n",
    "        <id>001</id>     \n",
    "        <name>Kim</name>\n",
    "    </student>\n",
    "    <student x=\"2\">\n",
    "        <id>002</id>\n",
    "        <name>Lee</name>\n",
    "    </student>\n",
    "</students>\n",
    "'''"
   ]
  },
  {
   "cell_type": "code",
   "execution_count": 49,
   "id": "d3bea2b6",
   "metadata": {},
   "outputs": [
    {
     "data": {
      "text/plain": [
       "<Element students at 0x7fa0d886aac0>"
      ]
     },
     "execution_count": 49,
     "metadata": {},
     "output_type": "execute_result"
    }
   ],
   "source": [
    "import lxml.etree\n",
    "root = lxml.etree.fromstring(xml_data)\n",
    "root"
   ]
  },
  {
   "cell_type": "code",
   "execution_count": 50,
   "id": "2afee782",
   "metadata": {},
   "outputs": [
    {
     "data": {
      "text/plain": [
       "<Element students at 0x7fa0fb8aa940>"
      ]
     },
     "execution_count": 50,
     "metadata": {},
     "output_type": "execute_result"
    }
   ],
   "source": [
    "from io import StringIO\n",
    "tree=lxml.etree.parse(StringIO(xml_data))\n",
    "root=tree.getroot()\n",
    "root"
   ]
  },
  {
   "cell_type": "code",
   "execution_count": 51,
   "id": "ed8e919b",
   "metadata": {},
   "outputs": [
    {
     "data": {
      "text/plain": [
       "'/Users/joono/Desktop/joono/Bigdata-Analysis'"
      ]
     },
     "execution_count": 51,
     "metadata": {},
     "output_type": "execute_result"
    }
   ],
   "source": [
    "import os\n",
    "os.getcwd()"
   ]
  },
  {
   "cell_type": "code",
   "execution_count": 52,
   "id": "b197b09e",
   "metadata": {},
   "outputs": [
    {
     "name": "stdout",
     "output_type": "stream",
     "text": [
      "Overwriting data/ds_open_hello.xml\n"
     ]
    }
   ],
   "source": [
    "%%writefile data/ds_open_hello.xml\n",
    "<students>\n",
    "<student x=\"1\">\n",
    "    <id>001</id>\n",
    "    <name>Kim</name>\n",
    "</student>\n",
    "<student x=\"2\">\n",
    "    <id>002</id>\n",
    "    <name>Lee</name>\n",
    "</student>\n",
    "</students>"
   ]
  },
  {
   "cell_type": "code",
   "execution_count": 53,
   "id": "b87830f6",
   "metadata": {},
   "outputs": [],
   "source": [
    "import os\n",
    "tree=lxml.etree.parse(os.path.join('data','ds_open_hello.xml'))"
   ]
  },
  {
   "cell_type": "code",
   "execution_count": 54,
   "id": "ff5fecdb",
   "metadata": {},
   "outputs": [
    {
     "data": {
      "text/plain": [
       "'students'"
      ]
     },
     "execution_count": 54,
     "metadata": {},
     "output_type": "execute_result"
    }
   ],
   "source": [
    "root = tree.getroot()\n",
    "root.tag"
   ]
  },
  {
   "cell_type": "code",
   "execution_count": 55,
   "id": "1fce4ca9",
   "metadata": {},
   "outputs": [
    {
     "name": "stdout",
     "output_type": "stream",
     "text": [
      "id\n",
      "name\n",
      "id\n",
      "name\n"
     ]
    }
   ],
   "source": [
    "for element in root:\n",
    "    for elem in element:\n",
    "        print(elem.tag)"
   ]
  },
  {
   "cell_type": "code",
   "execution_count": 56,
   "id": "ac839094",
   "metadata": {},
   "outputs": [
    {
     "name": "stdout",
     "output_type": "stream",
     "text": [
      "tag: students, attribute: {}, text: \n",
      "\n",
      "tag: student, attribute: {'x': '1'}, text: \n",
      "    \n",
      "tag: id, attribute: {}, text: 001\n",
      "tag: name, attribute: {}, text: Kim\n",
      "tag: student, attribute: {'x': '2'}, text: \n",
      "    \n",
      "tag: id, attribute: {}, text: 002\n",
      "tag: name, attribute: {}, text: Lee\n"
     ]
    }
   ],
   "source": [
    "for node in root.getiterator():\n",
    "    print(f\"tag: {node.tag}, attribute: {node.attrib}, text: {node.text}\")"
   ]
  },
  {
   "cell_type": "code",
   "execution_count": 58,
   "id": "d2716011",
   "metadata": {},
   "outputs": [
    {
     "name": "stdout",
     "output_type": "stream",
     "text": [
      "001\n",
      "Kim\n"
     ]
    }
   ],
   "source": [
    "std = root.find('student')\n",
    "for node in std:\n",
    "    print(node.text)"
   ]
  },
  {
   "cell_type": "code",
   "execution_count": 59,
   "id": "2d1aa9e6",
   "metadata": {},
   "outputs": [
    {
     "data": {
      "text/plain": [
       "['1', '2']"
      ]
     },
     "execution_count": 59,
     "metadata": {},
     "output_type": "execute_result"
    }
   ],
   "source": [
    "root.xpath('//@x')"
   ]
  },
  {
   "cell_type": "code",
   "execution_count": 66,
   "id": "753f6054",
   "metadata": {},
   "outputs": [
    {
     "data": {
      "text/plain": [
       "['001']"
      ]
     },
     "execution_count": 66,
     "metadata": {},
     "output_type": "execute_result"
    }
   ],
   "source": [
    "root.xpath('//*[@x=1]/id/text()')\n"
   ]
  },
  {
   "cell_type": "code",
   "execution_count": 78,
   "id": "7fa7c710",
   "metadata": {},
   "outputs": [
    {
     "name": "stdout",
     "output_type": "stream",
     "text": [
      "student\n",
      "student\n"
     ]
    }
   ],
   "source": [
    "from lxml.cssselect import CSSSelector\n",
    "\n",
    "sel = CSSSelector('student')\n",
    "nodes = sel(root)\n",
    "\n",
    "for e in nodes:\n",
    "    print(e.tag)"
   ]
  },
  {
   "cell_type": "code",
   "execution_count": 70,
   "id": "f8b59b34",
   "metadata": {},
   "outputs": [
    {
     "data": {
      "text/plain": [
       "'descendant-or-self::student'"
      ]
     },
     "execution_count": 70,
     "metadata": {},
     "output_type": "execute_result"
    }
   ],
   "source": [
    "sel.path"
   ]
  },
  {
   "cell_type": "code",
   "execution_count": 72,
   "id": "5d08360f",
   "metadata": {},
   "outputs": [
    {
     "name": "stdout",
     "output_type": "stream",
     "text": [
      "[<Element student at 0x7fa0fb8c8680>, <Element student at 0x7fa0d87bd440>]\n"
     ]
    }
   ],
   "source": [
    "nodes = sel(root)\n",
    "print(nodes)"
   ]
  },
  {
   "cell_type": "code",
   "execution_count": 73,
   "id": "33614a60",
   "metadata": {},
   "outputs": [],
   "source": [
    "sel = CSSSelector('id')\n",
    "nodes = sel(root)"
   ]
  },
  {
   "cell_type": "code",
   "execution_count": 74,
   "id": "880da8d0",
   "metadata": {},
   "outputs": [
    {
     "name": "stdout",
     "output_type": "stream",
     "text": [
      "001\n",
      "002\n"
     ]
    }
   ],
   "source": [
    "for e in nodes:\n",
    "    print(e.text)"
   ]
  },
  {
   "cell_type": "code",
   "execution_count": 81,
   "id": "7d6eaa01",
   "metadata": {},
   "outputs": [],
   "source": [
    "json_data = '''\n",
    "[\n",
    "{\"id\": \"001\", \"x\": \"2\", \"name\": \"Chunk\"},\n",
    "{\"id\": \"009\", \"x\": \"7\", \"name\": \" Brent\"}\n",
    "]\n",
    "'''"
   ]
  },
  {
   "cell_type": "code",
   "execution_count": 84,
   "id": "6de46c34",
   "metadata": {},
   "outputs": [
    {
     "name": "stdout",
     "output_type": "stream",
     "text": [
      "id: 001, name: Chunk\n",
      "id: 009, name:  Brent\n"
     ]
    }
   ],
   "source": [
    "import json\n",
    "info = json.loads(json_data)\n",
    "\n",
    "for item in info:\n",
    "    print(f\"id: {item['id']}, name: {item['name']}\")"
   ]
  },
  {
   "cell_type": "code",
   "execution_count": 85,
   "id": "604de76e",
   "metadata": {},
   "outputs": [],
   "source": [
    "import json\n",
    "\n",
    "my_json = json.dumps(\n",
    "    [\"foo\", {\"bar\": (\"baz\", None, 1.0, 2)}]\n",
    ")"
   ]
  },
  {
   "cell_type": "code",
   "execution_count": 86,
   "id": "4edabdc8",
   "metadata": {},
   "outputs": [
    {
     "data": {
      "text/plain": [
       "'[\"foo\", {\"bar\": [\"baz\", null, 1.0, 2]}]'"
      ]
     },
     "execution_count": 86,
     "metadata": {},
     "output_type": "execute_result"
    }
   ],
   "source": [
    "my_json"
   ]
  }
 ],
 "metadata": {
  "kernelspec": {
   "display_name": "bigdata_analysis",
   "language": "python",
   "name": "bigdata_analysis"
  },
  "language_info": {
   "codemirror_mode": {
    "name": "ipython",
    "version": 3
   },
   "file_extension": ".py",
   "mimetype": "text/x-python",
   "name": "python",
   "nbconvert_exporter": "python",
   "pygments_lexer": "ipython3",
   "version": "3.8.11"
  }
 },
 "nbformat": 4,
 "nbformat_minor": 5
}
