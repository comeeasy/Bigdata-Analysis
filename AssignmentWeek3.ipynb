{
 "cells": [
  {
   "cell_type": "markdown",
   "id": "2c9ad8c7",
   "metadata": {},
   "source": [
    "# 문제 1\n",
    "\n",
    "문제 1: 오픈API를 통해 데이터를 5천 ~ 1만 건 정도 수집해서 파일로 저장한다 (초과해도 좋다).<br>\n",
    "\n",
    "열린데이터, 공공데이터 또는 (할 수 있다면) 트위터와 같은 SNS, 댓글 등 적합한 소스를 자신이 선택한다.<br>\n",
    "\n",
    "과정의 후반으로 가서, 이 데이터를 분석하는 과제가 주어지게 된다.<br>\n",
    "\n",
    "프로그램에서 몇 건을 읽었는지와 마지막 줄을 화면 출력한다.<br>\n",
    "\n",
    "!dir 명령어로 파일이 존재하는지 출력한다. 1만 건 정도 저장되었으니 파일의 크기가 적당한지 가늠해보자<br>"
   ]
  },
  {
   "cell_type": "markdown",
   "id": "fd1fe916",
   "metadata": {},
   "source": [
    "## 서울특별시 부동산 중개업소 정보"
   ]
  },
  {
   "cell_type": "code",
   "execution_count": 15,
   "id": "ddf500a4",
   "metadata": {},
   "outputs": [
    {
     "name": "stdout",
     "output_type": "stream",
     "text": [
      "57497959747a7a313132306b6e47494f\n"
     ]
    }
   ],
   "source": [
    "import src.myOauth as OAuth\n",
    "\n",
    "keys = OAuth.getKey('./data/key.properties')\n",
    "serviceKey = keys['dataseoul']\n",
    "\n",
    "print(serviceKey)"
   ]
  },
  {
   "cell_type": "code",
   "execution_count": 16,
   "id": "e0fda753",
   "metadata": {},
   "outputs": [],
   "source": [
    "_type = 'json'\n",
    "_service = 'landBizInfo'\n",
    "_start_idx = 1\n",
    "_end_idx = 10\n",
    "\n",
    "params = \"/\".join([serviceKey, _type, _service, str(_start_idx), str(_end_idx)])"
   ]
  },
  {
   "cell_type": "code",
   "execution_count": 17,
   "id": "64013457",
   "metadata": {},
   "outputs": [
    {
     "name": "stdout",
     "output_type": "stream",
     "text": [
      "http://openapi.seoul.go.kr:8088/57497959747a7a313132306b6e47494f/json/landBizInfo/1/10\n"
     ]
    }
   ],
   "source": [
    "import requests\n",
    "import json\n",
    "\n",
    "base_url = 'http://openapi.seoul.go.kr:8088'\n",
    "url = base_url + \"/\" + params\n",
    "print(url)\n"
   ]
  },
  {
   "cell_type": "code",
   "execution_count": 19,
   "id": "5954f792",
   "metadata": {},
   "outputs": [
    {
     "name": "stderr",
     "output_type": "stream",
     "text": [
      "100%|████████████████████████████████████████████████████████████████████████████████████████████| 27/27 [00:07<00:00,  3.53it/s]\n"
     ]
    }
   ],
   "source": [
    "from tqdm import tqdm\n",
    "\n",
    "r = requests.get(url)\n",
    "landBizInfo = r.json()\n",
    "total_num_of_data = landBizInfo['landBizInfo']['list_total_count']\n",
    "\n",
    "# getting whole data\n",
    "batch_size = 1000\n",
    "with open(\"./data/assignmentWeek3.json\", \"w+\") as f:\n",
    "    for i in tqdm(range(1, total_num_of_data, batch_size)):\n",
    "        _start_idx = i\n",
    "        _end_idx = i + batch_size - 1\n",
    "        params = \"/\".join([serviceKey, _type, _service, str(_start_idx), str(_end_idx)])\n",
    "        url = base_url + \"/\" + params\n",
    "        \n",
    "        r = requests.get(url)\n",
    "        houseRentPriceInfo = r.json()\n",
    "        for elem in houseRentPriceInfo['landBizInfo']['row']:\n",
    "            f.write(json.dumps(elem))\n",
    "            f.write('\\n')"
   ]
  },
  {
   "cell_type": "code",
   "execution_count": 2,
   "id": "aa1747ec",
   "metadata": {},
   "outputs": [
    {
     "name": "stdout",
     "output_type": "stream",
     "text": [
      "-rw-r--r--  1 joono  staff    17M Sep 16 23:15 assignmentWeek3.json\r\n"
     ]
    }
   ],
   "source": [
    "!ls -hl data | grep assignmentWeek3.json"
   ]
  },
  {
   "cell_type": "markdown",
   "id": "e339a65c",
   "metadata": {},
   "source": [
    "# 문제 2\n",
    "\n",
    "문제 2: 노트북에서 pyspark 실행<br>\n",
    "주피터 노트북을 실행한 후, 셀에서 아래 명령어를 실행하여 spark를 생성하고, 그 버전을 출력하세요.<br>\n",
    "\n",
    "[In] spark.version<br>\n",
    "[Out] '3.x.x'<br>\n",
    "\n",
    "그리고 다음과 같이 버전을 출력한다.<br>\n",
    "pyspark는 jdk가 설치되어 있어야 한다.<br>\n",
    "!java --version   #spark v2.x는 java 8이 적당.<br>\n",
    "!javac --version  #java 버전과 동일한지 확인한다.<br>\n",
    "!python --version <br>\n",
    "!python3 --version # python 2, 3 멀티 버전이 설치된 경우에만 출력<br>\n",
    "\n",
    "import sys<br>\n",
    "print(sys.version) # 자신이 사용하는 python 버전과 동일한지 확인한다.<br>"
   ]
  },
  {
   "cell_type": "code",
   "execution_count": null,
   "id": "898837a5",
   "metadata": {},
   "outputs": [],
   "source": [
    "# mac zsh에서 실행한 내용입니다.\n",
    "\n",
    "(bigdata_analysis) ➜  Bigdata-Analysis git:(main) ✗ pyspark\n",
    "Python 3.8.11 (default, Aug  6 2021, 08:56:27)\n",
    "[Clang 10.0.0 ] :: Anaconda, Inc. on darwin\n",
    "Type \"help\", \"copyright\", \"credits\" or \"license\" for more information.\n",
    "21/09/17 01:32:07 WARN Utils: Your hostname, gimjunhoui-MacBookAir.local resolves to a loopback address: 127.0.0.1; using 172.30.1.35 instead (on interface en0)\n",
    "21/09/17 01:32:07 WARN Utils: Set SPARK_LOCAL_IP if you need to bind to another address\n",
    "21/09/17 01:32:08 WARN NativeCodeLoader: Unable to load native-hadoop library for your platform... using builtin-java classes where applicable\n",
    "Using Spark's default log4j profile: org/apache/spark/log4j-defaults.properties\n",
    "Setting default log level to \"WARN\".\n",
    "To adjust logging level use sc.setLogLevel(newLevel). For SparkR, use setLogLevel(newLevel).\n",
    "Welcome to\n",
    "      ____              __\n",
    "     / __/__  ___ _____/ /__\n",
    "    _\\ \\/ _ \\/ _ `/ __/  '_/\n",
    "   /__ / .__/\\_,_/_/ /_/\\_\\   version 3.1.2\n",
    "      /_/\n",
    "\n",
    "Using Python version 3.8.11 (default, Aug  6 2021 08:56:27)\n",
    "Spark context Web UI available at http://172.30.1.35:4040\n",
    "Spark context available as 'sc' (master = local[*], app id = local-1631809929808).\n",
    "SparkSession available as 'spark'.\n",
    ">>>"
   ]
  },
  {
   "cell_type": "code",
   "execution_count": 23,
   "id": "92a25b6a",
   "metadata": {},
   "outputs": [],
   "source": [
    "import pyspark"
   ]
  },
  {
   "cell_type": "code",
   "execution_count": 24,
   "id": "c6892b65",
   "metadata": {},
   "outputs": [
    {
     "name": "stdout",
     "output_type": "stream",
     "text": [
      "3.1.2\n"
     ]
    }
   ],
   "source": [
    "print(pyspark.__version__)"
   ]
  },
  {
   "cell_type": "code",
   "execution_count": 1,
   "id": "4953af60",
   "metadata": {},
   "outputs": [
    {
     "name": "stdout",
     "output_type": "stream",
     "text": [
      "openjdk 16.0.2 2021-07-20\n",
      "OpenJDK Runtime Environment (build 16.0.2+7-67)\n",
      "OpenJDK 64-Bit Server VM (build 16.0.2+7-67, mixed mode, sharing)\n",
      "javac 16.0.2\n",
      "Python 3.8.11\n",
      "Python 3.8.11\n",
      "3.8.11 (default, Aug  6 2021, 08:56:27) \n",
      "[Clang 10.0.0 ]\n"
     ]
    }
   ],
   "source": [
    "!java --version\n",
    "!javac --version\n",
    "!python --version  \n",
    "!python3 --version\n",
    "\n",
    "import sys\n",
    "print(sys.version) # 자신이 사용하는 python 버전과 동일한지 확인한다."
   ]
  },
  {
   "cell_type": "code",
   "execution_count": null,
   "id": "a9d25011",
   "metadata": {},
   "outputs": [],
   "source": []
  }
 ],
 "metadata": {
  "kernelspec": {
   "display_name": "bigdata_analysis",
   "language": "python",
   "name": "bigdata_analysis"
  },
  "language_info": {
   "codemirror_mode": {
    "name": "ipython",
    "version": 3
   },
   "file_extension": ".py",
   "mimetype": "text/x-python",
   "name": "python",
   "nbconvert_exporter": "python",
   "pygments_lexer": "ipython3",
   "version": "3.8.11"
  }
 },
 "nbformat": 4,
 "nbformat_minor": 5
}
