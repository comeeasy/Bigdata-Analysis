{
 "cells": [
  {
   "cell_type": "markdown",
   "id": "2c9ad8c7",
   "metadata": {},
   "source": [
    "# 문제 1\n",
    "\n",
    "문제 1: 오픈API를 통해 데이터를 5천 ~ 1만 건 정도 수집해서 파일로 저장한다 (초과해도 좋다).<br>\n",
    "\n",
    "열린데이터, 공공데이터 또는 (할 수 있다면) 트위터와 같은 SNS, 댓글 등 적합한 소스를 자신이 선택한다.<br>\n",
    "\n",
    "과정의 후반으로 가서, 이 데이터를 분석하는 과제가 주어지게 된다.<br>\n",
    "\n",
    "프로그램에서 몇 건을 읽었는지와 마지막 줄을 화면 출력한다.<br>\n",
    "\n",
    "!dir 명령어로 파일이 존재하는지 출력한다. 1만 건 정도 저장되었으니 파일의 크기가 적당한지 가늠해보자<br>"
   ]
  },
  {
   "cell_type": "markdown",
   "id": "fd1fe916",
   "metadata": {},
   "source": [
    "## 서울특별시 부동산 중개업소 정보"
   ]
  },
  {
   "cell_type": "code",
   "execution_count": 15,
   "id": "ddf500a4",
   "metadata": {},
   "outputs": [
    {
     "name": "stdout",
     "output_type": "stream",
     "text": [
      "57497959747a7a313132306b6e47494f\n"
     ]
    }
   ],
   "source": [
    "import src.myOauth as OAuth\n",
    "\n",
    "keys = OAuth.getKey('./data/key.properties')\n",
    "serviceKey = keys['dataseoul']\n",
    "\n",
    "print(serviceKey)"
   ]
  },
  {
   "cell_type": "code",
   "execution_count": 16,
   "id": "e0fda753",
   "metadata": {},
   "outputs": [],
   "source": [
    "_type = 'json'\n",
    "_service = 'landBizInfo'\n",
    "_start_idx = 1\n",
    "_end_idx = 10\n",
    "\n",
    "params = \"/\".join([serviceKey, _type, _service, str(_start_idx), str(_end_idx)])"
   ]
  },
  {
   "cell_type": "code",
   "execution_count": 17,
   "id": "64013457",
   "metadata": {},
   "outputs": [
    {
     "name": "stdout",
     "output_type": "stream",
     "text": [
      "http://openapi.seoul.go.kr:8088/57497959747a7a313132306b6e47494f/json/landBizInfo/1/10\n"
     ]
    }
   ],
   "source": [
    "import requests\n",
    "import json\n",
    "\n",
    "base_url = 'http://openapi.seoul.go.kr:8088'\n",
    "url = base_url + \"/\" + params\n",
    "print(url)\n"
   ]
  },
  {
   "cell_type": "code",
   "execution_count": 19,
   "id": "5954f792",
   "metadata": {},
   "outputs": [
    {
     "name": "stderr",
     "output_type": "stream",
     "text": [
      "100%|████████████████████████████████████████████████████████████████████████████████████████████| 27/27 [00:07<00:00,  3.53it/s]\n"
     ]
    }
   ],
   "source": [
    "from tqdm import tqdm\n",
    "\n",
    "r = requests.get(url)\n",
    "landBizInfo = r.json()\n",
    "total_num_of_data = landBizInfo['landBizInfo']['list_total_count']\n",
    "\n",
    "# getting whole data\n",
    "batch_size = 1000\n",
    "with open(\"./data/assignmentWeek3.json\", \"w+\") as f:\n",
    "    for i in tqdm(range(1, total_num_of_data, batch_size)):\n",
    "        _start_idx = i\n",
    "        _end_idx = i + batch_size - 1\n",
    "        params = \"/\".join([serviceKey, _type, _service, str(_start_idx), str(_end_idx)])\n",
    "        url = base_url + \"/\" + params\n",
    "        \n",
    "        r = requests.get(url)\n",
    "        houseRentPriceInfo = r.json()\n",
    "        for elem in houseRentPriceInfo['landBizInfo']['row']:\n",
    "            f.write(json.dumps(elem))\n",
    "            f.write('\\n')"
   ]
  },
  {
   "cell_type": "code",
   "execution_count": 2,
   "id": "aa1747ec",
   "metadata": {},
   "outputs": [
    {
     "name": "stdout",
     "output_type": "stream",
     "text": [
      "-rw-r--r--  1 joono  staff    17M Sep 16 23:15 assignmentWeek3.json\r\n"
     ]
    }
   ],
   "source": [
    "!ls -hl data | grep assignmentWeek3.json"
   ]
  },
  {
   "cell_type": "markdown",
   "id": "e339a65c",
   "metadata": {},
   "source": [
    "# 문제 2\n",
    "\n",
    "문제 2: 노트북에서 pyspark 실행<br>\n",
    "주피터 노트북을 실행한 후, 셀에서 아래 명령어를 실행하여 spark를 생성하고, 그 버전을 출력하세요.<br>\n",
    "\n",
    "[In] spark.version<br>\n",
    "[Out] '3.x.x'<br>\n",
    "\n",
    "그리고 다음과 같이 버전을 출력한다.<br>\n",
    "pyspark는 jdk가 설치되어 있어야 한다.<br>\n",
    "!java --version   #spark v2.x는 java 8이 적당.<br>\n",
    "!javac --version  #java 버전과 동일한지 확인한다.<br>\n",
    "!python --version <br>\n",
    "!python3 --version # python 2, 3 멀티 버전이 설치된 경우에만 출력<br>\n",
    "\n",
    "import sys<br>\n",
    "print(sys.version) # 자신이 사용하는 python 버전과 동일한지 확인한다.<br>"
   ]
  },
  {
   "cell_type": "code",
   "execution_count": null,
   "id": "898837a5",
   "metadata": {},
   "outputs": [],
   "source": [
    "# mac zsh에서 실행한 내용입니다.\n",
    "\n",
    "(bigdata_analysis) ➜  Bigdata-Analysis git:(main) ✗ pyspark\n",
    "Python 3.8.11 (default, Aug  6 2021, 08:56:27)\n",
    "[Clang 10.0.0 ] :: Anaconda, Inc. on darwin\n",
    "Type \"help\", \"copyright\", \"credits\" or \"license\" for more information.\n",
    "21/09/17 01:32:07 WARN Utils: Your hostname, gimjunhoui-MacBookAir.local resolves to a loopback address: 127.0.0.1; using 172.30.1.35 instead (on interface en0)\n",
    "21/09/17 01:32:07 WARN Utils: Set SPARK_LOCAL_IP if you need to bind to another address\n",
    "21/09/17 01:32:08 WARN NativeCodeLoader: Unable to load native-hadoop library for your platform... using builtin-java classes where applicable\n",
    "Using Spark's default log4j profile: org/apache/spark/log4j-defaults.properties\n",
    "Setting default log level to \"WARN\".\n",
    "To adjust logging level use sc.setLogLevel(newLevel). For SparkR, use setLogLevel(newLevel).\n",
    "Welcome to\n",
    "      ____              __\n",
    "     / __/__  ___ _____/ /__\n",
    "    _\\ \\/ _ \\/ _ `/ __/  '_/\n",
    "   /__ / .__/\\_,_/_/ /_/\\_\\   version 3.1.2\n",
    "      /_/\n",
    "\n",
    "Using Python version 3.8.11 (default, Aug  6 2021 08:56:27)\n",
    "Spark context Web UI available at http://172.30.1.35:4040\n",
    "Spark context available as 'sc' (master = local[*], app id = local-1631809929808).\n",
    "SparkSession available as 'spark'.\n",
    ">>>"
   ]
  },
  {
   "cell_type": "code",
   "execution_count": 3,
   "id": "92a25b6a",
   "metadata": {},
   "outputs": [],
   "source": [
    "import pyspark"
   ]
  },
  {
   "cell_type": "code",
   "execution_count": 4,
   "id": "c6892b65",
   "metadata": {},
   "outputs": [
    {
     "name": "stderr",
     "output_type": "stream",
     "text": [
      "21/09/18 00:39:01 WARN Utils: Your hostname, gimjunhoui-MacBookAir.local resolves to a loopback address: 127.0.0.1; using 192.168.0.34 instead (on interface en0)\n",
      "21/09/18 00:39:01 WARN Utils: Set SPARK_LOCAL_IP if you need to bind to another address\n",
      "21/09/18 00:39:01 WARN NativeCodeLoader: Unable to load native-hadoop library for your platform... using builtin-java classes where applicable\n",
      "Using Spark's default log4j profile: org/apache/spark/log4j-defaults.properties\n",
      "Setting default log level to \"WARN\".\n",
      "To adjust logging level use sc.setLogLevel(newLevel). For SparkR, use setLogLevel(newLevel).\n",
      "21/09/18 00:39:02 WARN Utils: Service 'SparkUI' could not bind on port 4040. Attempting port 4041.\n"
     ]
    },
    {
     "data": {
      "text/plain": [
       "'3.1.2'"
      ]
     },
     "execution_count": 4,
     "metadata": {},
     "output_type": "execute_result"
    }
   ],
   "source": [
    "myConf = pyspark.SparkConf()\n",
    "spark = pyspark.sql.SparkSession\\\n",
    "                    .builder\\\n",
    "                    .master(\"local\")\\\n",
    "                    .appName(\"myApp\")\\\n",
    "                    .config(conf=myConf)\\\n",
    "                    .getOrCreate()\n",
    "spark.version"
   ]
  },
  {
   "cell_type": "code",
   "execution_count": 5,
   "id": "4953af60",
   "metadata": {},
   "outputs": [
    {
     "name": "stdout",
     "output_type": "stream",
     "text": [
      "Unrecognized option: --version\n",
      "Error: Could not create the Java Virtual Machine.\n",
      "Error: A fatal exception has occurred. Program will exit.\n",
      "javac: invalid flag: --version\n",
      "Usage: javac <options> <source files>\n",
      "use -help for a list of possible options\n",
      "Python 3.8.8\n",
      "Python 3.8.8\n",
      "3.8.11 (default, Aug  6 2021, 08:56:27) \n",
      "[Clang 10.0.0 ]\n"
     ]
    }
   ],
   "source": [
    "!java --version\n",
    "!javac --version\n",
    "!python --version  \n",
    "!python3 --version\n",
    "\n",
    "import sys\n",
    "print(sys.version) # 자신이 사용하는 python 버전과 동일한지 확인한다."
   ]
  },
  {
   "cell_type": "markdown",
   "id": "776276ed",
   "metadata": {},
   "source": [
    "# 문제 3\n",
    "- 다음 파일을 읽어서 RDD를 생성하고, 5줄을 화면출력하세요.<br>\n",
    "결과가 깨져보인다면, 그 이유를 간단히 적으세요."
   ]
  },
  {
   "cell_type": "code",
   "execution_count": 7,
   "id": "ccee36b7",
   "metadata": {},
   "outputs": [
    {
     "name": "stdout",
     "output_type": "stream",
     "text": [
      "data/경기도 의정부시_인구현황_20210910.csv\r\n",
      "data/제주특별자치도 서귀포시_고령화비율및노령화지수현황_20210831.csv\r\n"
     ]
    }
   ],
   "source": [
    "! ls data/*.csv"
   ]
  },
  {
   "cell_type": "code",
   "execution_count": 9,
   "id": "ddb8c58b",
   "metadata": {},
   "outputs": [
    {
     "name": "stderr",
     "output_type": "stream",
     "text": [
      "                                                                                \r"
     ]
    },
    {
     "data": {
      "text/plain": [
       "['�������,�α���(��),�α���(��),�α���(��),������(��),������(��),������(��),����,�����,������α�,���������,�����μ���,�μ���ȭ��ȣ,�����ͱ�������',\n",
       " '������1��,32292,16538,15754,6.97,3.57,3.4,104.98,19998,1.61,�����ν�,�ο����ǰ�,031-828-2466,2021-09-10',\n",
       " '������2��,31380,15608,15772,6.77,3.37,3.4,98.96,16410,1.91,�����ν�,�ο����ǰ�,031-828-2466,2021-09-10',\n",
       " 'ȣ��1��,36124,17595,18529,7.8,3.8,4,94.96,15653,2.31,�����ν�,�ο����ǰ�,031-828-2466,2021-09-10',\n",
       " 'ȣ��2��,34957,16923,18034,7.54,3.65,3.89,93.84,13683,2.55,�����ν�,�ο����ǰ�,031-828-2466,2021-09-10']"
      ]
     },
     "execution_count": 9,
     "metadata": {},
     "output_type": "execute_result"
    }
   ],
   "source": [
    "popRdd = spark.sparkContext.textFile('./data/경기도 의정부시_인구현황_20210910.csv')\n",
    "popRdd.take(5)"
   ]
  },
  {
   "cell_type": "code",
   "execution_count": 10,
   "id": "d6b0a350",
   "metadata": {},
   "outputs": [
    {
     "data": {
      "text/plain": [
       "['������,�������� �α���,65���̻� �α��� ,14������ �α���,���ȭ����,���ȭ����,�����ͱ�������',\n",
       " '2012,154057,25826,22861,16.76,112.97,2021-08-31',\n",
       " '2013,155641,26936,22393,17.31,120.29,2021-08-31',\n",
       " '2014,158512,27877,22058,17.59,126.38,2021-08-31',\n",
       " '2015,164519,28979,22362,17.61,129.59,2021-08-31']"
      ]
     },
     "execution_count": 10,
     "metadata": {},
     "output_type": "execute_result"
    }
   ],
   "source": [
    "popRdd = spark.sparkContext.textFile('./data/제주특별자치도 서귀포시_고령화비율및노령화지수현황_20210831.csv')\n",
    "popRdd.take(5)"
   ]
  },
  {
   "cell_type": "markdown",
   "id": "ec5ad307",
   "metadata": {},
   "source": [
    "- 위와 같이 깨져서 보이는 이유는 다운로드를 받으면서 한글이 깨져 있기 때문이다.<br>\n",
    "따라서 다운로드 받은 파일을 수정해서 출력하면 된다.<br>\n",
    "\n",
    "### binaryFiles\n",
    "- 위 함수로 이진 파일을 읽어서 다시 decode하면 된다."
   ]
  },
  {
   "cell_type": "code",
   "execution_count": 13,
   "id": "4eb20bb9",
   "metadata": {},
   "outputs": [
    {
     "data": {
      "text/plain": [
       "['행정기관,인구수(계),인구수(남),인구수(여),구성비(계),구성비(남),구성비(여),성비,세대수,세대당인구,관리기관명,관리부서명,부서전화번호,데이터기준일자\\r\\n의정부1동,32292,16538,15754,6.97,3.57,3.4,104.98,19998,1.61,의정부시,민원여권과,031-828-2466,2021-09-10\\r\\n의정부2동,31380,15608,15772,6.77,3.37,3.4,98.96,16410,1.91,의정부시,민원여권과,031-828-2466,2021-09-10\\r\\n호원1동,36124,17595,18529,7.8,3.8,4,94.96,15653,2.31,의정부시,민원여권과,031-828-2466,2021-09-10\\r\\n호원2동,34957,16923,18034,7.54,3.65,3.89,93.84,13683,2.55,의정부시,민원여권과,031-828-2466,2021-09-10\\r\\n장암동,20314,9714,10600,4.38,2.1,2.29,91.64,8604,2.36,의정부시,민원여권과,031-828-2466,2021-09-10\\r\\n신곡1동,43159,21205,21954,9.31,4.58,4.74,96.59,17990,2.4,의정부시,민원여권과,031-828-2466,2021-09-10\\r\\n신곡2동,47852,23232,24620,10.33,5.01,5.31,94.36,19218,2.49,의정부시,민원여권과,031-828-2466,2021-09-10\\r\\n송산1동,42817,21276,21541,9.24,4.59,4.65,98.77,18811,2.28,의정부시,민원여권과,031-828-2466,2021-09-10\\r\\n송산2동,33565,16601,16964,7.24,3.58,3.66,97.86,13216,2.54,의정부시,민원여권과,031-828-2466,2021-09-10\\r\\n송산3동,46892,22772,24120,10.12,4.91,5.21,94.41,17926,2.62,의정부시,민원여권과,031-828-2466,2021-09-10\\r\\n자금동,27087,13270,13817,5.85,2.86,2.98,96.04,11868,2.28,의정부시,민원여권과,031-828-2466,2021-09-10\\r\\n가능동,25990,12974,13016,5.61,2.8,2.81,99.68,12492,2.08,의정부시,민원여권과,031-828-2466,2021-09-10\\r\\n흥선동,19176,9769,9407,4.14,2.11,2.03,103.85,9380,2.04,의정부시,민원여권과,031-828-2466,2021-09-10\\r\\n녹양동,21768,10872,10896,4.7,2.35,2.35,99.78,9556,2.28,의정부시,민원여권과,031-828-2466,2021-09-10\\r\\n']"
      ]
     },
     "execution_count": 13,
     "metadata": {},
     "output_type": "execute_result"
    }
   ],
   "source": [
    "popRddBin = spark.sparkContext.binaryFiles(\"./data/경기도 의정부시_인구현황_20210910.csv\")\n",
    "_my = popRddBin.map(lambda x :x[1].decode('euc-kr'))\n",
    "_my.take(5)"
   ]
  },
  {
   "cell_type": "code",
   "execution_count": 14,
   "id": "a6e23f63",
   "metadata": {},
   "outputs": [
    {
     "data": {
      "text/plain": [
       "['연도별,서귀포시 인구수,65세이상 인구수 ,14세이하 인구수,고령화비율,노령화지수,데이터기준일자\\r\\n2012,154057,25826,22861,16.76,112.97,2021-08-31\\r\\n2013,155641,26936,22393,17.31,120.29,2021-08-31\\r\\n2014,158512,27877,22058,17.59,126.38,2021-08-31\\r\\n2015,164519,28979,22362,17.61,129.59,2021-08-31\\r\\n2016,170932,30030,23044,17.57,130.32,2021-08-31\\r\\n2017,173302,30545,23300,17.63,131.09,2021-08-31\\r\\n2018,181245,32394,24013,17.87,134.9,2021-08-31\\r\\n2019,181584,33707,23707,18.56,142.18,2021-08-31\\r\\n2020,181059,34456,23579,19.03,146.13,2021-08-31\\r\\n2021,183015,36353,23759,19.86,141.12,2021-08-31\\r\\n']"
      ]
     },
     "execution_count": 14,
     "metadata": {},
     "output_type": "execute_result"
    }
   ],
   "source": [
    "popRddBin = spark.sparkContext.binaryFiles(\"./data/제주특별자치도 서귀포시_고령화비율및노령화지수현황_20210831.csv\")\n",
    "_my = popRddBin.map(lambda x :x[1].decode('euc-kr'))\n",
    "_my.take(5)"
   ]
  },
  {
   "cell_type": "code",
   "execution_count": null,
   "id": "82835afb",
   "metadata": {},
   "outputs": [],
   "source": []
  }
 ],
 "metadata": {
  "kernelspec": {
   "display_name": "bigdata_analysis",
   "language": "python",
   "name": "bigdata_analysis"
  },
  "language_info": {
   "codemirror_mode": {
    "name": "ipython",
    "version": 3
   },
   "file_extension": ".py",
   "mimetype": "text/x-python",
   "name": "python",
   "nbconvert_exporter": "python",
   "pygments_lexer": "ipython3",
   "version": "3.8.11"
  }
 },
 "nbformat": 4,
 "nbformat_minor": 5
}
