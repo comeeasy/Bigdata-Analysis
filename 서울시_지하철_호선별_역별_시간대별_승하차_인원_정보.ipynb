{
 "cells": [
  {
   "cell_type": "code",
   "execution_count": 1,
   "id": "fa2d24b6",
   "metadata": {},
   "outputs": [
    {
     "name": "stdout",
     "output_type": "stream",
     "text": [
      "{'dataseoul': '57497959747a7a313132306b6e47494f', '서울특별시교육청공공도서관': 'XBG0LQcumlIVYW8kHTG1HUFE3e9bwlIxNktMsQnj1kjvNGKVUFl7gQ/NSPAxWIWrToDGxw7Q9/cGNfUsqBH9Xw=='}\n"
     ]
    }
   ],
   "source": [
    "import src.myOauth as OAuth\n",
    "\n",
    "public_keys = OAuth.getKey(\"data/key.properties\")\n",
    "print(public_keys)"
   ]
  },
  {
   "cell_type": "code",
   "execution_count": 12,
   "id": "5a4cbcdc",
   "metadata": {},
   "outputs": [
    {
     "name": "stdout",
     "output_type": "stream",
     "text": [
      "http://openapi.seoul.go.kr:8088/57497959747a7a313132306b6e47494f/xml/CardSubwayTime/1/2/201501\n"
     ]
    }
   ],
   "source": [
    "base_url = \"http://openapi.seoul.go.kr:8088\"\n",
    "\n",
    "key = str(public_keys[\"dataseoul\"])\n",
    "data_type = \"xml\"\n",
    "service = \"CardSubwayTime\"\n",
    "start_idx = 1\n",
    "end_idx = 2\n",
    "use_month = \"201501\"\n",
    "\n",
    "params = \"/\".join([key, data_type, service, str(start_idx), str(end_idx), use_month])\n",
    "url = base_url + \"/\" + params\n",
    "\n",
    "print(url)"
   ]
  },
  {
   "cell_type": "code",
   "execution_count": 13,
   "id": "0f63963e",
   "metadata": {},
   "outputs": [
    {
     "name": "stdout",
     "output_type": "stream",
     "text": [
      "<?xml version=\"1.0\" encoding=\"UTF-8\"?>\n",
      "<CardSubwayTime>\n",
      "<list_total_count>551</list_total_count>\n",
      "<RESULT>\n",
      "<CODE>INFO-000</CODE>\n",
      "<MESSAGE>정상 처리되었습니다</MESSAGE>\n",
      "</RESULT>\n",
      "<row>\n",
      "<USE_MON>201501</USE_MON>\n",
      "<LINE_NUM>과천선</LINE_NUM>\n",
      "<SUB_STA_NM>과천</SUB_STA_NM>\n",
      "<FOUR_RIDE_NUM>7</FOUR_RIDE_NUM>\n",
      "<FOUR_ALIGHT_NUM>0</FOUR_ALIGHT_NUM>\n",
      "<FIVE_RIDE_NUM>1903</FIVE_RIDE_NUM>\n",
      "<FIVE_ALIGHT_NUM>236</FIVE_ALIGHT_NUM>\n",
      "<SIX_RIDE_NUM>6428</SIX_RIDE_NUM>\n",
      "<SIX_ALIGHT_NUM>1452</SIX_ALIGHT_NUM>\n",
      "<SEVEN_RIDE_NUM>21744</SEVEN_RIDE_NUM>\n",
      "<SEVEN_ALIGHT_NUM>2548</SEVEN_ALIGHT_NUM>\n",
      "<EIGHT_RIDE_NUM>22540</EIGHT_RIDE_NUM>\n",
      "<EIGHT_ALIGHT_NUM>7153</EIGHT_ALIGHT_NUM>\n",
      "<NINE_RIDE_NUM>14929</NINE_RIDE_NUM>\n",
      "<NINE_ALIGHT_NUM>6124</NINE_ALIGHT_NUM>\n",
      "<TEN_RIDE_NUM>11321</TEN_RIDE_NUM>\n",
      "<TEN_ALIGHT_NUM>5761</TEN_ALIGHT_NUM>\n",
      "<ELEVEN_RIDE_NUM>10800</ELEVEN_RIDE_NUM>\n",
      "<ELEVEN_ALIGHT_NUM>5531</ELEVEN_ALIGHT_NUM>\n",
      "<TWELVE_RIDE_NUM>11332</TWELVE_RIDE_NUM>\n",
      "<TWELVE_ALIGHT_NUM>6085</TWELVE_ALIGHT_NUM>\n",
      "<THIRTEEN_RIDE_NUM>11526</THIRTEEN_RIDE_NUM>\n",
      "<THIRTEEN_ALIGHT_NUM>6699</THIRTEEN_ALIGHT_NUM>\n",
      "<FOURTEEN_RIDE_NUM>10410</FOURTEEN_RIDE_NUM>\n",
      "<FOURTEEN_ALIGHT_NUM>7067</FOURTEEN_ALIGHT_NUM>\n",
      "<FIFTEEN_RIDE_NUM>9239</FIFTEEN_RIDE_NUM>\n",
      "<FIFTEEN_ALIGHT_NUM>8214</FIFTEEN_ALIGHT_NUM>\n",
      "<SIXTEEN_RIDE_NUM>9594</SIXTEEN_RIDE_NUM>\n",
      "<SIXTEEN_ALIGHT_NUM>9742</SIXTEEN_ALIGHT_NUM>\n",
      "<SEVENTEEN_RIDE_NUM>10017</SEVENTEEN_RIDE_NUM>\n",
      "<SEVENTEEN_ALIGHT_NUM>11606</SEVENTEEN_ALIGHT_NUM>\n",
      "<EIGHTEEN_RIDE_NUM>9496</EIGHTEEN_RIDE_NUM>\n",
      "<EIGHTEEN_ALIGHT_NUM>15293</EIGHTEEN_ALIGHT_NUM>\n",
      "<NINETEEN_RIDE_NUM>5055</NINETEEN_RIDE_NUM>\n",
      "<NINETEEN_ALIGHT_NUM>16540</NINETEEN_ALIGHT_NUM>\n",
      "<TWENTY_RIDE_NUM>3497</TWENTY_RIDE_NUM>\n",
      "<TWENTY_ALIGHT_NUM>11130</TWENTY_ALIGHT_NUM>\n",
      "<TWENTY_ONE_RIDE_NUM>2674</TWENTY_ONE_RIDE_NUM>\n",
      "<TWENTY_ONE_ALIGHT_NUM>10746</TWENTY_ONE_ALIGHT_NUM>\n",
      "<TWENTY_TWO_RIDE_NUM>1947</TWENTY_TWO_RIDE_NUM>\n",
      "<TWENTY_TWO_ALIGHT_NUM>11446</TWENTY_TWO_ALIGHT_NUM>\n",
      "<TWENTY_THREE_RIDE_NUM>732</TWENTY_THREE_RIDE_NUM>\n",
      "<TWENTY_THREE_ALIGHT_NUM>8470</TWENTY_THREE_ALIGHT_NUM>\n",
      "<MIDNIGHT_RIDE_NUM>129</MIDNIGHT_RIDE_NUM>\n",
      "<MIDNIGHT_ALIGHT_NUM>2324</MIDNIGHT_ALIGHT_NUM>\n",
      "<ONE_RIDE_NUM>0</ONE_RIDE_NUM>\n",
      "<ONE_ALIGHT_NUM>0</ONE_ALIGHT_NUM>\n",
      "<TWO_RIDE_NUM>0</TWO_RIDE_NUM>\n",
      "<TWO_ALIGHT_NUM>0</TWO_ALIGHT_NUM>\n",
      "<THREE_RIDE_NUM>0</THREE_RIDE_NUM>\n",
      "<THREE_ALIGHT_NUM>0</THREE_ALIGHT_NUM>\n",
      "<WORK_DT>20151223</WORK_DT>\n",
      "</row>\n",
      "<row>\n",
      "<USE_MON>201501</USE_MON>\n",
      "<LINE_NUM>과천선</LINE_NUM>\n",
      "<SUB_STA_NM>정부과천청사</SUB_STA_NM>\n",
      "<FOUR_RIDE_NUM>5</FOUR_RIDE_NUM>\n",
      "<FOUR_ALIGHT_NUM>0</FOUR_ALIGHT_NUM>\n",
      "<FIVE_RIDE_NUM>2052</FIVE_RIDE_NUM>\n",
      "<FIVE_ALIGHT_NUM>1510</FIVE_ALIGHT_NUM>\n",
      "<SIX_RIDE_NUM>6257</SIX_RIDE_NUM>\n",
      "<SIX_ALIGHT_NUM>8182</SIX_ALIGHT_NUM>\n",
      "<SEVEN_RIDE_NUM>19928</SEVEN_RIDE_NUM>\n",
      "<SEVEN_ALIGHT_NUM>26127</SEVEN_ALIGHT_NUM>\n",
      "<EIGHT_RIDE_NUM>20325</EIGHT_RIDE_NUM>\n",
      "<EIGHT_ALIGHT_NUM>71891</EIGHT_ALIGHT_NUM>\n",
      "<NINE_RIDE_NUM>15787</NINE_RIDE_NUM>\n",
      "<NINE_ALIGHT_NUM>28175</NINE_ALIGHT_NUM>\n",
      "<TEN_RIDE_NUM>15029</TEN_RIDE_NUM>\n",
      "<TEN_ALIGHT_NUM>20416</TEN_ALIGHT_NUM>\n",
      "<ELEVEN_RIDE_NUM>16422</ELEVEN_RIDE_NUM>\n",
      "<ELEVEN_ALIGHT_NUM>16712</ELEVEN_ALIGHT_NUM>\n",
      "<TWELVE_RIDE_NUM>18379</TWELVE_RIDE_NUM>\n",
      "<TWELVE_ALIGHT_NUM>14139</TWELVE_ALIGHT_NUM>\n",
      "<THIRTEEN_RIDE_NUM>23438</THIRTEEN_RIDE_NUM>\n",
      "<THIRTEEN_ALIGHT_NUM>16195</THIRTEEN_ALIGHT_NUM>\n",
      "<FOURTEEN_RIDE_NUM>24683</FOURTEEN_RIDE_NUM>\n",
      "<FOURTEEN_ALIGHT_NUM>16358</FOURTEEN_ALIGHT_NUM>\n",
      "<FIFTEEN_RIDE_NUM>23418</FIFTEEN_RIDE_NUM>\n",
      "<FIFTEEN_ALIGHT_NUM>14766</FIFTEEN_ALIGHT_NUM>\n",
      "<SIXTEEN_RIDE_NUM>22940</SIXTEEN_RIDE_NUM>\n",
      "<SIXTEEN_ALIGHT_NUM>15099</SIXTEEN_ALIGHT_NUM>\n",
      "<SEVENTEEN_RIDE_NUM>28718</SEVENTEEN_RIDE_NUM>\n",
      "<SEVENTEEN_ALIGHT_NUM>17903</SEVENTEEN_ALIGHT_NUM>\n",
      "<EIGHTEEN_RIDE_NUM>54812</EIGHTEEN_RIDE_NUM>\n",
      "<EIGHTEEN_ALIGHT_NUM>23901</EIGHTEEN_ALIGHT_NUM>\n",
      "<NINETEEN_RIDE_NUM>25725</NINETEEN_RIDE_NUM>\n",
      "<NINETEEN_ALIGHT_NUM>25133</NINETEEN_ALIGHT_NUM>\n",
      "<TWENTY_RIDE_NUM>18430</TWENTY_RIDE_NUM>\n",
      "<TWENTY_ALIGHT_NUM>13539</TWENTY_ALIGHT_NUM>\n",
      "<TWENTY_ONE_RIDE_NUM>20488</TWENTY_ONE_RIDE_NUM>\n",
      "<TWENTY_ONE_ALIGHT_NUM>11685</TWENTY_ONE_ALIGHT_NUM>\n",
      "<TWENTY_TWO_RIDE_NUM>12860</TWENTY_TWO_RIDE_NUM>\n",
      "<TWENTY_TWO_ALIGHT_NUM>11069</TWENTY_TWO_ALIGHT_NUM>\n",
      "<TWENTY_THREE_RIDE_NUM>4230</TWENTY_THREE_RIDE_NUM>\n",
      "<TWENTY_THREE_ALIGHT_NUM>7693</TWENTY_THREE_ALIGHT_NUM>\n",
      "<MIDNIGHT_RIDE_NUM>481</MIDNIGHT_RIDE_NUM>\n",
      "<MIDNIGHT_ALIGHT_NUM>2076</MIDNIGHT_ALIGHT_NUM>\n",
      "<ONE_RIDE_NUM>0</ONE_RIDE_NUM>\n",
      "<ONE_ALIGHT_NUM>1</ONE_ALIGHT_NUM>\n",
      "<TWO_RIDE_NUM>0</TWO_RIDE_NUM>\n",
      "<TWO_ALIGHT_NUM>0</TWO_ALIGHT_NUM>\n",
      "<THREE_RIDE_NUM>0</THREE_RIDE_NUM>\n",
      "<THREE_ALIGHT_NUM>0</THREE_ALIGHT_NUM>\n",
      "<WORK_DT>20151223</WORK_DT>\n",
      "</row>\n",
      "</CardSubwayTime>\n",
      "\n"
     ]
    }
   ],
   "source": [
    "import requests\n",
    "\n",
    "data = requests.get(url).text\n",
    "print(data)"
   ]
  },
  {
   "cell_type": "code",
   "execution_count": 14,
   "id": "816e3332",
   "metadata": {},
   "outputs": [
    {
     "name": "stdout",
     "output_type": "stream",
     "text": [
      "{'CardSubwayTime': {'list_total_count': 551, 'RESULT': {'CODE': 'INFO-000', 'MESSAGE': '정상 처리되었습니다'}, 'row': [{'USE_MON': '201501', 'LINE_NUM': '과천선', 'SUB_STA_NM': '과천', 'FOUR_RIDE_NUM': 7.0, 'FOUR_ALIGHT_NUM': 0.0, 'FIVE_RIDE_NUM': 1903.0, 'FIVE_ALIGHT_NUM': 236.0, 'SIX_RIDE_NUM': 6428.0, 'SIX_ALIGHT_NUM': 1452.0, 'SEVEN_RIDE_NUM': 21744.0, 'SEVEN_ALIGHT_NUM': 2548.0, 'EIGHT_RIDE_NUM': 22540.0, 'EIGHT_ALIGHT_NUM': 7153.0, 'NINE_RIDE_NUM': 14929.0, 'NINE_ALIGHT_NUM': 6124.0, 'TEN_RIDE_NUM': 11321.0, 'TEN_ALIGHT_NUM': 5761.0, 'ELEVEN_RIDE_NUM': 10800.0, 'ELEVEN_ALIGHT_NUM': 5531.0, 'TWELVE_RIDE_NUM': 11332.0, 'TWELVE_ALIGHT_NUM': 6085.0, 'THIRTEEN_RIDE_NUM': 11526.0, 'THIRTEEN_ALIGHT_NUM': 6699.0, 'FOURTEEN_RIDE_NUM': 10410.0, 'FOURTEEN_ALIGHT_NUM': 7067.0, 'FIFTEEN_RIDE_NUM': 9239.0, 'FIFTEEN_ALIGHT_NUM': 8214.0, 'SIXTEEN_RIDE_NUM': 9594.0, 'SIXTEEN_ALIGHT_NUM': 9742.0, 'SEVENTEEN_RIDE_NUM': 10017.0, 'SEVENTEEN_ALIGHT_NUM': 11606.0, 'EIGHTEEN_RIDE_NUM': 9496.0, 'EIGHTEEN_ALIGHT_NUM': 15293.0, 'NINETEEN_RIDE_NUM': 5055.0, 'NINETEEN_ALIGHT_NUM': 16540.0, 'TWENTY_RIDE_NUM': 3497.0, 'TWENTY_ALIGHT_NUM': 11130.0, 'TWENTY_ONE_RIDE_NUM': 2674.0, 'TWENTY_ONE_ALIGHT_NUM': 10746.0, 'TWENTY_TWO_RIDE_NUM': 1947.0, 'TWENTY_TWO_ALIGHT_NUM': 11446.0, 'TWENTY_THREE_RIDE_NUM': 732.0, 'TWENTY_THREE_ALIGHT_NUM': 8470.0, 'MIDNIGHT_RIDE_NUM': 129.0, 'MIDNIGHT_ALIGHT_NUM': 2324.0, 'ONE_RIDE_NUM': 0.0, 'ONE_ALIGHT_NUM': 0.0, 'TWO_RIDE_NUM': 0.0, 'TWO_ALIGHT_NUM': 0.0, 'THREE_RIDE_NUM': 0.0, 'THREE_ALIGHT_NUM': 0.0, 'WORK_DT': '20151223'}, {'USE_MON': '201501', 'LINE_NUM': '과천선', 'SUB_STA_NM': '정부과천청사', 'FOUR_RIDE_NUM': 5.0, 'FOUR_ALIGHT_NUM': 0.0, 'FIVE_RIDE_NUM': 2052.0, 'FIVE_ALIGHT_NUM': 1510.0, 'SIX_RIDE_NUM': 6257.0, 'SIX_ALIGHT_NUM': 8182.0, 'SEVEN_RIDE_NUM': 19928.0, 'SEVEN_ALIGHT_NUM': 26127.0, 'EIGHT_RIDE_NUM': 20325.0, 'EIGHT_ALIGHT_NUM': 71891.0, 'NINE_RIDE_NUM': 15787.0, 'NINE_ALIGHT_NUM': 28175.0, 'TEN_RIDE_NUM': 15029.0, 'TEN_ALIGHT_NUM': 20416.0, 'ELEVEN_RIDE_NUM': 16422.0, 'ELEVEN_ALIGHT_NUM': 16712.0, 'TWELVE_RIDE_NUM': 18379.0, 'TWELVE_ALIGHT_NUM': 14139.0, 'THIRTEEN_RIDE_NUM': 23438.0, 'THIRTEEN_ALIGHT_NUM': 16195.0, 'FOURTEEN_RIDE_NUM': 24683.0, 'FOURTEEN_ALIGHT_NUM': 16358.0, 'FIFTEEN_RIDE_NUM': 23418.0, 'FIFTEEN_ALIGHT_NUM': 14766.0, 'SIXTEEN_RIDE_NUM': 22940.0, 'SIXTEEN_ALIGHT_NUM': 15099.0, 'SEVENTEEN_RIDE_NUM': 28718.0, 'SEVENTEEN_ALIGHT_NUM': 17903.0, 'EIGHTEEN_RIDE_NUM': 54812.0, 'EIGHTEEN_ALIGHT_NUM': 23901.0, 'NINETEEN_RIDE_NUM': 25725.0, 'NINETEEN_ALIGHT_NUM': 25133.0, 'TWENTY_RIDE_NUM': 18430.0, 'TWENTY_ALIGHT_NUM': 13539.0, 'TWENTY_ONE_RIDE_NUM': 20488.0, 'TWENTY_ONE_ALIGHT_NUM': 11685.0, 'TWENTY_TWO_RIDE_NUM': 12860.0, 'TWENTY_TWO_ALIGHT_NUM': 11069.0, 'TWENTY_THREE_RIDE_NUM': 4230.0, 'TWENTY_THREE_ALIGHT_NUM': 7693.0, 'MIDNIGHT_RIDE_NUM': 481.0, 'MIDNIGHT_ALIGHT_NUM': 2076.0, 'ONE_RIDE_NUM': 0.0, 'ONE_ALIGHT_NUM': 1.0, 'TWO_RIDE_NUM': 0.0, 'TWO_ALIGHT_NUM': 0.0, 'THREE_RIDE_NUM': 0.0, 'THREE_ALIGHT_NUM': 0.0, 'WORK_DT': '20151223'}]}}\n"
     ]
    }
   ],
   "source": [
    "data_type = \"json\"\n",
    "params = \"/\".join([key, data_type, service, str(start_idx), str(end_idx), use_month])\n",
    "url = base_url + \"/\" + params\n",
    "\n",
    "data = requests.get(url).text\n",
    "import json\n",
    "\n",
    "json_data = json.loads(data)\n",
    "print(json_data)"
   ]
  },
  {
   "cell_type": "code",
   "execution_count": null,
   "id": "19e5fb32",
   "metadata": {},
   "outputs": [],
   "source": []
  },
  {
   "cell_type": "code",
   "execution_count": null,
   "id": "4fad6e1f",
   "metadata": {},
   "outputs": [],
   "source": []
  }
 ],
 "metadata": {
  "kernelspec": {
   "display_name": "bigdata_analysis",
   "language": "python",
   "name": "bigdata_analysis"
  },
  "language_info": {
   "codemirror_mode": {
    "name": "ipython",
    "version": 3
   },
   "file_extension": ".py",
   "mimetype": "text/x-python",
   "name": "python",
   "nbconvert_exporter": "python",
   "pygments_lexer": "ipython3",
   "version": "3.8.11"
  }
 },
 "nbformat": 4,
 "nbformat_minor": 5
}
