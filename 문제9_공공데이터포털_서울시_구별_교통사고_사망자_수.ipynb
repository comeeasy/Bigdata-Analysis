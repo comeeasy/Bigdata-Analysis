{
 "cells": [
  {
   "cell_type": "markdown",
   "id": "37030e3e",
   "metadata": {},
   "source": [
    "# 문제 9: 공공데이터포털 서울시 구별 교통사고 사망자 수"
   ]
  },
  {
   "cell_type": "code",
   "execution_count": 1,
   "id": "76112775",
   "metadata": {},
   "outputs": [
    {
     "name": "stdout",
     "output_type": "stream",
     "text": [
      "{'dataseoul': '57497959747a7a313132306b6e47494f', '서울특별시교육청공공도서관': 'XBG0LQcumlIVYW8kHTG1HUFE3e9bwlIxNktMsQnj1kjvNGKVUFl7gQ/NSPAxWIWrToDGxw7Q9/cGNfUsqBH9Xw==', '교수님키': '8Bx4C1%2Bbogiu3i0M5k7aqOf%2BTA5yCWK%2BFDI7nTSJ0oAhDj1NC5CtbI1TMgFmnpuZxJ9LBoCScqBhuw5sul2tmQ%3D%3D'}\n"
     ]
    }
   ],
   "source": [
    "import src.myOauth as OAuth\n",
    "\n",
    "keys = OAuth.getKey('./data/key.properties')\n",
    "print(keys)"
   ]
  },
  {
   "cell_type": "code",
   "execution_count": 5,
   "id": "7f42b0bb",
   "metadata": {},
   "outputs": [],
   "source": [
    "key = keys['서울특별시교육청공공도서관']\n",
    "prof_key = keys['교수님키']"
   ]
  },
  {
   "cell_type": "code",
   "execution_count": 6,
   "id": "8d90f4eb",
   "metadata": {},
   "outputs": [
    {
     "data": {
      "text/plain": [
       "'8Bx4C1%2Bbogiu3i0M5k7aqOf%2BTA5yCWK%2BFDI7nTSJ0oAhDj1NC5CtbI1TMgFmnpuZxJ9LBoCScqBhuw5sul2tmQ%3D%3D&searchYear=2019&siDo=1100&guGun=1116&type=xml&numOfRows=20&pageNo=1'"
      ]
     },
     "execution_count": 6,
     "metadata": {},
     "output_type": "execute_result"
    }
   ],
   "source": [
    "import urllib.parse as parse\n",
    "\n",
    "query_params = dict()\n",
    "# query_params[\"serviceKey\"] = key\n",
    "query_params[\"searchYear\"] = \"2019\"\n",
    "query_params[\"siDo\"] = \"1100\"\n",
    "query_params[\"guGun\"] = \"1116\"\n",
    "query_params[\"type\"] = \"xml\"\n",
    "query_params[\"numOfRows\"] = \"20\"\n",
    "query_params[\"pageNo\"] = \"1\"\n",
    "\n",
    "enc_query_params = prof_key + \"&\" + parse.urlencode(query_params)\n",
    "enc_query_params"
   ]
  },
  {
   "cell_type": "code",
   "execution_count": 7,
   "id": "5fd7f683",
   "metadata": {},
   "outputs": [
    {
     "name": "stdout",
     "output_type": "stream",
     "text": [
      "http://apis.data.go.kr/B552061/AccidentDeath/getRestTrafficAccidentDeath?8Bx4C1%2Bbogiu3i0M5k7aqOf%2BTA5yCWK%2BFDI7nTSJ0oAhDj1NC5CtbI1TMgFmnpuZxJ9LBoCScqBhuw5sul2tmQ%3D%3D&searchYear=2019&siDo=1100&guGun=1116&type=xml&numOfRows=20&pageNo=1\n"
     ]
    }
   ],
   "source": [
    "base_url = \"http://apis.data.go.kr/B552061/AccidentDeath/getRestTrafficAccidentDeath\"\n",
    "url = base_url + \"?\" + enc_query_params\n",
    "print(url)"
   ]
  },
  {
   "cell_type": "code",
   "execution_count": null,
   "id": "644ea894",
   "metadata": {},
   "outputs": [],
   "source": []
  }
 ],
 "metadata": {
  "kernelspec": {
   "display_name": "bigdata_analysis",
   "language": "python",
   "name": "bigdata_analysis"
  },
  "language_info": {
   "codemirror_mode": {
    "name": "ipython",
    "version": 3
   },
   "file_extension": ".py",
   "mimetype": "text/x-python",
   "name": "python",
   "nbconvert_exporter": "python",
   "pygments_lexer": "ipython3",
   "version": "3.8.11"
  }
 },
 "nbformat": 4,
 "nbformat_minor": 5
}
