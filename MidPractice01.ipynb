{
 "cells": [
  {
   "cell_type": "markdown",
   "id": "0145cc3d",
   "metadata": {},
   "source": [
    "## 문제 S-3: 뉴욕에서 출생한 신생아 분석"
   ]
  },
  {
   "cell_type": "code",
   "execution_count": 5,
   "id": "1a46aecb",
   "metadata": {},
   "outputs": [
    {
     "name": "stderr",
     "output_type": "stream",
     "text": [
      "21/10/23 13:07:49 WARN NativeCodeLoader: Unable to load native-hadoop library for your platform... using builtin-java classes where applicable\n",
      "Using Spark's default log4j profile: org/apache/spark/log4j-defaults.properties\n",
      "Setting default log level to \"WARN\".\n",
      "To adjust logging level use sc.setLogLevel(newLevel). For SparkR, use setLogLevel(newLevel).\n",
      "21/10/23 13:07:50 WARN Utils: Service 'SparkUI' could not bind on port 4040. Attempting port 4041.\n"
     ]
    }
   ],
   "source": [
    "import pyspark\n",
    "\n",
    "spark = pyspark.sql.SparkSession\\\n",
    "    .builder\\\n",
    "    .master(\"local\")\\\n",
    "    .appName(\"midprac02\")\\\n",
    "    .config(conf=pyspark.SparkConf())\\\n",
    "    .getOrCreate()"
   ]
  },
  {
   "cell_type": "markdown",
   "id": "f52636a7",
   "metadata": {},
   "source": [
    "#### 1. Data requests"
   ]
  },
  {
   "cell_type": "code",
   "execution_count": 10,
   "id": "2600360f",
   "metadata": {},
   "outputs": [],
   "source": [
    "import json\n",
    "import requests\n",
    "\n",
    "url = \"https://health.data.ny.gov/api/views/jxy9-yhdk/rows.json?accessType=DOWNLOAD\"\n",
    "data = requests.get(url).json()"
   ]
  },
  {
   "cell_type": "code",
   "execution_count": 27,
   "id": "ff039ef9",
   "metadata": {},
   "outputs": [
    {
     "data": {
      "text/plain": [
       "dict_keys(['id', 'name', 'assetType', 'attribution', 'attributionLink', 'averageRating', 'category', 'createdAt', 'description', 'displayType', 'downloadCount', 'hideFromCatalog', 'hideFromDataJson', 'indexUpdatedAt', 'newBackend', 'numberOfComments', 'oid', 'provenance', 'publicationAppendEnabled', 'publicationDate', 'publicationGroup', 'publicationStage', 'rowClass', 'rowsUpdatedAt', 'rowsUpdatedBy', 'tableId', 'totalTimesRated', 'viewCount', 'viewLastModified', 'viewType', 'approvals', 'columns', 'grants', 'metadata', 'owner', 'query', 'rights', 'tableAuthor', 'tags', 'flags'])"
      ]
     },
     "execution_count": 27,
     "metadata": {},
     "output_type": "execute_result"
    }
   ],
   "source": [
    "data['meta']['view'].keys()"
   ]
  },
  {
   "cell_type": "code",
   "execution_count": 37,
   "id": "b31f10db",
   "metadata": {},
   "outputs": [
    {
     "data": {
      "text/plain": [
       "<Row(['2007', 'ZOEY', 'KINGS', 'F', '11'])>"
      ]
     },
     "execution_count": 37,
     "metadata": {},
     "output_type": "execute_result"
    }
   ],
   "source": [
    "from pyspark.sql import Row\n",
    "\n",
    "data1 = data['data'][0]\n",
    "Row([data1[8], data1[9], data1[10], data1[11], data1[12]])"
   ]
  },
  {
   "cell_type": "code",
   "execution_count": 50,
   "id": "e9853ad7",
   "metadata": {},
   "outputs": [],
   "source": [
    "babyRows = [Row(*x[8:13]) for x in data['data']]\n",
    "\n",
    "babyNYDf = spark.createDataFrame(babyRows)"
   ]
  },
  {
   "cell_type": "code",
   "execution_count": 44,
   "id": "df652a98",
   "metadata": {},
   "outputs": [
    {
     "name": "stdout",
     "output_type": "stream",
     "text": [
      "root\n",
      " |-- _1: string (nullable = true)\n",
      " |-- _2: string (nullable = true)\n",
      " |-- _3: string (nullable = true)\n",
      " |-- _4: string (nullable = true)\n",
      " |-- _5: string (nullable = true)\n",
      "\n"
     ]
    }
   ],
   "source": [
    "babyNYDf.printSchema()"
   ]
  },
  {
   "cell_type": "code",
   "execution_count": 51,
   "id": "1108a8d0",
   "metadata": {},
   "outputs": [],
   "source": [
    "babyNYDf = babyNYDf.withColumnRenamed(\"_1\", \"year\")\n",
    "babyNYDf = babyNYDf.withColumnRenamed(\"_2\", \"firstName\")\n",
    "babyNYDf = babyNYDf.withColumnRenamed(\"_3\", \"country\")\n",
    "babyNYDf = babyNYDf.withColumnRenamed(\"_4\", \"sex\")\n",
    "babyNYDf = babyNYDf.withColumn(\"count\", babyNYDf['_5'].cast(\"integer\")).drop(\"_5\")"
   ]
  },
  {
   "cell_type": "code",
   "execution_count": 53,
   "id": "2d4a682e",
   "metadata": {},
   "outputs": [
    {
     "name": "stdout",
     "output_type": "stream",
     "text": [
      "root\n",
      " |-- year: string (nullable = true)\n",
      " |-- firstName: string (nullable = true)\n",
      " |-- country: string (nullable = true)\n",
      " |-- sex: string (nullable = true)\n",
      " |-- count: integer (nullable = true)\n",
      "\n"
     ]
    },
    {
     "name": "stderr",
     "output_type": "stream",
     "text": [
      "21/10/23 13:32:38 WARN TaskSetManager: Stage 0 contains a task of very large size (2635 KiB). The maximum recommended task size is 1000 KiB.\n",
      "[Stage 0:>                                                          (0 + 1) / 1]\r"
     ]
    },
    {
     "name": "stdout",
     "output_type": "stream",
     "text": [
      "+----+---------+-------+---+-----+\n",
      "|year|firstName|country|sex|count|\n",
      "+----+---------+-------+---+-----+\n",
      "|2007|     ZOEY|  KINGS|  F|   11|\n",
      "|2007|     ZOEY|SUFFOLK|  F|    6|\n",
      "|2007|     ZOEY| MONROE|  F|    6|\n",
      "|2007|     ZOEY|   ERIE|  F|    9|\n",
      "|2007|      ZOE| ULSTER|  F|    5|\n",
      "+----+---------+-------+---+-----+\n",
      "only showing top 5 rows\n",
      "\n"
     ]
    },
    {
     "name": "stderr",
     "output_type": "stream",
     "text": [
      "\r",
      "                                                                                \r"
     ]
    }
   ],
   "source": [
    "babyNYDf.printSchema()\n",
    "babyNYDf.show(5)"
   ]
  },
  {
   "cell_type": "code",
   "execution_count": 55,
   "id": "9f386505",
   "metadata": {},
   "outputs": [
    {
     "name": "stderr",
     "output_type": "stream",
     "text": [
      "21/10/23 13:35:36 WARN TaskSetManager: Stage 1 contains a task of very large size (2635 KiB). The maximum recommended task size is 1000 KiB.\n",
      "                                                                                \r"
     ]
    },
    {
     "name": "stdout",
     "output_type": "stream",
     "text": [
      "+---------+\n",
      "|firstName|\n",
      "+---------+\n",
      "|     JADE|\n",
      "|   HUNTER|\n",
      "|     ANNA|\n",
      "|   ANJALI|\n",
      "|     LEIB|\n",
      "|   MILANA|\n",
      "|   ZARIAH|\n",
      "|PRINCETON|\n",
      "|   BLIMIE|\n",
      "|   SELINA|\n",
      "|    PETER|\n",
      "|  MAXWELL|\n",
      "|  MATTHEW|\n",
      "|  EMANUEL|\n",
      "|      ELI|\n",
      "|  NECHUMA|\n",
      "|  YOANDRI|\n",
      "|    SKYLA|\n",
      "|    MATEO|\n",
      "|    GRACE|\n",
      "+---------+\n",
      "only showing top 20 rows\n",
      "\n"
     ]
    }
   ],
   "source": [
    "babyNYDf.registerTempTable(\"babyNY\")\n",
    "spark.sql(\"SELECT distinct(firstName) from babyNY\").show()"
   ]
  },
  {
   "cell_type": "code",
   "execution_count": 59,
   "id": "f224b76e",
   "metadata": {},
   "outputs": [
    {
     "name": "stderr",
     "output_type": "stream",
     "text": [
      "21/10/23 13:38:00 WARN TaskSetManager: Stage 41 contains a task of very large size (2635 KiB). The maximum recommended task size is 1000 KiB.\n",
      "21/10/23 13:38:01 WARN TaskSetManager: Stage 44 contains a task of very large size (2635 KiB). The maximum recommended task size is 1000 KiB.\n",
      "                                                                                \r"
     ]
    },
    {
     "name": "stdout",
     "output_type": "stream",
     "text": [
      "+----+---+---+\n",
      "|year|  F|  M|\n",
      "+----+---+---+\n",
      "|2016|191|227|\n",
      "|2012|204|273|\n",
      "|2017|226|248|\n",
      "|2014|206|245|\n",
      "|2013|204|272|\n",
      "|2018|211|244|\n",
      "|2009|186|287|\n",
      "|2011|199|268|\n",
      "|2008|191|259|\n",
      "|2007|199|258|\n",
      "|2015|200|273|\n",
      "|2010|211|297|\n",
      "+----+---+---+\n",
      "\n"
     ]
    }
   ],
   "source": [
    "babyNYDf.groupBy(\"year\").pivot(\"sex\").max().show()"
   ]
  },
  {
   "cell_type": "markdown",
   "id": "2fdb9c1f",
   "metadata": {},
   "source": [
    "## 예제 카피"
   ]
  },
  {
   "cell_type": "code",
   "execution_count": 60,
   "id": "bdf17dae",
   "metadata": {},
   "outputs": [
    {
     "name": "stdout",
     "output_type": "stream",
     "text": [
      "+---+-------+---+\n",
      "| _1|     _2| _3|\n",
      "+---+-------+---+\n",
      "|  1|kim, js|170|\n",
      "|  1|lee, sm|175|\n",
      "|  2|lim, yg|180|\n",
      "|  2|lee, hg|170|\n",
      "+---+-------+---+\n",
      "\n"
     ]
    }
   ],
   "source": [
    "myList = [\n",
    "    (\"1\", \"kim, js\", 170),\n",
    "    (\"1\", \"lee, sm\", 175),\n",
    "    (\"2\", \"lim, yg\", 180),\n",
    "    (\"2\", \"lee, hg\", 170)\n",
    "]\n",
    "\n",
    "myDf = spark.createDataFrame(myList)\n",
    "myDf.show()"
   ]
  },
  {
   "cell_type": "code",
   "execution_count": 61,
   "id": "d7314d25",
   "metadata": {},
   "outputs": [
    {
     "data": {
      "text/plain": [
       "['_1', '_2', '_3']"
      ]
     },
     "execution_count": 61,
     "metadata": {},
     "output_type": "execute_result"
    }
   ],
   "source": [
    "myDf.columns"
   ]
  },
  {
   "cell_type": "code",
   "execution_count": 62,
   "id": "709ec238",
   "metadata": {},
   "outputs": [
    {
     "name": "stdout",
     "output_type": "stream",
     "text": [
      "+----+-------+------+\n",
      "|year|   name|height|\n",
      "+----+-------+------+\n",
      "|   1|kim, js|   170|\n",
      "|   1|lee, sm|   175|\n",
      "|   2|lim, yg|   180|\n",
      "|   2|lee, hg|   170|\n",
      "+----+-------+------+\n",
      "\n"
     ]
    }
   ],
   "source": [
    "cols = [\"year\", \"name\", \"height\"]\n",
    "myDf = spark.createDataFrame(myList, cols)\n",
    "myDf.show()"
   ]
  },
  {
   "cell_type": "code",
   "execution_count": 67,
   "id": "46316ad1",
   "metadata": {},
   "outputs": [
    {
     "name": "stdout",
     "output_type": "stream",
     "text": [
      "+-----+----------+\n",
      "|names|    coffee|\n",
      "+-----+----------+\n",
      "|  kim|  espresso|\n",
      "|  lee|     latte|\n",
      "|  won| americano|\n",
      "|  lim|  affogato|\n",
      "|  kim|long black|\n",
      "|  lee|  macciato|\n",
      "|  won|  espresso|\n",
      "|  lim|     latte|\n",
      "|  kim| americano|\n",
      "|  lee|  affogato|\n",
      "|  won|long black|\n",
      "|  lim|  macciato|\n",
      "|  kim|  espresso|\n",
      "|  lee|     latte|\n",
      "|  won| americano|\n",
      "|  lim|  affogato|\n",
      "|  kim|long black|\n",
      "|  lee|  macciato|\n",
      "|  won|  espresso|\n",
      "|  lim|     latte|\n",
      "+-----+----------+\n",
      "only showing top 20 rows\n",
      "\n"
     ]
    }
   ],
   "source": [
    "names = [\"kim\", \"lee\", \"won\", \"lim\"]\n",
    "items = [\"espresso\", \"latte\", \"americano\", \"affogato\", \"long black\", \"macciato\"]\n",
    "coffeeDf = spark.createDataFrame( [[names[i%4], items[i%6]] for i in range(100)], [\"names\", \"coffee\"])\n",
    "coffeeDf.show()"
   ]
  },
  {
   "cell_type": "code",
   "execution_count": 68,
   "id": "4fbc1cf5",
   "metadata": {},
   "outputs": [
    {
     "name": "stdout",
     "output_type": "stream",
     "text": [
      "root\n",
      " |-- names: string (nullable = true)\n",
      " |-- coffee: string (nullable = true)\n",
      "\n"
     ]
    }
   ],
   "source": [
    "coffeeDf.printSchema()"
   ]
  },
  {
   "cell_type": "code",
   "execution_count": 69,
   "id": "d2c5809e",
   "metadata": {},
   "outputs": [],
   "source": [
    "from pyspark.sql import Row\n",
    "\n",
    "Person = Row(\"year\", \"name\", \"height\")\n",
    "row1 = Person(\"1\", \"kim, js\", 170)"
   ]
  },
  {
   "cell_type": "code",
   "execution_count": 71,
   "id": "1e933233",
   "metadata": {},
   "outputs": [
    {
     "name": "stdout",
     "output_type": "stream",
     "text": [
      "1 kim, js 170\n"
     ]
    }
   ],
   "source": [
    "print(row1.year, row1.name, row1.height)"
   ]
  },
  {
   "cell_type": "code",
   "execution_count": 72,
   "id": "7fc507db",
   "metadata": {},
   "outputs": [
    {
     "data": {
      "text/plain": [
       "{'year': '1', 'name': 'kim, js', 'height': 170}"
      ]
     },
     "execution_count": 72,
     "metadata": {},
     "output_type": "execute_result"
    }
   ],
   "source": [
    "row1.asDict()"
   ]
  },
  {
   "cell_type": "code",
   "execution_count": 82,
   "id": "622720f9",
   "metadata": {},
   "outputs": [],
   "source": [
    "from pyspark.sql.types import StructField, StructType\n",
    "from pyspark.sql.types import StringType, IntegerType, FloatType\n",
    "\n",
    "mySchema = StructType([\n",
    "    StructField(\"year\", StringType(), True),\n",
    "    StructField(\"name\", StringType(), True),\n",
    "    StructField(\"height\", IntegerType(), True)\n",
    "])"
   ]
  },
  {
   "cell_type": "code",
   "execution_count": 137,
   "id": "27e518e0",
   "metadata": {},
   "outputs": [
    {
     "data": {
      "text/plain": [
       "[(1, 65.78331, 112.9925),\n",
       " (2, 71.51521, 136.4873),\n",
       " (3, 69.39874, 153.0269),\n",
       " (4, 68.2166, 142.3354),\n",
       " (5, 67.78781, 144.2971),\n",
       " (6, 68.69784, 123.3024),\n",
       " (7, 69.80204, 141.4947),\n",
       " (8, 70.01472, 136.4623),\n",
       " (9, 67.90265, 112.3723),\n",
       " (10, 66.78236, 120.6672),\n",
       " (11, 66.48769, 127.4516),\n",
       " (12, 67.62333, 114.143),\n",
       " (13, 68.30248, 125.6107),\n",
       " (14, 67.11656, 122.4618),\n",
       " (15, 68.27967, 116.0866),\n",
       " (16, 71.0916, 139.9975),\n",
       " (17, 66.461, 129.5023),\n",
       " (18, 68.64927, 142.9733),\n",
       " (19, 71.23033, 137.9025),\n",
       " (20, 67.13118, 124.0449)]"
      ]
     },
     "execution_count": 137,
     "metadata": {},
     "output_type": "execute_result"
    }
   ],
   "source": [
    "hwRdd = spark.sparkContext.textFile(\"data/ds_spark_height_weight.tsv\")\n",
    "_hwRdd = hwRdd\\\n",
    "    .map(lambda x: x.split('\\t'))\n",
    "\n",
    "header = _hwRdd.first()\n",
    "_hwRdd = _hwRdd.filter(lambda line: line != header)\n",
    "\n",
    "_hwRdd = _hwRdd.map(lambda x: (int(x[0]), float(x[1]), float(x[2])))\n",
    "\n",
    "_hwRdd.take(20)"
   ]
  },
  {
   "cell_type": "code",
   "execution_count": 138,
   "id": "e1b48906",
   "metadata": {},
   "outputs": [],
   "source": [
    "hwSchema = StructType([\n",
    "    StructField(\"index\", IntegerType(), True),\n",
    "    StructField(\"weight\", DoubleType(), True),\n",
    "    StructField(\"height\", DoubleType(), True)\n",
    "])"
   ]
  },
  {
   "cell_type": "code",
   "execution_count": 139,
   "id": "05374551",
   "metadata": {},
   "outputs": [
    {
     "name": "stdout",
     "output_type": "stream",
     "text": [
      "+-----+--------+--------+\n",
      "|index|  weight|  height|\n",
      "+-----+--------+--------+\n",
      "|    1|65.78331|112.9925|\n",
      "|    2|71.51521|136.4873|\n",
      "|    3|69.39874|153.0269|\n",
      "|    4| 68.2166|142.3354|\n",
      "|    5|67.78781|144.2971|\n",
      "+-----+--------+--------+\n",
      "only showing top 5 rows\n",
      "\n",
      "root\n",
      " |-- index: integer (nullable = true)\n",
      " |-- weight: double (nullable = true)\n",
      " |-- height: double (nullable = true)\n",
      "\n"
     ]
    }
   ],
   "source": [
    "_hwDf = spark.createDataFrame(_hwRdd, hwSchema)\n",
    "_hwDf.show(5)\n",
    "_hwDf.printSchema()"
   ]
  },
  {
   "cell_type": "code",
   "execution_count": 141,
   "id": "075ea87d",
   "metadata": {},
   "outputs": [
    {
     "name": "stdout",
     "output_type": "stream",
     "text": [
      "+---+--------------+--------------+\n",
      "|dex|Height(Inches)|Weight(Pounds)|\n",
      "+---+--------------+--------------+\n",
      "|  1|      65.78331|      112.9925|\n",
      "|  2|      71.51521|      136.4873|\n",
      "|  3|      69.39874|      153.0269|\n",
      "|  4|       68.2166|      142.3354|\n",
      "|  5|      67.78781|      144.2971|\n",
      "|  6|      68.69784|      123.3024|\n",
      "|  7|      69.80204|      141.4947|\n",
      "|  8|      70.01472|      136.4623|\n",
      "|  9|      67.90265|      112.3723|\n",
      "| 10|      66.78236|      120.6672|\n",
      "| 11|      66.48769|      127.4516|\n",
      "| 12|      67.62333|       114.143|\n",
      "| 13|      68.30248|      125.6107|\n",
      "| 14|      67.11656|      122.4618|\n",
      "| 15|      68.27967|      116.0866|\n",
      "| 16|       71.0916|      139.9975|\n",
      "| 17|        66.461|      129.5023|\n",
      "| 18|      68.64927|      142.9733|\n",
      "| 19|      71.23033|      137.9025|\n",
      "| 20|      67.13118|      124.0449|\n",
      "+---+--------------+--------------+\n",
      "only showing top 20 rows\n",
      "\n"
     ]
    }
   ],
   "source": [
    "hwDf = spark.read.options(header=\"true\", inferschema=\"true\", delimiter=\"\\t\")\\\n",
    "            .csv(\"data/ds_spark_height_weight.tsv\")\n",
    "\n",
    "hwDf.show()"
   ]
  },
  {
   "cell_type": "code",
   "execution_count": 147,
   "id": "4915cf0e",
   "metadata": {},
   "outputs": [
    {
     "name": "stdout",
     "output_type": "stream",
     "text": [
      "+-------+------------------+------------------+\n",
      "|summary|    Height(Inches)|    Weight(Pounds)|\n",
      "+-------+------------------+------------------+\n",
      "|  count|             25000|             25000|\n",
      "|   mean| 67.99311359679979|127.07942116079916|\n",
      "| stddev|1.9016787712056056|11.660897563604271|\n",
      "|    min|          60.27836|          78.01476|\n",
      "|    max|           75.1528|           170.924|\n",
      "+-------+------------------+------------------+\n",
      "\n"
     ]
    }
   ],
   "source": [
    "hwDf.select(\"Height(Inches)\", \"Weight(Pounds)\").describe().show()"
   ]
  },
  {
   "cell_type": "code",
   "execution_count": 151,
   "id": "097cbf62",
   "metadata": {},
   "outputs": [
    {
     "name": "stdout",
     "output_type": "stream",
     "text": [
      "+---+------------------+------------------+\n",
      "|dex|        Height(cm)|        Weight(kg)|\n",
      "+---+------------------+------------------+\n",
      "|  1|       167.0896074|51.242098750000004|\n",
      "|  2|       181.6486334|61.896990550000005|\n",
      "|  3|       176.2727996| 69.39769915000001|\n",
      "|  4|        173.270164|        64.5491039|\n",
      "|  5|172.18103739999998|       65.43873485|\n",
      "|  6|       174.4925136|        55.9176384|\n",
      "|  7|177.29718160000002|       64.16784645|\n",
      "|  8|177.83738879999999|       61.88565305|\n",
      "|  9|172.47273099999998|       50.96083805|\n",
      "| 10|       169.6271944|        54.7225752|\n",
      "| 11|       168.8787326|        57.7993006|\n",
      "| 12|       171.7632582|51.763850500000004|\n",
      "| 13|       173.4882992|56.964452449999996|\n",
      "| 14|170.47606240000002|        55.5364263|\n",
      "| 15|       173.4303618|52.645273100000004|\n",
      "| 16|        180.572664|       63.48886625|\n",
      "| 17|         168.81094|58.729293049999995|\n",
      "| 18|       174.3691458|       64.83839155|\n",
      "| 19|       180.9250382|       62.53878375|\n",
      "| 20|       170.5131972|       56.25436215|\n",
      "+---+------------------+------------------+\n",
      "only showing top 20 rows\n",
      "\n"
     ]
    }
   ],
   "source": [
    "inch2cm = F.udf(lambda x: 2.54 * x, DoubleType())\n",
    "pound2kg = F.udf(lambda x: 0.4535 * x, DoubleType())\n",
    "\n",
    "hwDf = hwDf.withColumn(\"Height(cm)\", inch2cm(hwDf[\"Height(Inches)\"]))\n",
    "hwDf = hwDf.withColumn(\"Weight(kg)\", pound2kg(hwDf[\"Weight(Pounds)\"]))\n",
    "hwDf = hwDf.drop(\"Height(Inches)\", \"Weight(Pounds)\")\n",
    "\n",
    "hwDf.show()"
   ]
  },
  {
   "cell_type": "code",
   "execution_count": 154,
   "id": "0b7b3fd6",
   "metadata": {},
   "outputs": [
    {
     "name": "stdout",
     "output_type": "stream",
     "text": [
      "+-------+------------------+-----------------+\n",
      "|summary|        Height(cm)|       Weight(kg)|\n",
      "+-------+------------------+-----------------+\n",
      "|  count|             25000|            25000|\n",
      "|   mean|172.70250853587314|57.63051749642258|\n",
      "| stddev| 4.830264078862244|5.288217045094535|\n",
      "|    min|       153.1070344|      35.37969366|\n",
      "|    max|        190.888112|77.51403400000001|\n",
      "+-------+------------------+-----------------+\n",
      "\n"
     ]
    }
   ],
   "source": [
    "hwDf.select(\"Height(cm)\", \"Weight(kg)\").describe().show()"
   ]
  },
  {
   "cell_type": "code",
   "execution_count": 161,
   "id": "00324568",
   "metadata": {},
   "outputs": [],
   "source": [
    "import json\n",
    "\n",
    "with open(\"data/ds_twiiter_seoul_3.json\", \"r\") as f:\n",
    "    tweetData = f.readlines()\n",
    "    tweetJson = json.loads(tweetData[0])"
   ]
  },
  {
   "cell_type": "code",
   "execution_count": 169,
   "id": "7e5aca57",
   "metadata": {},
   "outputs": [
    {
     "data": {
      "text/plain": [
       "Row(contributors=None, truncated=False, text='RT @soompi: #SEVENTEEN’s Mingyu, Jin Se Yeon, And Leeteuk To MC For 2016 Super Seoul Dream Concert \\nhttps://t.co/1XRSaRBbE0 https://t.co/fi…', is_quote_status=False, in_reply_to_status_id=None, id=801657325836763136, favorite_count=0, entities={'symbols': [], 'user_mentions': [{'id': 17659206, 'indices': [3, 10], 'id_str': '17659206', 'screen_name': 'soompi', 'name': 'Soompi'}], 'hashtags': [{'indices': [12, 22], 'text': 'SEVENTEEN'}], 'urls': [{'url': 'https://t.co/1XRSaRBbE0', 'indices': [100, 123], 'expanded_url': 'http://www.soompi.com/2016/11/20/seventeens-mingyu-jin-se-yeon-leeteuk-mc-dream-concert/', 'display_url': 'soompi.com/2016/11/20/sev…'}]}, retweeted=False, coordinates=None, source='<a href=\"http://twitter.com/download/android\" rel=\"nofollow\">Twitter for Android</a>', in_reply_to_screen_name=None, in_reply_to_user_id=None, retweet_count=1487, id_str='801657325836763136', favorited=False, retweeted_status={'contributors': None, 'truncated': False, 'text': '#SEVENTEEN’s Mingyu, Jin Se Yeon, And Leeteuk To MC For 2016 Super Seoul Dream Concert \\nhttps://t.co/1XRSaRBbE0 https://t.co/fifXHpF8or', 'is_quote_status': False, 'in_reply_to_status_id': None, 'id': 800593781586132993, 'favorite_count': 1649, 'entities': {'symbols': [], 'user_mentions': [], 'hashtags': [{'indices': [0, 10], 'text': 'SEVENTEEN'}], 'urls': [{'url': 'https://t.co/1XRSaRBbE0', 'indices': [88, 111], 'expanded_url': 'http://www.soompi.com/2016/11/20/seventeens-mingyu-jin-se-yeon-leeteuk-mc-dream-concert/', 'display_url': 'soompi.com/2016/11/20/sev…'}], 'media': [{'expanded_url': 'https://twitter.com/soompi/status/800593781586132993/photo/1', 'display_url': 'pic.twitter.com/fifXHpF8or', 'url': 'https://t.co/fifXHpF8or', 'media_url_https': 'https://pbs.twimg.com/media/CxxHMk8UsAA4cUT.jpg', 'id_str': '800593115165798400', 'sizes': {'small': {'h': 382, 'resize': 'fit', 'w': 680}, 'large': {'h': 449, 'resize': 'fit', 'w': 800}, 'medium': {'h': 449, 'resize': 'fit', 'w': 800}, 'thumb': {'h': 150, 'resize': 'crop', 'w': 150}}, 'indices': [112, 135], 'type': 'photo', 'id': 800593115165798400, 'media_url': 'http://pbs.twimg.com/media/CxxHMk8UsAA4cUT.jpg'}]}, 'retweeted': False, 'coordinates': None, 'source': '<a href=\"https://about.twitter.com/products/tweetdeck\" rel=\"nofollow\">TweetDeck</a>', 'in_reply_to_screen_name': None, 'in_reply_to_user_id': None, 'retweet_count': 1487, 'id_str': '800593781586132993', 'favorited': False, 'user': {'follow_request_sent': False, 'has_extended_profile': True, 'profile_use_background_image': True, 'default_profile_image': False, 'id': 17659206, 'profile_background_image_url_https': 'https://pbs.twimg.com/profile_background_images/699864769/1cdde0a85f5c0a994ae1fb06d545a5ec.png', 'verified': True, 'translator_type': 'none', 'profile_text_color': '999999', 'profile_image_url_https': 'https://pbs.twimg.com/profile_images/792117259489583104/4khJk3zz_normal.jpg', 'profile_sidebar_fill_color': '000000', 'entities': {'url': {'urls': [{'url': 'http://t.co/3evT80UlR9', 'indices': [0, 22], 'expanded_url': 'http://www.soompi.com', 'display_url': 'soompi.com'}]}, 'description': {'urls': []}}, 'followers_count': 987867, 'profile_sidebar_border_color': '000000', 'id_str': '17659206', 'profile_background_color': '1E1E1E', 'listed_count': 3982, 'is_translation_enabled': True, 'utc_offset': -28800, 'statuses_count': 80038, 'description': \"The original K-pop community. We take gifs, OTPs, and reporting on your bias' fashion choices seriously. But not rumors. Ain't nobody got time for that.\", 'friends_count': 3532, 'location': 'Worldwide', 'profile_link_color': '31B6F4', 'profile_image_url': 'http://pbs.twimg.com/profile_images/792117259489583104/4khJk3zz_normal.jpg', 'following': False, 'geo_enabled': False, 'profile_banner_url': 'https://pbs.twimg.com/profile_banners/17659206/1478803767', 'profile_background_image_url': 'http://pbs.twimg.com/profile_background_images/699864769/1cdde0a85f5c0a994ae1fb06d545a5ec.png', 'screen_name': 'soompi', 'lang': 'en', 'profile_background_tile': True, 'favourites_count': 1493, 'name': 'Soompi', 'notifications': False, 'url': 'http://t.co/3evT80UlR9', 'created_at': 'Wed Nov 26 20:48:27 +0000 2008', 'contributors_enabled': False, 'time_zone': 'Pacific Time (US & Canada)', 'protected': False, 'default_profile': False, 'is_translator': False}, 'geo': None, 'in_reply_to_user_id_str': None, 'possibly_sensitive': False, 'lang': 'en', 'created_at': 'Mon Nov 21 06:56:46 +0000 2016', 'in_reply_to_status_id_str': None, 'place': None, 'extended_entities': {'media': [{'expanded_url': 'https://twitter.com/soompi/status/800593781586132993/photo/1', 'display_url': 'pic.twitter.com/fifXHpF8or', 'url': 'https://t.co/fifXHpF8or', 'media_url_https': 'https://pbs.twimg.com/media/CxxHMk8UsAA4cUT.jpg', 'id_str': '800593115165798400', 'sizes': {'small': {'h': 382, 'resize': 'fit', 'w': 680}, 'large': {'h': 449, 'resize': 'fit', 'w': 800}, 'medium': {'h': 449, 'resize': 'fit', 'w': 800}, 'thumb': {'h': 150, 'resize': 'crop', 'w': 150}}, 'indices': [112, 135], 'type': 'photo', 'id': 800593115165798400, 'media_url': 'http://pbs.twimg.com/media/CxxHMk8UsAA4cUT.jpg'}]}, 'metadata': {'iso_language_code': 'en', 'result_type': 'recent'}}, user={'follow_request_sent': False, 'has_extended_profile': False, 'profile_use_background_image': True, 'default_profile_image': True, 'id': 791090169818521600, 'profile_background_image_url_https': None, 'verified': False, 'translator_type': 'none', 'profile_text_color': '333333', 'profile_image_url_https': 'https://abs.twimg.com/sticky/default_profile_images/default_profile_6_normal.png', 'profile_sidebar_fill_color': 'DDEEF6', 'entities': {'description': {'urls': []}}, 'followers_count': 0, 'profile_sidebar_border_color': 'C0DEED', 'id_str': '791090169818521600', 'profile_background_color': 'F5F8FA', 'listed_count': 0, 'is_translation_enabled': False, 'utc_offset': None, 'statuses_count': 96, 'description': '', 'friends_count': 7, 'location': '', 'profile_link_color': '1DA1F2', 'profile_image_url': 'http://abs.twimg.com/sticky/default_profile_images/default_profile_6_normal.png', 'following': False, 'geo_enabled': False, 'profile_background_image_url': None, 'screen_name': 'enriquesanq', 'lang': 'es', 'profile_background_tile': False, 'favourites_count': 161, 'name': 'Enrique santos', 'notifications': False, 'url': None, 'created_at': 'Wed Oct 26 01:32:49 +0000 2016', 'contributors_enabled': False, 'time_zone': None, 'protected': False, 'default_profile': True, 'is_translator': False}, geo=None, in_reply_to_user_id_str=None, possibly_sensitive=False, lang='en', created_at='Thu Nov 24 05:22:55 +0000 2016', in_reply_to_status_id_str=None, place=None, metadata={'iso_language_code': 'en', 'result_type': 'recent'})"
      ]
     },
     "execution_count": 169,
     "metadata": {},
     "output_type": "execute_result"
    }
   ],
   "source": [
    "Row(**tweetJson)"
   ]
  },
  {
   "cell_type": "code",
   "execution_count": 170,
   "id": "e6c36993",
   "metadata": {},
   "outputs": [
    {
     "data": {
      "text/html": [
       "<div>\n",
       "<style scoped>\n",
       "    .dataframe tbody tr th:only-of-type {\n",
       "        vertical-align: middle;\n",
       "    }\n",
       "\n",
       "    .dataframe tbody tr th {\n",
       "        vertical-align: top;\n",
       "    }\n",
       "\n",
       "    .dataframe thead th {\n",
       "        text-align: right;\n",
       "    }\n",
       "</style>\n",
       "<table border=\"1\" class=\"dataframe\">\n",
       "  <thead>\n",
       "    <tr style=\"text-align: right;\">\n",
       "      <th></th>\n",
       "      <th>contributors</th>\n",
       "      <th>truncated</th>\n",
       "      <th>text</th>\n",
       "      <th>is_quote_status</th>\n",
       "      <th>in_reply_to_status_id</th>\n",
       "      <th>id</th>\n",
       "      <th>favorite_count</th>\n",
       "      <th>entities</th>\n",
       "      <th>retweeted</th>\n",
       "      <th>coordinates</th>\n",
       "      <th>...</th>\n",
       "      <th>retweeted_status</th>\n",
       "      <th>user</th>\n",
       "      <th>geo</th>\n",
       "      <th>in_reply_to_user_id_str</th>\n",
       "      <th>possibly_sensitive</th>\n",
       "      <th>lang</th>\n",
       "      <th>created_at</th>\n",
       "      <th>in_reply_to_status_id_str</th>\n",
       "      <th>place</th>\n",
       "      <th>metadata</th>\n",
       "    </tr>\n",
       "  </thead>\n",
       "  <tbody>\n",
       "    <tr>\n",
       "      <th>symbols</th>\n",
       "      <td>NaN</td>\n",
       "      <td>False</td>\n",
       "      <td>RT @soompi: #SEVENTEEN’s Mingyu, Jin Se Yeon, ...</td>\n",
       "      <td>False</td>\n",
       "      <td>NaN</td>\n",
       "      <td>801657325836763136</td>\n",
       "      <td>0</td>\n",
       "      <td>[]</td>\n",
       "      <td>False</td>\n",
       "      <td>NaN</td>\n",
       "      <td>...</td>\n",
       "      <td>NaN</td>\n",
       "      <td>NaN</td>\n",
       "      <td>NaN</td>\n",
       "      <td>NaN</td>\n",
       "      <td>False</td>\n",
       "      <td>en</td>\n",
       "      <td>2016-11-24 05:22:55+00:00</td>\n",
       "      <td>NaN</td>\n",
       "      <td>NaN</td>\n",
       "      <td>NaN</td>\n",
       "    </tr>\n",
       "    <tr>\n",
       "      <th>user_mentions</th>\n",
       "      <td>NaN</td>\n",
       "      <td>False</td>\n",
       "      <td>RT @soompi: #SEVENTEEN’s Mingyu, Jin Se Yeon, ...</td>\n",
       "      <td>False</td>\n",
       "      <td>NaN</td>\n",
       "      <td>801657325836763136</td>\n",
       "      <td>0</td>\n",
       "      <td>[{'id': 17659206, 'indices': [3, 10], 'id_str'...</td>\n",
       "      <td>False</td>\n",
       "      <td>NaN</td>\n",
       "      <td>...</td>\n",
       "      <td>NaN</td>\n",
       "      <td>NaN</td>\n",
       "      <td>NaN</td>\n",
       "      <td>NaN</td>\n",
       "      <td>False</td>\n",
       "      <td>en</td>\n",
       "      <td>2016-11-24 05:22:55+00:00</td>\n",
       "      <td>NaN</td>\n",
       "      <td>NaN</td>\n",
       "      <td>NaN</td>\n",
       "    </tr>\n",
       "    <tr>\n",
       "      <th>hashtags</th>\n",
       "      <td>NaN</td>\n",
       "      <td>False</td>\n",
       "      <td>RT @soompi: #SEVENTEEN’s Mingyu, Jin Se Yeon, ...</td>\n",
       "      <td>False</td>\n",
       "      <td>NaN</td>\n",
       "      <td>801657325836763136</td>\n",
       "      <td>0</td>\n",
       "      <td>[{'indices': [12, 22], 'text': 'SEVENTEEN'}]</td>\n",
       "      <td>False</td>\n",
       "      <td>NaN</td>\n",
       "      <td>...</td>\n",
       "      <td>NaN</td>\n",
       "      <td>NaN</td>\n",
       "      <td>NaN</td>\n",
       "      <td>NaN</td>\n",
       "      <td>False</td>\n",
       "      <td>en</td>\n",
       "      <td>2016-11-24 05:22:55+00:00</td>\n",
       "      <td>NaN</td>\n",
       "      <td>NaN</td>\n",
       "      <td>NaN</td>\n",
       "    </tr>\n",
       "    <tr>\n",
       "      <th>urls</th>\n",
       "      <td>NaN</td>\n",
       "      <td>False</td>\n",
       "      <td>RT @soompi: #SEVENTEEN’s Mingyu, Jin Se Yeon, ...</td>\n",
       "      <td>False</td>\n",
       "      <td>NaN</td>\n",
       "      <td>801657325836763136</td>\n",
       "      <td>0</td>\n",
       "      <td>[{'url': 'https://t.co/1XRSaRBbE0', 'indices':...</td>\n",
       "      <td>False</td>\n",
       "      <td>NaN</td>\n",
       "      <td>...</td>\n",
       "      <td>NaN</td>\n",
       "      <td>NaN</td>\n",
       "      <td>NaN</td>\n",
       "      <td>NaN</td>\n",
       "      <td>False</td>\n",
       "      <td>en</td>\n",
       "      <td>2016-11-24 05:22:55+00:00</td>\n",
       "      <td>NaN</td>\n",
       "      <td>NaN</td>\n",
       "      <td>NaN</td>\n",
       "    </tr>\n",
       "    <tr>\n",
       "      <th>contributors</th>\n",
       "      <td>NaN</td>\n",
       "      <td>False</td>\n",
       "      <td>RT @soompi: #SEVENTEEN’s Mingyu, Jin Se Yeon, ...</td>\n",
       "      <td>False</td>\n",
       "      <td>NaN</td>\n",
       "      <td>801657325836763136</td>\n",
       "      <td>0</td>\n",
       "      <td>NaN</td>\n",
       "      <td>False</td>\n",
       "      <td>NaN</td>\n",
       "      <td>...</td>\n",
       "      <td>NaN</td>\n",
       "      <td>NaN</td>\n",
       "      <td>NaN</td>\n",
       "      <td>NaN</td>\n",
       "      <td>False</td>\n",
       "      <td>en</td>\n",
       "      <td>2016-11-24 05:22:55+00:00</td>\n",
       "      <td>NaN</td>\n",
       "      <td>NaN</td>\n",
       "      <td>NaN</td>\n",
       "    </tr>\n",
       "    <tr>\n",
       "      <th>...</th>\n",
       "      <td>...</td>\n",
       "      <td>...</td>\n",
       "      <td>...</td>\n",
       "      <td>...</td>\n",
       "      <td>...</td>\n",
       "      <td>...</td>\n",
       "      <td>...</td>\n",
       "      <td>...</td>\n",
       "      <td>...</td>\n",
       "      <td>...</td>\n",
       "      <td>...</td>\n",
       "      <td>...</td>\n",
       "      <td>...</td>\n",
       "      <td>...</td>\n",
       "      <td>...</td>\n",
       "      <td>...</td>\n",
       "      <td>...</td>\n",
       "      <td>...</td>\n",
       "      <td>...</td>\n",
       "      <td>...</td>\n",
       "      <td>...</td>\n",
       "    </tr>\n",
       "    <tr>\n",
       "      <th>protected</th>\n",
       "      <td>NaN</td>\n",
       "      <td>False</td>\n",
       "      <td>RT @soompi: #SEVENTEEN’s Mingyu, Jin Se Yeon, ...</td>\n",
       "      <td>False</td>\n",
       "      <td>NaN</td>\n",
       "      <td>801657325836763136</td>\n",
       "      <td>0</td>\n",
       "      <td>NaN</td>\n",
       "      <td>False</td>\n",
       "      <td>NaN</td>\n",
       "      <td>...</td>\n",
       "      <td>NaN</td>\n",
       "      <td>False</td>\n",
       "      <td>NaN</td>\n",
       "      <td>NaN</td>\n",
       "      <td>False</td>\n",
       "      <td>en</td>\n",
       "      <td>2016-11-24 05:22:55+00:00</td>\n",
       "      <td>NaN</td>\n",
       "      <td>NaN</td>\n",
       "      <td>NaN</td>\n",
       "    </tr>\n",
       "    <tr>\n",
       "      <th>default_profile</th>\n",
       "      <td>NaN</td>\n",
       "      <td>False</td>\n",
       "      <td>RT @soompi: #SEVENTEEN’s Mingyu, Jin Se Yeon, ...</td>\n",
       "      <td>False</td>\n",
       "      <td>NaN</td>\n",
       "      <td>801657325836763136</td>\n",
       "      <td>0</td>\n",
       "      <td>NaN</td>\n",
       "      <td>False</td>\n",
       "      <td>NaN</td>\n",
       "      <td>...</td>\n",
       "      <td>NaN</td>\n",
       "      <td>True</td>\n",
       "      <td>NaN</td>\n",
       "      <td>NaN</td>\n",
       "      <td>False</td>\n",
       "      <td>en</td>\n",
       "      <td>2016-11-24 05:22:55+00:00</td>\n",
       "      <td>NaN</td>\n",
       "      <td>NaN</td>\n",
       "      <td>NaN</td>\n",
       "    </tr>\n",
       "    <tr>\n",
       "      <th>is_translator</th>\n",
       "      <td>NaN</td>\n",
       "      <td>False</td>\n",
       "      <td>RT @soompi: #SEVENTEEN’s Mingyu, Jin Se Yeon, ...</td>\n",
       "      <td>False</td>\n",
       "      <td>NaN</td>\n",
       "      <td>801657325836763136</td>\n",
       "      <td>0</td>\n",
       "      <td>NaN</td>\n",
       "      <td>False</td>\n",
       "      <td>NaN</td>\n",
       "      <td>...</td>\n",
       "      <td>NaN</td>\n",
       "      <td>False</td>\n",
       "      <td>NaN</td>\n",
       "      <td>NaN</td>\n",
       "      <td>False</td>\n",
       "      <td>en</td>\n",
       "      <td>2016-11-24 05:22:55+00:00</td>\n",
       "      <td>NaN</td>\n",
       "      <td>NaN</td>\n",
       "      <td>NaN</td>\n",
       "    </tr>\n",
       "    <tr>\n",
       "      <th>iso_language_code</th>\n",
       "      <td>NaN</td>\n",
       "      <td>False</td>\n",
       "      <td>RT @soompi: #SEVENTEEN’s Mingyu, Jin Se Yeon, ...</td>\n",
       "      <td>False</td>\n",
       "      <td>NaN</td>\n",
       "      <td>801657325836763136</td>\n",
       "      <td>0</td>\n",
       "      <td>NaN</td>\n",
       "      <td>False</td>\n",
       "      <td>NaN</td>\n",
       "      <td>...</td>\n",
       "      <td>NaN</td>\n",
       "      <td>NaN</td>\n",
       "      <td>NaN</td>\n",
       "      <td>NaN</td>\n",
       "      <td>False</td>\n",
       "      <td>en</td>\n",
       "      <td>2016-11-24 05:22:55+00:00</td>\n",
       "      <td>NaN</td>\n",
       "      <td>NaN</td>\n",
       "      <td>en</td>\n",
       "    </tr>\n",
       "    <tr>\n",
       "      <th>result_type</th>\n",
       "      <td>NaN</td>\n",
       "      <td>False</td>\n",
       "      <td>RT @soompi: #SEVENTEEN’s Mingyu, Jin Se Yeon, ...</td>\n",
       "      <td>False</td>\n",
       "      <td>NaN</td>\n",
       "      <td>801657325836763136</td>\n",
       "      <td>0</td>\n",
       "      <td>NaN</td>\n",
       "      <td>False</td>\n",
       "      <td>NaN</td>\n",
       "      <td>...</td>\n",
       "      <td>NaN</td>\n",
       "      <td>NaN</td>\n",
       "      <td>NaN</td>\n",
       "      <td>NaN</td>\n",
       "      <td>False</td>\n",
       "      <td>en</td>\n",
       "      <td>2016-11-24 05:22:55+00:00</td>\n",
       "      <td>NaN</td>\n",
       "      <td>NaN</td>\n",
       "      <td>recent</td>\n",
       "    </tr>\n",
       "  </tbody>\n",
       "</table>\n",
       "<p>68 rows × 26 columns</p>\n",
       "</div>"
      ],
      "text/plain": [
       "                   contributors  truncated  \\\n",
       "symbols                     NaN      False   \n",
       "user_mentions               NaN      False   \n",
       "hashtags                    NaN      False   \n",
       "urls                        NaN      False   \n",
       "contributors                NaN      False   \n",
       "...                         ...        ...   \n",
       "protected                   NaN      False   \n",
       "default_profile             NaN      False   \n",
       "is_translator               NaN      False   \n",
       "iso_language_code           NaN      False   \n",
       "result_type                 NaN      False   \n",
       "\n",
       "                                                                text  \\\n",
       "symbols            RT @soompi: #SEVENTEEN’s Mingyu, Jin Se Yeon, ...   \n",
       "user_mentions      RT @soompi: #SEVENTEEN’s Mingyu, Jin Se Yeon, ...   \n",
       "hashtags           RT @soompi: #SEVENTEEN’s Mingyu, Jin Se Yeon, ...   \n",
       "urls               RT @soompi: #SEVENTEEN’s Mingyu, Jin Se Yeon, ...   \n",
       "contributors       RT @soompi: #SEVENTEEN’s Mingyu, Jin Se Yeon, ...   \n",
       "...                                                              ...   \n",
       "protected          RT @soompi: #SEVENTEEN’s Mingyu, Jin Se Yeon, ...   \n",
       "default_profile    RT @soompi: #SEVENTEEN’s Mingyu, Jin Se Yeon, ...   \n",
       "is_translator      RT @soompi: #SEVENTEEN’s Mingyu, Jin Se Yeon, ...   \n",
       "iso_language_code  RT @soompi: #SEVENTEEN’s Mingyu, Jin Se Yeon, ...   \n",
       "result_type        RT @soompi: #SEVENTEEN’s Mingyu, Jin Se Yeon, ...   \n",
       "\n",
       "                   is_quote_status  in_reply_to_status_id                  id  \\\n",
       "symbols                      False                    NaN  801657325836763136   \n",
       "user_mentions                False                    NaN  801657325836763136   \n",
       "hashtags                     False                    NaN  801657325836763136   \n",
       "urls                         False                    NaN  801657325836763136   \n",
       "contributors                 False                    NaN  801657325836763136   \n",
       "...                            ...                    ...                 ...   \n",
       "protected                    False                    NaN  801657325836763136   \n",
       "default_profile              False                    NaN  801657325836763136   \n",
       "is_translator                False                    NaN  801657325836763136   \n",
       "iso_language_code            False                    NaN  801657325836763136   \n",
       "result_type                  False                    NaN  801657325836763136   \n",
       "\n",
       "                   favorite_count  \\\n",
       "symbols                         0   \n",
       "user_mentions                   0   \n",
       "hashtags                        0   \n",
       "urls                            0   \n",
       "contributors                    0   \n",
       "...                           ...   \n",
       "protected                       0   \n",
       "default_profile                 0   \n",
       "is_translator                   0   \n",
       "iso_language_code               0   \n",
       "result_type                     0   \n",
       "\n",
       "                                                            entities  \\\n",
       "symbols                                                           []   \n",
       "user_mentions      [{'id': 17659206, 'indices': [3, 10], 'id_str'...   \n",
       "hashtags                [{'indices': [12, 22], 'text': 'SEVENTEEN'}]   \n",
       "urls               [{'url': 'https://t.co/1XRSaRBbE0', 'indices':...   \n",
       "contributors                                                     NaN   \n",
       "...                                                              ...   \n",
       "protected                                                        NaN   \n",
       "default_profile                                                  NaN   \n",
       "is_translator                                                    NaN   \n",
       "iso_language_code                                                NaN   \n",
       "result_type                                                      NaN   \n",
       "\n",
       "                   retweeted  coordinates  ... retweeted_status   user  geo  \\\n",
       "symbols                False          NaN  ...              NaN    NaN  NaN   \n",
       "user_mentions          False          NaN  ...              NaN    NaN  NaN   \n",
       "hashtags               False          NaN  ...              NaN    NaN  NaN   \n",
       "urls                   False          NaN  ...              NaN    NaN  NaN   \n",
       "contributors           False          NaN  ...              NaN    NaN  NaN   \n",
       "...                      ...          ...  ...              ...    ...  ...   \n",
       "protected              False          NaN  ...              NaN  False  NaN   \n",
       "default_profile        False          NaN  ...              NaN   True  NaN   \n",
       "is_translator          False          NaN  ...              NaN  False  NaN   \n",
       "iso_language_code      False          NaN  ...              NaN    NaN  NaN   \n",
       "result_type            False          NaN  ...              NaN    NaN  NaN   \n",
       "\n",
       "                   in_reply_to_user_id_str  possibly_sensitive  lang  \\\n",
       "symbols                                NaN               False    en   \n",
       "user_mentions                          NaN               False    en   \n",
       "hashtags                               NaN               False    en   \n",
       "urls                                   NaN               False    en   \n",
       "contributors                           NaN               False    en   \n",
       "...                                    ...                 ...   ...   \n",
       "protected                              NaN               False    en   \n",
       "default_profile                        NaN               False    en   \n",
       "is_translator                          NaN               False    en   \n",
       "iso_language_code                      NaN               False    en   \n",
       "result_type                            NaN               False    en   \n",
       "\n",
       "                                 created_at in_reply_to_status_id_str  place  \\\n",
       "symbols           2016-11-24 05:22:55+00:00                       NaN    NaN   \n",
       "user_mentions     2016-11-24 05:22:55+00:00                       NaN    NaN   \n",
       "hashtags          2016-11-24 05:22:55+00:00                       NaN    NaN   \n",
       "urls              2016-11-24 05:22:55+00:00                       NaN    NaN   \n",
       "contributors      2016-11-24 05:22:55+00:00                       NaN    NaN   \n",
       "...                                     ...                       ...    ...   \n",
       "protected         2016-11-24 05:22:55+00:00                       NaN    NaN   \n",
       "default_profile   2016-11-24 05:22:55+00:00                       NaN    NaN   \n",
       "is_translator     2016-11-24 05:22:55+00:00                       NaN    NaN   \n",
       "iso_language_code 2016-11-24 05:22:55+00:00                       NaN    NaN   \n",
       "result_type       2016-11-24 05:22:55+00:00                       NaN    NaN   \n",
       "\n",
       "                   metadata  \n",
       "symbols                 NaN  \n",
       "user_mentions           NaN  \n",
       "hashtags                NaN  \n",
       "urls                    NaN  \n",
       "contributors            NaN  \n",
       "...                     ...  \n",
       "protected               NaN  \n",
       "default_profile         NaN  \n",
       "is_translator           NaN  \n",
       "iso_language_code        en  \n",
       "result_type          recent  \n",
       "\n",
       "[68 rows x 26 columns]"
      ]
     },
     "execution_count": 170,
     "metadata": {},
     "output_type": "execute_result"
    }
   ],
   "source": [
    "import pandas as pd\n",
    "\n",
    "tweetPd = pd.read_json(\"data/ds_twiiter_seoul_3.json\")\n",
    "tweetPd"
   ]
  },
  {
   "cell_type": "code",
   "execution_count": 171,
   "id": "5fd36ab9",
   "metadata": {},
   "outputs": [
    {
     "name": "stdout",
     "output_type": "stream",
     "text": [
      "+------------+-----------+--------------------+--------------------+--------------+---------+----+------------------+------------------+-----------------------+---------------------+-------------------------+-------------------+-----------------------+---------------+----+------------+-----+------------------+-------------+---------+--------------------+--------------------+--------------------+---------+--------------------+\n",
      "|contributors|coordinates|          created_at|            entities|favorite_count|favorited| geo|                id|            id_str|in_reply_to_screen_name|in_reply_to_status_id|in_reply_to_status_id_str|in_reply_to_user_id|in_reply_to_user_id_str|is_quote_status|lang|    metadata|place|possibly_sensitive|retweet_count|retweeted|    retweeted_status|              source|                text|truncated|                user|\n",
      "+------------+-----------+--------------------+--------------------+--------------+---------+----+------------------+------------------+-----------------------+---------------------+-------------------------+-------------------+-----------------------+---------------+----+------------+-----+------------------+-------------+---------+--------------------+--------------------+--------------------+---------+--------------------+\n",
      "|        null|       null|Thu Nov 24 05:22:...|{[{[12, 22], SEVE...|             0|    false|null|801657325836763136|801657325836763136|                   null|                 null|                     null|               null|                   null|          false|  en|{en, recent}| null|             false|         1487|    false|{null, null, Mon ...|<a href=\"http://t...|RT @soompi: #SEVE...|    false|{false, Wed Oct 2...|\n",
      "+------------+-----------+--------------------+--------------------+--------------+---------+----+------------------+------------------+-----------------------+---------------------+-------------------------+-------------------+-----------------------+---------------+----+------------+-----+------------------+-------------+---------+--------------------+--------------------+--------------------+---------+--------------------+\n",
      "\n"
     ]
    }
   ],
   "source": [
    "tweetDf = spark.read.json(\"data/ds_twiiter_seoul_3.json\")\n",
    "tweetDf.show()"
   ]
  },
  {
   "cell_type": "code",
   "execution_count": 173,
   "id": "a9fb91f4",
   "metadata": {},
   "outputs": [
    {
     "name": "stdout",
     "output_type": "stream",
     "text": [
      "root\n",
      " |-- contributors: string (nullable = true)\n",
      " |-- coordinates: string (nullable = true)\n",
      " |-- created_at: string (nullable = true)\n",
      " |-- entities: struct (nullable = true)\n",
      " |    |-- hashtags: array (nullable = true)\n",
      " |    |    |-- element: struct (containsNull = true)\n",
      " |    |    |    |-- indices: array (nullable = true)\n",
      " |    |    |    |    |-- element: long (containsNull = true)\n",
      " |    |    |    |-- text: string (nullable = true)\n",
      " |    |-- symbols: array (nullable = true)\n",
      " |    |    |-- element: string (containsNull = true)\n",
      " |    |-- urls: array (nullable = true)\n",
      " |    |    |-- element: struct (containsNull = true)\n",
      " |    |    |    |-- display_url: string (nullable = true)\n",
      " |    |    |    |-- expanded_url: string (nullable = true)\n",
      " |    |    |    |-- indices: array (nullable = true)\n",
      " |    |    |    |    |-- element: long (containsNull = true)\n",
      " |    |    |    |-- url: string (nullable = true)\n",
      " |    |-- user_mentions: array (nullable = true)\n",
      " |    |    |-- element: struct (containsNull = true)\n",
      " |    |    |    |-- id: long (nullable = true)\n",
      " |    |    |    |-- id_str: string (nullable = true)\n",
      " |    |    |    |-- indices: array (nullable = true)\n",
      " |    |    |    |    |-- element: long (containsNull = true)\n",
      " |    |    |    |-- name: string (nullable = true)\n",
      " |    |    |    |-- screen_name: string (nullable = true)\n",
      " |-- favorite_count: long (nullable = true)\n",
      " |-- favorited: boolean (nullable = true)\n",
      " |-- geo: string (nullable = true)\n",
      " |-- id: long (nullable = true)\n",
      " |-- id_str: string (nullable = true)\n",
      " |-- in_reply_to_screen_name: string (nullable = true)\n",
      " |-- in_reply_to_status_id: string (nullable = true)\n",
      " |-- in_reply_to_status_id_str: string (nullable = true)\n",
      " |-- in_reply_to_user_id: string (nullable = true)\n",
      " |-- in_reply_to_user_id_str: string (nullable = true)\n",
      " |-- is_quote_status: boolean (nullable = true)\n",
      " |-- lang: string (nullable = true)\n",
      " |-- metadata: struct (nullable = true)\n",
      " |    |-- iso_language_code: string (nullable = true)\n",
      " |    |-- result_type: string (nullable = true)\n",
      " |-- place: string (nullable = true)\n",
      " |-- possibly_sensitive: boolean (nullable = true)\n",
      " |-- retweet_count: long (nullable = true)\n",
      " |-- retweeted: boolean (nullable = true)\n",
      " |-- retweeted_status: struct (nullable = true)\n",
      " |    |-- contributors: string (nullable = true)\n",
      " |    |-- coordinates: string (nullable = true)\n",
      " |    |-- created_at: string (nullable = true)\n",
      " |    |-- entities: struct (nullable = true)\n",
      " |    |    |-- hashtags: array (nullable = true)\n",
      " |    |    |    |-- element: struct (containsNull = true)\n",
      " |    |    |    |    |-- indices: array (nullable = true)\n",
      " |    |    |    |    |    |-- element: long (containsNull = true)\n",
      " |    |    |    |    |-- text: string (nullable = true)\n",
      " |    |    |-- media: array (nullable = true)\n",
      " |    |    |    |-- element: struct (containsNull = true)\n",
      " |    |    |    |    |-- display_url: string (nullable = true)\n",
      " |    |    |    |    |-- expanded_url: string (nullable = true)\n",
      " |    |    |    |    |-- id: long (nullable = true)\n",
      " |    |    |    |    |-- id_str: string (nullable = true)\n",
      " |    |    |    |    |-- indices: array (nullable = true)\n",
      " |    |    |    |    |    |-- element: long (containsNull = true)\n",
      " |    |    |    |    |-- media_url: string (nullable = true)\n",
      " |    |    |    |    |-- media_url_https: string (nullable = true)\n",
      " |    |    |    |    |-- sizes: struct (nullable = true)\n",
      " |    |    |    |    |    |-- large: struct (nullable = true)\n",
      " |    |    |    |    |    |    |-- h: long (nullable = true)\n",
      " |    |    |    |    |    |    |-- resize: string (nullable = true)\n",
      " |    |    |    |    |    |    |-- w: long (nullable = true)\n",
      " |    |    |    |    |    |-- medium: struct (nullable = true)\n",
      " |    |    |    |    |    |    |-- h: long (nullable = true)\n",
      " |    |    |    |    |    |    |-- resize: string (nullable = true)\n",
      " |    |    |    |    |    |    |-- w: long (nullable = true)\n",
      " |    |    |    |    |    |-- small: struct (nullable = true)\n",
      " |    |    |    |    |    |    |-- h: long (nullable = true)\n",
      " |    |    |    |    |    |    |-- resize: string (nullable = true)\n",
      " |    |    |    |    |    |    |-- w: long (nullable = true)\n",
      " |    |    |    |    |    |-- thumb: struct (nullable = true)\n",
      " |    |    |    |    |    |    |-- h: long (nullable = true)\n",
      " |    |    |    |    |    |    |-- resize: string (nullable = true)\n",
      " |    |    |    |    |    |    |-- w: long (nullable = true)\n",
      " |    |    |    |    |-- type: string (nullable = true)\n",
      " |    |    |    |    |-- url: string (nullable = true)\n",
      " |    |    |-- symbols: array (nullable = true)\n",
      " |    |    |    |-- element: string (containsNull = true)\n",
      " |    |    |-- urls: array (nullable = true)\n",
      " |    |    |    |-- element: struct (containsNull = true)\n",
      " |    |    |    |    |-- display_url: string (nullable = true)\n",
      " |    |    |    |    |-- expanded_url: string (nullable = true)\n",
      " |    |    |    |    |-- indices: array (nullable = true)\n",
      " |    |    |    |    |    |-- element: long (containsNull = true)\n",
      " |    |    |    |    |-- url: string (nullable = true)\n",
      " |    |    |-- user_mentions: array (nullable = true)\n",
      " |    |    |    |-- element: string (containsNull = true)\n",
      " |    |-- extended_entities: struct (nullable = true)\n",
      " |    |    |-- media: array (nullable = true)\n",
      " |    |    |    |-- element: struct (containsNull = true)\n",
      " |    |    |    |    |-- display_url: string (nullable = true)\n",
      " |    |    |    |    |-- expanded_url: string (nullable = true)\n",
      " |    |    |    |    |-- id: long (nullable = true)\n",
      " |    |    |    |    |-- id_str: string (nullable = true)\n",
      " |    |    |    |    |-- indices: array (nullable = true)\n",
      " |    |    |    |    |    |-- element: long (containsNull = true)\n",
      " |    |    |    |    |-- media_url: string (nullable = true)\n",
      " |    |    |    |    |-- media_url_https: string (nullable = true)\n",
      " |    |    |    |    |-- sizes: struct (nullable = true)\n",
      " |    |    |    |    |    |-- large: struct (nullable = true)\n",
      " |    |    |    |    |    |    |-- h: long (nullable = true)\n",
      " |    |    |    |    |    |    |-- resize: string (nullable = true)\n",
      " |    |    |    |    |    |    |-- w: long (nullable = true)\n",
      " |    |    |    |    |    |-- medium: struct (nullable = true)\n",
      " |    |    |    |    |    |    |-- h: long (nullable = true)\n",
      " |    |    |    |    |    |    |-- resize: string (nullable = true)\n",
      " |    |    |    |    |    |    |-- w: long (nullable = true)\n",
      " |    |    |    |    |    |-- small: struct (nullable = true)\n",
      " |    |    |    |    |    |    |-- h: long (nullable = true)\n",
      " |    |    |    |    |    |    |-- resize: string (nullable = true)\n",
      " |    |    |    |    |    |    |-- w: long (nullable = true)\n",
      " |    |    |    |    |    |-- thumb: struct (nullable = true)\n",
      " |    |    |    |    |    |    |-- h: long (nullable = true)\n",
      " |    |    |    |    |    |    |-- resize: string (nullable = true)\n",
      " |    |    |    |    |    |    |-- w: long (nullable = true)\n",
      " |    |    |    |    |-- type: string (nullable = true)\n",
      " |    |    |    |    |-- url: string (nullable = true)\n",
      " |    |-- favorite_count: long (nullable = true)\n",
      " |    |-- favorited: boolean (nullable = true)\n",
      " |    |-- geo: string (nullable = true)\n",
      " |    |-- id: long (nullable = true)\n",
      " |    |-- id_str: string (nullable = true)\n",
      " |    |-- in_reply_to_screen_name: string (nullable = true)\n",
      " |    |-- in_reply_to_status_id: string (nullable = true)\n",
      " |    |-- in_reply_to_status_id_str: string (nullable = true)\n",
      " |    |-- in_reply_to_user_id: string (nullable = true)\n",
      " |    |-- in_reply_to_user_id_str: string (nullable = true)\n",
      " |    |-- is_quote_status: boolean (nullable = true)\n",
      " |    |-- lang: string (nullable = true)\n",
      " |    |-- metadata: struct (nullable = true)\n",
      " |    |    |-- iso_language_code: string (nullable = true)\n",
      " |    |    |-- result_type: string (nullable = true)\n",
      " |    |-- place: string (nullable = true)\n",
      " |    |-- possibly_sensitive: boolean (nullable = true)\n",
      " |    |-- retweet_count: long (nullable = true)\n",
      " |    |-- retweeted: boolean (nullable = true)\n",
      " |    |-- source: string (nullable = true)\n",
      " |    |-- text: string (nullable = true)\n",
      " |    |-- truncated: boolean (nullable = true)\n",
      " |    |-- user: struct (nullable = true)\n",
      " |    |    |-- contributors_enabled: boolean (nullable = true)\n",
      " |    |    |-- created_at: string (nullable = true)\n",
      " |    |    |-- default_profile: boolean (nullable = true)\n",
      " |    |    |-- default_profile_image: boolean (nullable = true)\n",
      " |    |    |-- description: string (nullable = true)\n",
      " |    |    |-- entities: struct (nullable = true)\n",
      " |    |    |    |-- description: struct (nullable = true)\n",
      " |    |    |    |    |-- urls: array (nullable = true)\n",
      " |    |    |    |    |    |-- element: string (containsNull = true)\n",
      " |    |    |    |-- url: struct (nullable = true)\n",
      " |    |    |    |    |-- urls: array (nullable = true)\n",
      " |    |    |    |    |    |-- element: struct (containsNull = true)\n",
      " |    |    |    |    |    |    |-- display_url: string (nullable = true)\n",
      " |    |    |    |    |    |    |-- expanded_url: string (nullable = true)\n",
      " |    |    |    |    |    |    |-- indices: array (nullable = true)\n",
      " |    |    |    |    |    |    |    |-- element: long (containsNull = true)\n",
      " |    |    |    |    |    |    |-- url: string (nullable = true)\n",
      " |    |    |-- favourites_count: long (nullable = true)\n",
      " |    |    |-- follow_request_sent: boolean (nullable = true)\n",
      " |    |    |-- followers_count: long (nullable = true)\n",
      " |    |    |-- following: boolean (nullable = true)\n",
      " |    |    |-- friends_count: long (nullable = true)\n",
      " |    |    |-- geo_enabled: boolean (nullable = true)\n",
      " |    |    |-- has_extended_profile: boolean (nullable = true)\n",
      " |    |    |-- id: long (nullable = true)\n",
      " |    |    |-- id_str: string (nullable = true)\n",
      " |    |    |-- is_translation_enabled: boolean (nullable = true)\n",
      " |    |    |-- is_translator: boolean (nullable = true)\n",
      " |    |    |-- lang: string (nullable = true)\n",
      " |    |    |-- listed_count: long (nullable = true)\n",
      " |    |    |-- location: string (nullable = true)\n",
      " |    |    |-- name: string (nullable = true)\n",
      " |    |    |-- notifications: boolean (nullable = true)\n",
      " |    |    |-- profile_background_color: string (nullable = true)\n",
      " |    |    |-- profile_background_image_url: string (nullable = true)\n",
      " |    |    |-- profile_background_image_url_https: string (nullable = true)\n",
      " |    |    |-- profile_background_tile: boolean (nullable = true)\n",
      " |    |    |-- profile_banner_url: string (nullable = true)\n",
      " |    |    |-- profile_image_url: string (nullable = true)\n",
      " |    |    |-- profile_image_url_https: string (nullable = true)\n",
      " |    |    |-- profile_link_color: string (nullable = true)\n",
      " |    |    |-- profile_sidebar_border_color: string (nullable = true)\n",
      " |    |    |-- profile_sidebar_fill_color: string (nullable = true)\n",
      " |    |    |-- profile_text_color: string (nullable = true)\n",
      " |    |    |-- profile_use_background_image: boolean (nullable = true)\n",
      " |    |    |-- protected: boolean (nullable = true)\n",
      " |    |    |-- screen_name: string (nullable = true)\n",
      " |    |    |-- statuses_count: long (nullable = true)\n",
      " |    |    |-- time_zone: string (nullable = true)\n",
      " |    |    |-- translator_type: string (nullable = true)\n",
      " |    |    |-- url: string (nullable = true)\n",
      " |    |    |-- utc_offset: long (nullable = true)\n",
      " |    |    |-- verified: boolean (nullable = true)\n",
      " |-- source: string (nullable = true)\n",
      " |-- text: string (nullable = true)\n",
      " |-- truncated: boolean (nullable = true)\n",
      " |-- user: struct (nullable = true)\n",
      " |    |-- contributors_enabled: boolean (nullable = true)\n",
      " |    |-- created_at: string (nullable = true)\n",
      " |    |-- default_profile: boolean (nullable = true)\n",
      " |    |-- default_profile_image: boolean (nullable = true)\n",
      " |    |-- description: string (nullable = true)\n",
      " |    |-- entities: struct (nullable = true)\n",
      " |    |    |-- description: struct (nullable = true)\n",
      " |    |    |    |-- urls: array (nullable = true)\n",
      " |    |    |    |    |-- element: string (containsNull = true)\n",
      " |    |-- favourites_count: long (nullable = true)\n",
      " |    |-- follow_request_sent: boolean (nullable = true)\n",
      " |    |-- followers_count: long (nullable = true)\n",
      " |    |-- following: boolean (nullable = true)\n",
      " |    |-- friends_count: long (nullable = true)\n",
      " |    |-- geo_enabled: boolean (nullable = true)\n",
      " |    |-- has_extended_profile: boolean (nullable = true)\n",
      " |    |-- id: long (nullable = true)\n",
      " |    |-- id_str: string (nullable = true)\n",
      " |    |-- is_translation_enabled: boolean (nullable = true)\n",
      " |    |-- is_translator: boolean (nullable = true)\n",
      " |    |-- lang: string (nullable = true)\n",
      " |    |-- listed_count: long (nullable = true)\n",
      " |    |-- location: string (nullable = true)\n",
      " |    |-- name: string (nullable = true)\n",
      " |    |-- notifications: boolean (nullable = true)\n",
      " |    |-- profile_background_color: string (nullable = true)\n",
      " |    |-- profile_background_image_url: string (nullable = true)\n",
      " |    |-- profile_background_image_url_https: string (nullable = true)\n",
      " |    |-- profile_background_tile: boolean (nullable = true)\n",
      " |    |-- profile_image_url: string (nullable = true)\n",
      " |    |-- profile_image_url_https: string (nullable = true)\n",
      " |    |-- profile_link_color: string (nullable = true)\n",
      " |    |-- profile_sidebar_border_color: string (nullable = true)\n",
      " |    |-- profile_sidebar_fill_color: string (nullable = true)\n",
      " |    |-- profile_text_color: string (nullable = true)\n",
      " |    |-- profile_use_background_image: boolean (nullable = true)\n",
      " |    |-- protected: boolean (nullable = true)\n",
      " |    |-- screen_name: string (nullable = true)\n",
      " |    |-- statuses_count: long (nullable = true)\n",
      " |    |-- time_zone: string (nullable = true)\n",
      " |    |-- translator_type: string (nullable = true)\n",
      " |    |-- url: string (nullable = true)\n",
      " |    |-- utc_offset: string (nullable = true)\n",
      " |    |-- verified: boolean (nullable = true)\n",
      "\n"
     ]
    }
   ],
   "source": [
    "tweetDf.printSchema()"
   ]
  },
  {
   "cell_type": "code",
   "execution_count": 174,
   "id": "eb982e91",
   "metadata": {},
   "outputs": [
    {
     "name": "stdout",
     "output_type": "stream",
     "text": [
      "+---+------------------+------------------+\n",
      "|dex|        Height(cm)|        Weight(kg)|\n",
      "+---+------------------+------------------+\n",
      "|  1|       167.0896074|51.242098750000004|\n",
      "|  2|       181.6486334|61.896990550000005|\n",
      "|  3|       176.2727996| 69.39769915000001|\n",
      "|  4|        173.270164|        64.5491039|\n",
      "|  5|172.18103739999998|       65.43873485|\n",
      "|  6|       174.4925136|        55.9176384|\n",
      "|  7|177.29718160000002|       64.16784645|\n",
      "|  8|177.83738879999999|       61.88565305|\n",
      "|  9|172.47273099999998|       50.96083805|\n",
      "| 10|       169.6271944|        54.7225752|\n",
      "| 11|       168.8787326|        57.7993006|\n",
      "| 12|       171.7632582|51.763850500000004|\n",
      "| 13|       173.4882992|56.964452449999996|\n",
      "| 14|170.47606240000002|        55.5364263|\n",
      "| 15|       173.4303618|52.645273100000004|\n",
      "| 16|        180.572664|       63.48886625|\n",
      "| 17|         168.81094|58.729293049999995|\n",
      "| 18|       174.3691458|       64.83839155|\n",
      "| 19|       180.9250382|       62.53878375|\n",
      "| 20|       170.5131972|       56.25436215|\n",
      "+---+------------------+------------------+\n",
      "only showing top 20 rows\n",
      "\n"
     ]
    }
   ],
   "source": [
    "hwDf.show()"
   ]
  },
  {
   "cell_type": "code",
   "execution_count": 186,
   "id": "0fd926b3",
   "metadata": {},
   "outputs": [
    {
     "data": {
      "text/plain": [
       "[<matplotlib.lines.Line2D at 0x7f857416d850>,\n",
       " <matplotlib.lines.Line2D at 0x7f857416d760>]"
      ]
     },
     "execution_count": 186,
     "metadata": {},
     "output_type": "execute_result"
    },
    {
     "data": {
      "image/png": "[encoded data removed]",
      "text/plain": [
       "<Figure size 432x288 with 1 Axes>"
      ]
     },
     "metadata": {
      "needs_background": "light"
     },
     "output_type": "display_data"
    }
   ],
   "source": [
    "import numpy as np\n",
    "\n",
    "%matplotlib inline\n",
    "import matplotlib.pyplot as plt\n",
    "\n",
    "np.array(hwDf.select(\"Height(cm)\").rdd.collect())\n",
    "plt.plot(\n",
    "    np.array(hwDf.select(\"Height(cm)\").rdd.collect()),\n",
    "    np.array(hwDf.select(\"Weight(kg)\").rdd.collect()),\n",
    "    'b.'\n",
    ")"
   ]
  },
  {
   "cell_type": "code",
   "execution_count": 197,
   "id": "7dcddba8",
   "metadata": {},
   "outputs": [
    {
     "name": "stdout",
     "output_type": "stream",
     "text": [
      "+---+------------------+------------------+----+\n",
      "|dex|        Height(cm)|        Weight(kg)|<150|\n",
      "+---+------------------+------------------+----+\n",
      "|  1|       167.0896074|51.242098750000004|   0|\n",
      "|  2|       181.6486334|61.896990550000005|   0|\n",
      "|  3|       176.2727996| 69.39769915000001|   0|\n",
      "|  4|        173.270164|        64.5491039|   0|\n",
      "|  5|172.18103739999998|       65.43873485|   0|\n",
      "|  6|       174.4925136|        55.9176384|   0|\n",
      "|  7|177.29718160000002|       64.16784645|   0|\n",
      "|  8|177.83738879999999|       61.88565305|   0|\n",
      "|  9|172.47273099999998|       50.96083805|   0|\n",
      "| 10|       169.6271944|        54.7225752|   0|\n",
      "| 11|       168.8787326|        57.7993006|   0|\n",
      "| 12|       171.7632582|51.763850500000004|   0|\n",
      "| 13|       173.4882992|56.964452449999996|   0|\n",
      "| 14|170.47606240000002|        55.5364263|   0|\n",
      "| 15|       173.4303618|52.645273100000004|   0|\n",
      "| 16|        180.572664|       63.48886625|   0|\n",
      "| 17|         168.81094|58.729293049999995|   0|\n",
      "| 18|       174.3691458|       64.83839155|   0|\n",
      "| 19|       180.9250382|       62.53878375|   0|\n",
      "| 20|       170.5131972|       56.25436215|   0|\n",
      "+---+------------------+------------------+----+\n",
      "only showing top 20 rows\n",
      "\n"
     ]
    }
   ],
   "source": [
    "import pyspark.sql.functions as F\n",
    "\n",
    "\n",
    "\n",
    "hwDf.select(*hwDf.columns, F.when(hwDf[\"Height(cm)\"] < 150, 1).otherwise(0).alias(\"<150\")).show()"
   ]
  },
  {
   "cell_type": "code",
   "execution_count": 208,
   "id": "529db7cf",
   "metadata": {},
   "outputs": [],
   "source": [
    "grp1 = hwDf.where(150 <= hwDf[\"Height(cm)\"]).where(hwDf[\"Height(cm)\"] < 160)\n",
    "grp2 = hwDf.where(160 <= hwDf[\"Height(cm)\"]).where(hwDf[\"Height(cm)\"] < 170)\n",
    "grp3 = hwDf.where(170 <= hwDf[\"Height(cm)\"]).where(hwDf[\"Height(cm)\"] < 180)\n",
    "grp4 = hwDf.where(180 <= hwDf[\"Height(cm)\"]).where(hwDf[\"Height(cm)\"] < 190)"
   ]
  },
  {
   "cell_type": "code",
   "execution_count": 230,
   "id": "1bb05e5a",
   "metadata": {},
   "outputs": [
    {
     "data": {
      "text/plain": [
       "(array([ 2.,  3.,  1.,  6.,  3.,  7.,  7.,  5.,  2., 10.,  6.,  8.,  5.,\n",
       "         6.,  8.,  8.,  3.,  3.,  4.,  1.,  0.,  0.,  0.,  0.,  0.,  0.,\n",
       "         0.,  0.,  0.,  0.,  0.,  0.,  0.,  0.,  0.,  0.,  0.,  0.,  0.,\n",
       "         0.,  0.,  0.,  0.,  0.,  0.,  0.,  0.,  0.,  0.]),\n",
       " array([40, 41, 42, 43, 44, 45, 46, 47, 48, 49, 50, 51, 52, 53, 54, 55, 56,\n",
       "        57, 58, 59, 60, 61, 62, 63, 64, 65, 66, 67, 68, 69, 70, 71, 72, 73,\n",
       "        74, 75, 76, 77, 78, 79, 80, 81, 82, 83, 84, 85, 86, 87, 88, 89]),\n",
       " <BarContainer object of 49 artists>)"
      ]
     },
     "execution_count": 230,
     "metadata": {},
     "output_type": "execute_result"
    },
    {
     "data": {
      "image/png": "[encoded data removed]",
      "text/plain": [
       "<Figure size 432x288 with 1 Axes>"
      ]
     },
     "metadata": {
      "needs_background": "light"
     },
     "output_type": "display_data"
    }
   ],
   "source": [
    "plt.hist(\n",
    "    np.array(grp1.select(\"Weight(kg)\").rdd.collect()),\n",
    "    bins=range(40, 90)\n",
    ")"
   ]
  },
  {
   "cell_type": "code",
   "execution_count": 231,
   "id": "6c7cc82b",
   "metadata": {},
   "outputs": [
    {
     "data": {
      "text/plain": [
       "(array([  8.,  11.,  33.,  42.,  50., 115., 133., 198., 265., 320., 416.,\n",
       "        507., 526., 557., 572., 612., 527., 482., 468., 361., 295., 200.,\n",
       "        156.,  95.,  65.,  40.,  23.,   7.,   9.,   3.,   1.,   1.,   0.,\n",
       "          0.,   0.,   0.,   0.,   0.,   0.,   0.,   0.,   0.,   0.,   0.,\n",
       "          0.,   0.,   0.,   0.,   0.]),\n",
       " array([40, 41, 42, 43, 44, 45, 46, 47, 48, 49, 50, 51, 52, 53, 54, 55, 56,\n",
       "        57, 58, 59, 60, 61, 62, 63, 64, 65, 66, 67, 68, 69, 70, 71, 72, 73,\n",
       "        74, 75, 76, 77, 78, 79, 80, 81, 82, 83, 84, 85, 86, 87, 88, 89]),\n",
       " <BarContainer object of 49 artists>)"
      ]
     },
     "execution_count": 231,
     "metadata": {},
     "output_type": "execute_result"
    },
    {
     "data": {
      "image/png": "[encoded data removed]",
      "text/plain": [
       "<Figure size 432x288 with 1 Axes>"
      ]
     },
     "metadata": {
      "needs_background": "light"
     },
     "output_type": "display_data"
    }
   ],
   "source": [
    "plt.hist(\n",
    "    np.array(grp2.select(\"Weight(kg)\").rdd.collect()),\n",
    "    bins=range(40, 90)\n",
    ")"
   ]
  },
  {
   "cell_type": "code",
   "execution_count": 233,
   "id": "75e74a4d",
   "metadata": {},
   "outputs": [
    {
     "data": {
      "text/plain": [
       "(array([0.000e+00, 5.000e+00, 4.000e+00, 8.000e+00, 2.600e+01, 3.300e+01,\n",
       "        6.200e+01, 9.600e+01, 1.780e+02, 2.060e+02, 3.460e+02, 4.400e+02,\n",
       "        6.000e+02, 7.840e+02, 9.540e+02, 1.114e+03, 1.222e+03, 1.347e+03,\n",
       "        1.306e+03, 1.299e+03, 1.249e+03, 1.128e+03, 9.380e+02, 7.950e+02,\n",
       "        5.960e+02, 4.510e+02, 3.130e+02, 2.370e+02, 1.560e+02, 1.010e+02,\n",
       "        7.600e+01, 2.600e+01, 2.700e+01, 8.000e+00, 4.000e+00, 4.000e+00,\n",
       "        1.000e+00, 1.000e+00, 0.000e+00, 0.000e+00, 0.000e+00, 0.000e+00,\n",
       "        0.000e+00, 0.000e+00, 0.000e+00, 0.000e+00, 0.000e+00, 0.000e+00,\n",
       "        0.000e+00]),\n",
       " array([40, 41, 42, 43, 44, 45, 46, 47, 48, 49, 50, 51, 52, 53, 54, 55, 56,\n",
       "        57, 58, 59, 60, 61, 62, 63, 64, 65, 66, 67, 68, 69, 70, 71, 72, 73,\n",
       "        74, 75, 76, 77, 78, 79, 80, 81, 82, 83, 84, 85, 86, 87, 88, 89]),\n",
       " <BarContainer object of 49 artists>)"
      ]
     },
     "execution_count": 233,
     "metadata": {},
     "output_type": "execute_result"
    },
    {
     "data": {
      "image/png": "[encoded data removed]",
      "text/plain": [
       "<Figure size 432x288 with 1 Axes>"
      ]
     },
     "metadata": {
      "needs_background": "light"
     },
     "output_type": "display_data"
    }
   ],
   "source": [
    "plt.hist(\n",
    "    np.array(grp3.select(\"Weight(kg)\").rdd.collect()),\n",
    "    bins=range(40, 90)\n",
    ")"
   ]
  },
  {
   "cell_type": "code",
   "execution_count": 234,
   "id": "ea50e7ce",
   "metadata": {},
   "outputs": [
    {
     "data": {
      "text/plain": [
       "(array([  0.,   0.,   0.,   0.,   0.,   0.,   1.,   1.,   3.,   0.,   2.,\n",
       "          4.,  12.,  16.,  33.,  37.,  57.,  77.,  98., 101., 129., 155.,\n",
       "        131., 149., 122., 122.,  89.,  92.,  62.,  50.,  41.,  24.,  11.,\n",
       "         12.,   3.,   5.,   3.,   1.,   0.,   0.,   0.,   0.,   0.,   0.,\n",
       "          0.,   0.,   0.,   0.,   0.]),\n",
       " array([40, 41, 42, 43, 44, 45, 46, 47, 48, 49, 50, 51, 52, 53, 54, 55, 56,\n",
       "        57, 58, 59, 60, 61, 62, 63, 64, 65, 66, 67, 68, 69, 70, 71, 72, 73,\n",
       "        74, 75, 76, 77, 78, 79, 80, 81, 82, 83, 84, 85, 86, 87, 88, 89]),\n",
       " <BarContainer object of 49 artists>)"
      ]
     },
     "execution_count": 234,
     "metadata": {},
     "output_type": "execute_result"
    },
    {
     "data": {
      "image/png": "[encoded data removed]",
      "text/plain": [
       "<Figure size 432x288 with 1 Axes>"
      ]
     },
     "metadata": {
      "needs_background": "light"
     },
     "output_type": "display_data"
    }
   ],
   "source": [
    "plt.hist(\n",
    "    np.array(grp4.select(\"Weight(kg)\").rdd.collect()),\n",
    "    bins=range(40, 90)\n",
    ")"
   ]
  },
  {
   "cell_type": "code",
   "execution_count": 235,
   "id": "557f6509",
   "metadata": {},
   "outputs": [
    {
     "data": {
      "image/png": "[encoded data removed]",
      "text/plain": [
       "<Figure size 1440x720 with 2 Axes>"
      ]
     },
     "metadata": {
      "needs_background": "light"
     },
     "output_type": "display_data"
    }
   ],
   "source": [
    "import seaborn as sns\n",
    "\n",
    "fig = plt.figure(figsize=(20, 10))\n",
    "ax1 = fig.add_subplot(1, 2, 1)\n",
    "ax1 = plt.boxplot(np.array(hwDf.select(\"Height(cm)\").rdd.collect()))\n",
    "\n",
    "ax2 = fig.add_subplot(1, 2, 2)\n",
    "ax2 = sns.violinplot(data=np.array(hwDf.select(\"Height(cm)\").rdd.collect()))"
   ]
  },
  {
   "cell_type": "code",
   "execution_count": 244,
   "id": "6fe4c307",
   "metadata": {},
   "outputs": [
    {
     "data": {
      "text/plain": [
       "172.70250853587314"
      ]
     },
     "execution_count": 244,
     "metadata": {},
     "output_type": "execute_result"
    }
   ],
   "source": [
    "hwDf.select(\n",
    "    F.mean(\"Height(cm)\").alias(\"h_u\"), \n",
    "    F.stddev(\"Height(cm)\").alias(\"h_s\"),\n",
    "    F.mean(\"Weight(kg)\").alias(\"w_u\"),\n",
    "    F.stddev(\"Weight(kg)\").alias(\"w_s\")\n",
    ").rdd.collect()[0][\"h_u\"]"
   ]
  },
  {
   "cell_type": "code",
   "execution_count": null,
   "id": "f089eaca",
   "metadata": {},
   "outputs": [],
   "source": []
  }
 ],
 "metadata": {
  "kernelspec": {
   "display_name": "bigdata_analysis",
   "language": "python",
   "name": "bigdata_analysis"
  },
  "language_info": {
   "codemirror_mode": {
    "name": "ipython",
    "version": 3
   },
   "file_extension": ".py",
   "mimetype": "text/x-python",
   "name": "python",
   "nbconvert_exporter": "python",
   "pygments_lexer": "ipython3",
   "version": "3.8.11"
  }
 },
 "nbformat": 4,
 "nbformat_minor": 5
}
