{
 "cells": [
  {
   "cell_type": "markdown",
   "id": "7f6e0915",
   "metadata": {},
   "source": [
    "12주 matrix inverse method 회귀분석\n",
    "데이터가 다음과 같이 주어졌을 때:\n",
    "\n",
    "* x: [1,2],[1,4],[1,6]\n",
    "\n",
    "* y: 3,6,7"
   ]
  },
  {
   "cell_type": "markdown",
   "id": "cfa5681a",
   "metadata": {},
   "source": [
    "* 1) matrix inverse method로 계수를 계산하고 출력,\n"
   ]
  },
  {
   "cell_type": "code",
   "execution_count": 1,
   "id": "3f869653",
   "metadata": {},
   "outputs": [],
   "source": [
    "import numpy as np\n",
    "\n",
    "x = np.array([[1, 2], [1, 4], [1, 6]])\n",
    "y = np.array([3, 6, 7])\n",
    "\n",
    "w = np.dot(np.linalg.inv(np.dot(x.T, x)), np.dot(x.T, y))"
   ]
  },
  {
   "cell_type": "code",
   "execution_count": 28,
   "id": "8643deea",
   "metadata": {},
   "outputs": [
    {
     "data": {
      "text/plain": [
       "array([1.33333333, 1.        ])"
      ]
     },
     "execution_count": 28,
     "metadata": {},
     "output_type": "execute_result"
    }
   ],
   "source": [
    "w"
   ]
  },
  {
   "cell_type": "markdown",
   "id": "b7e2b64c",
   "metadata": {},
   "source": [
    "* 2) 예측과 실제의 오류 합계를 계산하고 출력,"
   ]
  },
  {
   "cell_type": "code",
   "execution_count": 32,
   "id": "c8d69e19",
   "metadata": {},
   "outputs": [
    {
     "data": {
      "text/plain": [
       "array([3.33333333, 5.33333333, 7.33333333])"
      ]
     },
     "execution_count": 32,
     "metadata": {},
     "output_type": "execute_result"
    }
   ],
   "source": [
    "yhat = w.dot(x.T)\n",
    "\n",
    "yhat"
   ]
  },
  {
   "cell_type": "code",
   "execution_count": 31,
   "id": "a3ebccad",
   "metadata": {
    "scrolled": false
   },
   "outputs": [
    {
     "data": {
      "text/plain": [
       "0.22222222222222224"
      ]
     },
     "execution_count": 31,
     "metadata": {},
     "output_type": "execute_result"
    }
   ],
   "source": [
    "np.sum(np.power(y-yhat, 2))/len(x)"
   ]
  },
  {
   "cell_type": "markdown",
   "id": "f2f14ae5",
   "metadata": {},
   "source": [
    "* 3) 입력 데이터와 회귀선의 그래프를 작성한다."
   ]
  },
  {
   "cell_type": "code",
   "execution_count": 34,
   "id": "5a5cc4e6",
   "metadata": {},
   "outputs": [
    {
     "data": {
      "image/png": "[encoded data removed]",
      "text/plain": [
       "<Figure size 432x288 with 1 Axes>"
      ]
     },
     "metadata": {
      "needs_background": "light"
     },
     "output_type": "display_data"
    }
   ],
   "source": [
    "%matplotlib inline\n",
    "import matplotlib.pyplot as plt\n",
    "\n",
    "plt.plot(x[:, 1], yhat, 'r-' , x[:, 1], y ,'bo')\n",
    "plt.show()"
   ]
  },
  {
   "cell_type": "code",
   "execution_count": null,
   "id": "624c976e",
   "metadata": {},
   "outputs": [],
   "source": []
  }
 ],
 "metadata": {
  "kernelspec": {
   "display_name": "bigdata_analysis",
   "language": "python",
   "name": "bigdata_analysis"
  },
  "language_info": {
   "codemirror_mode": {
    "name": "ipython",
    "version": 3
   },
   "file_extension": ".py",
   "mimetype": "text/x-python",
   "name": "python",
   "nbconvert_exporter": "python",
   "pygments_lexer": "ipython3",
   "version": "3.8.11"
  }
 },
 "nbformat": 4,
 "nbformat_minor": 5
}
