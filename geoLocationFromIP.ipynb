{
 "cells": [
  {
   "cell_type": "markdown",
   "id": "9a935d56",
   "metadata": {},
   "source": [
    "# 문제1 IP주소에서 지역정보 알아내기"
   ]
  },
  {
   "cell_type": "code",
   "execution_count": 2,
   "id": "c1a40d78",
   "metadata": {},
   "outputs": [],
   "source": [
    "url='http://api.ipstack.com/125.176.129.177?access_key=d7cdd0602f68e39767eba8a0e245e849'"
   ]
  },
  {
   "cell_type": "code",
   "execution_count": 3,
   "id": "30a7649a",
   "metadata": {},
   "outputs": [
    {
     "data": {
      "text/plain": [
       "'\\n- 읽어온 데이터는 문자열이다.\\n- json으로 변환하는 함수 json.loads() 를 사용한다.\\n- json형식은 Python dictionary와 동일하다.\\n- json은 유니코드를 지원한다.\\n'"
      ]
     },
     "execution_count": 3,
     "metadata": {},
     "output_type": "execute_result"
    }
   ],
   "source": [
    "import requests\n",
    "\n",
    "r = requests.get(url)\n",
    "'''\n",
    "- 읽어온 데이터는 문자열이다.\n",
    "- json으로 변환하는 함수 json.loads() 를 사용한다.\n",
    "- json형식은 Python dictionary와 동일하다.\n",
    "- json은 유니코드를 지원한다.\n",
    "'''"
   ]
  },
  {
   "cell_type": "code",
   "execution_count": 4,
   "id": "f5d1786b",
   "metadata": {},
   "outputs": [
    {
     "name": "stdout",
     "output_type": "stream",
     "text": [
      "{'ip': '125.176.129.177', 'type': 'ipv4', 'continent_code': 'AS', 'continent_name': 'Asia', 'country_code': 'KR', 'country_name': 'South Korea', 'region_code': '11', 'region_name': 'Seoul', 'city': 'Seoul', 'zip': '100-011', 'latitude': 37.56100082397461, 'longitude': 126.98265075683594, 'location': {'geoname_id': 1835848, 'capital': 'Seoul', 'languages': [{'code': 'ko', 'name': 'Korean', 'native': '한국어'}], 'country_flag': 'https://assets.ipstack.com/flags/kr.svg', 'country_flag_emoji': '🇰🇷', 'country_flag_emoji_unicode': 'U+1F1F0 U+1F1F7', 'calling_code': '82', 'is_eu': False}}\n"
     ]
    }
   ],
   "source": [
    "import json\n",
    "\n",
    "geo = json.loads(r.text)\n",
    "print(geo)"
   ]
  },
  {
   "cell_type": "code",
   "execution_count": 6,
   "id": "64fdbb01",
   "metadata": {},
   "outputs": [
    {
     "data": {
      "text/plain": [
       "'125.176.129.177'"
      ]
     },
     "execution_count": 6,
     "metadata": {},
     "output_type": "execute_result"
    }
   ],
   "source": [
    "geo.get(\"ip\")"
   ]
  },
  {
   "cell_type": "code",
   "execution_count": 7,
   "id": "6512bce1",
   "metadata": {},
   "outputs": [
    {
     "data": {
      "text/plain": [
       "'Seoul'"
      ]
     },
     "execution_count": 7,
     "metadata": {},
     "output_type": "execute_result"
    }
   ],
   "source": [
    "geo[\"city\"]"
   ]
  },
  {
   "cell_type": "code",
   "execution_count": 8,
   "id": "1de3ea67",
   "metadata": {},
   "outputs": [
    {
     "data": {
      "text/plain": [
       "'KR'"
      ]
     },
     "execution_count": 8,
     "metadata": {},
     "output_type": "execute_result"
    }
   ],
   "source": [
    "geo.get(\"country_code\")"
   ]
  },
  {
   "cell_type": "code",
   "execution_count": 10,
   "id": "23517287",
   "metadata": {},
   "outputs": [
    {
     "name": "stdout",
     "output_type": "stream",
     "text": [
      "ip             : 125.176.129.177\n",
      "type           : ipv4\n",
      "continent_code : AS\n",
      "continent_name : Asia\n",
      "country_code   : KR\n",
      "country_name   : South Korea\n",
      "region_code    : 11\n",
      "region_name    : Seoul\n",
      "city           : Seoul\n",
      "zip            : 100-011\n",
      "latitude       : 37.56100082397461\n",
      "longitude      : 126.98265075683594\n",
      "location       : {'geoname_id': 1835848, 'capital': 'Seoul', 'languages': [{'code': 'ko', 'name': 'Korean', 'native': '한국어'}], 'country_flag': 'https://assets.ipstack.com/flags/kr.svg', 'country_flag_emoji': '🇰🇷', 'country_flag_emoji_unicode': 'U+1F1F0 U+1F1F7', 'calling_code': '82', 'is_eu': False}\n"
     ]
    }
   ],
   "source": [
    "for k, v in geo.items():\n",
    "    print(f\"{k:15s}: {v}\")"
   ]
  },
  {
   "cell_type": "markdown",
   "id": "5db785be",
   "metadata": {},
   "source": [
    "# 인증키 \n",
    "### 서울시 열린데이터 인증키 신청"
   ]
  },
  {
   "cell_type": "code",
   "execution_count": 11,
   "id": "41137cea",
   "metadata": {},
   "outputs": [],
   "source": [
    "# 57497959747a7a313132306b6e47494f"
   ]
  },
  {
   "cell_type": "markdown",
   "id": "7cb46df1",
   "metadata": {},
   "source": [
    "### 사용자 ID, 비밀번호를 사용하는 방식은 보안에 취약하므로 OAuth를 사용한다."
   ]
  },
  {
   "cell_type": "code",
   "execution_count": 13,
   "id": "59a926fd",
   "metadata": {},
   "outputs": [
    {
     "name": "stdout",
     "output_type": "stream",
     "text": [
      "Writing data/key.properties\n"
     ]
    }
   ],
   "source": [
    "%%writefile data/key.properties\n",
    "dataseoul=57497959747a7a313132306b6e47494f"
   ]
  },
  {
   "cell_type": "code",
   "execution_count": 14,
   "id": "620eb84c",
   "metadata": {},
   "outputs": [
    {
     "name": "stdout",
     "output_type": "stream",
     "text": [
      "Writing src/myOauth.py\n"
     ]
    }
   ],
   "source": [
    "%%writefile src/myOauth.py\n",
    "def sayHello():\n",
    "    print('Hello')\n",
    "\n",
    "def getKey(KeyPath):\n",
    "    d = dict()\n",
    "    with open(KeyPath, 'r') as f:\n",
    "        for line in f.readlines():\n",
    "            row = line.split('=')\n",
    "            key, value = row[0], row[1]\n",
    "            d[key] = value.strip()\n",
    "    \n",
    "    return d"
   ]
  },
  {
   "cell_type": "code",
   "execution_count": 21,
   "id": "92f2fa3c",
   "metadata": {},
   "outputs": [],
   "source": [
    "import os\n",
    "import src.myOauth as oauth\n",
    "\n",
    "key_path = os.path.join(os.getcwd(), 'data', 'key.properties')\n",
    "key = oauth.getKey(key_path)\n",
    "KEY = str(key['dataseoul'])\n",
    "\n",
    "TYPE = 'json'\n",
    "SERVICE = 'SearchSTNBySubwayLineService'\n",
    "START_INDEX = str(1)\n",
    "END_INDEX = str(10)\n",
    "LINE_NUM = str(2)"
   ]
  },
  {
   "cell_type": "markdown",
   "id": "1f6516ac",
   "metadata": {},
   "source": [
    "### URL 만들기"
   ]
  },
  {
   "cell_type": "code",
   "execution_count": 26,
   "id": "8f574822",
   "metadata": {},
   "outputs": [
    {
     "data": {
      "text/plain": [
       "'http://openAPI.seoul.go.kr:8088/57497959747a7a313132306b6e47494f/json/SearchSTNBySubwayLineService/1/10/2'"
      ]
     },
     "execution_count": 26,
     "metadata": {},
     "output_type": "execute_result"
    }
   ],
   "source": [
    "params = \"/\".join([KEY, TYPE, SERVICE, START_INDEX, END_INDEX, LINE_NUM])\n",
    "_url = 'http://openAPI.seoul.go.kr:8088'\n",
    "url = '/'.join([_url, params])\n",
    "\n",
    "url"
   ]
  },
  {
   "cell_type": "markdown",
   "id": "b279318b",
   "metadata": {},
   "source": [
    "### URL 호출"
   ]
  },
  {
   "cell_type": "code",
   "execution_count": 28,
   "id": "7020c231",
   "metadata": {},
   "outputs": [
    {
     "data": {
      "text/plain": [
       "{'SearchSTNBySubwayLineService': {'list_total_count': 51,\n",
       "  'RESULT': {'CODE': 'INFO-000', 'MESSAGE': '정상 처리되었습니다'},\n",
       "  'row': [{'STATION_CD': '0201',\n",
       "    'STATION_NM': '시청',\n",
       "    'LINE_NUM': '2',\n",
       "    'FR_CODE': '201'},\n",
       "   {'STATION_CD': '0202',\n",
       "    'STATION_NM': '을지로입구',\n",
       "    'LINE_NUM': '2',\n",
       "    'FR_CODE': '202'},\n",
       "   {'STATION_CD': '0203',\n",
       "    'STATION_NM': '을지로3가',\n",
       "    'LINE_NUM': '2',\n",
       "    'FR_CODE': '203'},\n",
       "   {'STATION_CD': '0204',\n",
       "    'STATION_NM': '을지로4가',\n",
       "    'LINE_NUM': '2',\n",
       "    'FR_CODE': '204'},\n",
       "   {'STATION_CD': '0205',\n",
       "    'STATION_NM': '동대문역사문화공원',\n",
       "    'LINE_NUM': '2',\n",
       "    'FR_CODE': '205'},\n",
       "   {'STATION_CD': '0206',\n",
       "    'STATION_NM': '신당',\n",
       "    'LINE_NUM': '2',\n",
       "    'FR_CODE': '206'},\n",
       "   {'STATION_CD': '0207',\n",
       "    'STATION_NM': '상왕십리',\n",
       "    'LINE_NUM': '2',\n",
       "    'FR_CODE': '207'},\n",
       "   {'STATION_CD': '0208',\n",
       "    'STATION_NM': '왕십리',\n",
       "    'LINE_NUM': '2',\n",
       "    'FR_CODE': '208'},\n",
       "   {'STATION_CD': '0209',\n",
       "    'STATION_NM': '한양대',\n",
       "    'LINE_NUM': '2',\n",
       "    'FR_CODE': '209'},\n",
       "   {'STATION_CD': '0210',\n",
       "    'STATION_NM': '뚝섬',\n",
       "    'LINE_NUM': '2',\n",
       "    'FR_CODE': '210'}]}}"
      ]
     },
     "execution_count": 28,
     "metadata": {},
     "output_type": "execute_result"
    }
   ],
   "source": [
    "import requests\n",
    "\n",
    "r = requests.get(url)\n",
    "stations = r.json()\n",
    "stations"
   ]
  },
  {
   "cell_type": "code",
   "execution_count": 29,
   "id": "22dd7642",
   "metadata": {},
   "outputs": [
    {
     "data": {
      "text/plain": [
       "[{'STATION_CD': '0201', 'STATION_NM': '시청', 'LINE_NUM': '2', 'FR_CODE': '201'},\n",
       " {'STATION_CD': '0202',\n",
       "  'STATION_NM': '을지로입구',\n",
       "  'LINE_NUM': '2',\n",
       "  'FR_CODE': '202'},\n",
       " {'STATION_CD': '0203',\n",
       "  'STATION_NM': '을지로3가',\n",
       "  'LINE_NUM': '2',\n",
       "  'FR_CODE': '203'},\n",
       " {'STATION_CD': '0204',\n",
       "  'STATION_NM': '을지로4가',\n",
       "  'LINE_NUM': '2',\n",
       "  'FR_CODE': '204'},\n",
       " {'STATION_CD': '0205',\n",
       "  'STATION_NM': '동대문역사문화공원',\n",
       "  'LINE_NUM': '2',\n",
       "  'FR_CODE': '205'},\n",
       " {'STATION_CD': '0206', 'STATION_NM': '신당', 'LINE_NUM': '2', 'FR_CODE': '206'},\n",
       " {'STATION_CD': '0207',\n",
       "  'STATION_NM': '상왕십리',\n",
       "  'LINE_NUM': '2',\n",
       "  'FR_CODE': '207'},\n",
       " {'STATION_CD': '0208',\n",
       "  'STATION_NM': '왕십리',\n",
       "  'LINE_NUM': '2',\n",
       "  'FR_CODE': '208'},\n",
       " {'STATION_CD': '0209',\n",
       "  'STATION_NM': '한양대',\n",
       "  'LINE_NUM': '2',\n",
       "  'FR_CODE': '209'},\n",
       " {'STATION_CD': '0210', 'STATION_NM': '뚝섬', 'LINE_NUM': '2', 'FR_CODE': '210'}]"
      ]
     },
     "execution_count": 29,
     "metadata": {},
     "output_type": "execute_result"
    }
   ],
   "source": [
    "stations['SearchSTNBySubwayLineService']['row']"
   ]
  },
  {
   "cell_type": "code",
   "execution_count": 41,
   "id": "1e452d19",
   "metadata": {},
   "outputs": [
    {
     "name": "stdout",
     "output_type": "stream",
     "text": [
      "0201\t시청             \t2  \t201       \n",
      "0202\t을지로입구          \t2  \t202       \n",
      "0203\t을지로3가          \t2  \t203       \n",
      "0204\t을지로4가          \t2  \t204       \n",
      "0205\t동대문역사문화공원      \t2  \t205       \n",
      "0206\t신당             \t2  \t206       \n",
      "0207\t상왕십리           \t2  \t207       \n",
      "0208\t왕십리            \t2  \t208       \n",
      "0209\t한양대            \t2  \t209       \n",
      "0210\t뚝섬             \t2  \t210       \n"
     ]
    }
   ],
   "source": [
    "for elem in stations['SearchSTNBySubwayLineService']['row']:\n",
    "    print(f\"{elem['STATION_CD']:4s}\\t{elem['STATION_NM']:15s}\\t{elem['LINE_NUM']:3s}\\t{elem['FR_CODE']:10s}\")"
   ]
  },
  {
   "cell_type": "code",
   "execution_count": 60,
   "id": "e3877678",
   "metadata": {},
   "outputs": [
    {
     "name": "stdout",
     "output_type": "stream",
     "text": [
      "Overwriting src/open_subway_by_json.py\n"
     ]
    }
   ],
   "source": [
    "%%writefile src/open_subway_by_json.py\n",
    "import os\n",
    "import requests\n",
    "import urllib\n",
    "import myOauth as oauth\n",
    "\n",
    "class SubwayInfoScrapper:\n",
    "    '''\n",
    "    KEY: 발급받은 인증키\n",
    "    TYPE: xml, xmlf, xls, json 데이터 형식\n",
    "    SERVICE: 서비스명\n",
    "    START_INDEX: 페이징 시작번호\n",
    "    END_INDEX: Integer: 페이징 끝번호\n",
    "    STATION_CD: String (선택) 전철역코드\n",
    "    STATION_NM: String (선택) 전철역명\n",
    "    LINE_NM: String: 호선 1~9: 1~9호선, I: 인천1호선, K: 경의중앙선, B: 분당선, A: 공항철도, G: 경춘선, S:신분당선, SU:수인선. 현재 서울교통공사관할인 1~9호선 정보만 제공.\n",
    "    '''\n",
    "    \n",
    "    def __init__(self, key, _type, service, start_idx, \n",
    "                 end_idx, line_num, station_cd=\"\", station_nm=\"\"):\n",
    "        '''\n",
    "        url: http://openAPI.seoul.go.kr:8088\n",
    "        '''\n",
    "        self._key = key\n",
    "        self._type = _type\n",
    "        self._service = service\n",
    "        self._start_idx = start_idx\n",
    "        self._end_idx = end_idx\n",
    "        self._line_num = line_num\n",
    "        self._station_cd = station_cd\n",
    "        self._station_nm = station_nm\n",
    "            \n",
    "        self._params = \"/\".join([self._key, self._type, self._service, self._start_idx,\n",
    "                                 self._end_idx, self._station_cd, self._station_nm, self._line_num])\n",
    "        self._base_url = 'http://openAPI.seoul.go.kr:8088'\n",
    "        self._url = '/'.join([self._base_url, self._params])\n",
    "    \n",
    "    def request(self):\n",
    "        '''\n",
    "        only print result\n",
    "        '''\n",
    "        print(self._url)\n",
    "        r = requests.get(self._url)\n",
    "        print(r)\n",
    "        stations = r.json()\n",
    "                                \n",
    "        for elem in stations['SearchSTNBySubwayLineService']['row']:\n",
    "            print(f\"{elem['STATION_CD']:4s}\\t{elem['STATION_NM']:15s}\\t{elem['LINE_NUM']:3s}\\t{elem['FR_CODE']:10s}\")\n",
    "\n",
    "def main():\n",
    "    keys = oauth.getKey(os.path.join(os.getcwd(), 'data', 'key.properties'))\n",
    "    \n",
    "    KEY = str(keys['dataseoul'])\n",
    "    s = SubwayInfoScrapper(KEY, 'json', service='SearchSTNBySubwayLineService', start_idx='1',\n",
    "                      end_idx='10', line_num='2')\n",
    "    s.request()\n",
    "    \n",
    "if __name__ == '__main__':\n",
    "    main()"
   ]
  },
  {
   "cell_type": "code",
   "execution_count": 58,
   "id": "22341394",
   "metadata": {},
   "outputs": [
    {
     "name": "stdout",
     "output_type": "stream",
     "text": [
      "Traceback (most recent call last):\r\n",
      "  File \"src/open_subway_by_json.py\", line 58, in <module>\r\n",
      "    main()\r\n",
      "  File \"src/open_subway_by_json.py\", line 53, in main\r\n",
      "    s = SubwayInfoScrapper(KEY, 'json', service='SearchSTNBySubwayLineInfo', start_idx='1',\r\n",
      "  File \"src/open_subway_by_json.py\", line 32, in __init__\r\n",
      "    self._params = \"/\".join([self._key, self._type, self._service, self._start_idx,\r\n",
      "TypeError: sequence item 5: expected str instance, NoneType found\r\n"
     ]
    }
   ],
   "source": [
    "!python3 src/open_subway_by_json.py"
   ]
  },
  {
   "cell_type": "markdown",
   "id": "37cdc56f",
   "metadata": {},
   "source": [
    "## URL encoding\n",
    "\n",
    "URL은 128 ASCII 코드만 받도록 되어있다.<br>\n",
    "영문자, 숫자, -, _, ., ~ 는 그대로 사용하지만<br>\n",
    "? # $ & ' ( ) * + , / : ; = ! @, 중괄호등은<br>\n",
    "사용 불가능하다. 따라서 이들을 퍼센트 인코딩 한다.<br>\n",
    "\n",
    "% 는 %25 로 인코딩된다."
   ]
  },
  {
   "cell_type": "code",
   "execution_count": 3,
   "id": "b04e53e7",
   "metadata": {},
   "outputs": [
    {
     "name": "stdout",
     "output_type": "stream",
     "text": [
      "%23q=%ED%95%9C%EA%B8%80\n",
      "%23q=%ED%95%9C%EA%B8%80\n"
     ]
    }
   ],
   "source": [
    "import urllib\n",
    "\n",
    "print(urllib.parse.urlencode({\"#q\": \"한글\"}))\n",
    "print(urllib.parse.urlencode({\"#q\": u\"한글\".encode(\"utf-8\")}))"
   ]
  },
  {
   "cell_type": "markdown",
   "id": "708b8b65",
   "metadata": {},
   "source": [
    "인증키를 보면 '%'가 포함됐다는걸 알 수 있는데, '%'를 인코딩하려면<br>\n",
    "'%25'로 인코딩해야한다."
   ]
  },
  {
   "cell_type": "code",
   "execution_count": 5,
   "id": "5f7897fb",
   "metadata": {},
   "outputs": [
    {
     "name": "stdout",
     "output_type": "stream",
     "text": [
      "key=%253D\n"
     ]
    }
   ],
   "source": [
    "import urllib\n",
    "\n",
    "params = urllib.parse.urlencode({\"key\": \"%3D\"})\n",
    "print(params)"
   ]
  },
  {
   "cell_type": "code",
   "execution_count": 8,
   "id": "530fcc12",
   "metadata": {},
   "outputs": [
    {
     "name": "stdout",
     "output_type": "stream",
     "text": [
      "{'ip': '117.16.123.86', 'type': 'ipv4', 'continent_code': 'AS', 'continent_name': 'Asia', 'country_code': 'KR', 'country_name': 'South Korea', 'region_code': '11', 'region_name': 'Seoul', 'city': 'Seoul', 'zip': '100-011', 'latitude': 37.56100082397461, 'longitude': 126.98265075683594, 'location': {'geoname_id': 1835848, 'capital': 'Seoul', 'languages': [{'code': 'ko', 'name': 'Korean', 'native': '한국어'}], 'country_flag': 'https://assets.ipstack.com/flags/kr.svg', 'country_flag_emoji': '🇰🇷', 'country_flag_emoji_unicode': 'U+1F1F0 U+1F1F7', 'calling_code': '82', 'is_eu': False}}\n"
     ]
    }
   ],
   "source": [
    "import requests\n",
    "\n",
    "base_url = \"http://api.ipstack.com\"\n",
    "my_ip = \"117.16.123.86\"\n",
    "access_key = \"206d56513c3e8e693b91080179a4c7f3\"\n",
    "url = base_url + \"/\" + my_ip + \"?access_key=\" + access_key\n",
    "\n",
    "r = requests.get(url)\n",
    "\n",
    "import json\n",
    "\n",
    "data = json.loads(r.text)\n",
    "print(data)"
   ]
  },
  {
   "cell_type": "code",
   "execution_count": null,
   "id": "c52a295f",
   "metadata": {},
   "outputs": [],
   "source": []
  }
 ],
 "metadata": {
  "kernelspec": {
   "display_name": "bigdata_analysis",
   "language": "python",
   "name": "bigdata_analysis"
  },
  "language_info": {
   "codemirror_mode": {
    "name": "ipython",
    "version": 3
   },
   "file_extension": ".py",
   "mimetype": "text/x-python",
   "name": "python",
   "nbconvert_exporter": "python",
   "pygments_lexer": "ipython3",
   "version": "3.8.11"
  }
 },
 "nbformat": 4,
 "nbformat_minor": 5
}
